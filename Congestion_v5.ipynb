{
  "nbformat": 4,
  "nbformat_minor": 0,
  "metadata": {
    "colab": {
      "provenance": [],
      "toc_visible": true,
      "authorship_tag": "ABX9TyMd/myaN8+odmibMewMdkW1",
      "include_colab_link": true
    },
    "kernelspec": {
      "name": "python3",
      "display_name": "Python 3"
    },
    "language_info": {
      "name": "python"
    }
  },
  "cells": [
    {
      "cell_type": "markdown",
      "metadata": {
        "id": "view-in-github",
        "colab_type": "text"
      },
      "source": [
        "<a href=\"https://colab.research.google.com/github/fabriziobasso/Closet_Index_Tracking/blob/master/Congestion_v5.ipynb\" target=\"_parent\"><img src=\"https://colab.research.google.com/assets/colab-badge.svg\" alt=\"Open In Colab\"/></a>"
      ]
    },
    {
      "cell_type": "markdown",
      "source": [
        "# Time Series Studies: Tabular Playground Series - Mar 2022\n",
        "\n",
        "[Link](https://www.kaggle.com/competitions/tabular-playground-series-mar-2022/data)\n",
        "\n",
        "Based on the following Notebooks:\n",
        "1. [TFT Model](https://www.kaggle.com/code/abdulravoofshaik/private-lb-top-2-google-s-tft)\n",
        "2. [Competition Winner](https://www.kaggle.com/competitions/tabular-playground-series-mar-2022/discussion/316271)\n",
        "\n",
        "### Dataset Description\n",
        "In this competition, you'll forecast twelve-hours of traffic flow in a major U.S. metropolitan area. Time, space, and directional features give you the chance to model interactions across a network of roadways.\n",
        "\n",
        "\n",
        "Files and Field Descriptions\n",
        "\n",
        "* **train.csv** - the training set, comprising measurements of traffic congestion across 65 roadways from April through September of 1991.\n",
        "  * row_id - a unique identifier for this instance\n",
        "  * time - the 20-minute period in which each measurement was taken\n",
        "  * x - the east-west midpoint coordinate of the roadway\n",
        "  * y - the north-south midpoint coordinate of the roadway\n",
        "  * direction - the direction of travel of the roadway. EB indicates \"eastbound\" travel, for example, while SW indicates a \"southwest\" direction of travel.\n",
        "congestion - congestion levels for the roadway during each hour; the target. The congestion measurements have been normalized to the range 0 to 100.\n",
        "\n",
        "* **test.csv** - the test set; you will make hourly predictions for roadways identified by a coordinate location and a direction of travel on the day of 1991-09-30.\n",
        "* **sample_submission.csv** - a sample submission file in the correct format"
      ],
      "metadata": {
        "id": "WH9iM0pLB4rq"
      }
    },
    {
      "cell_type": "markdown",
      "metadata": {
        "id": "y7wvddu4riye"
      },
      "source": [
        "## 1.0 Install Packages:"
      ]
    },
    {
      "cell_type": "code",
      "execution_count": 1,
      "metadata": {
        "id": "NssaJaAQngVv"
      },
      "outputs": [],
      "source": [
        "%%capture\n",
        "!pip install tensorflow-addons\n",
        "#!pip install shap\n",
        "#!pip install eli5\n",
        "#!pip install tf-nightly\n",
        "#!pip install -U scikit-learn==1.2.0\n",
        "#!pip install catboost\n",
        "#!pip install haversine\n",
        "!pip install pytorch-forecasting\n",
        "!pip install umap-learn\n",
        "#!pip install reverse_geocoder\n",
        "#!pip install --upgrade protobuf\n",
        "!pip install colorama\n",
        "!pip install imbalanced-learn\n",
        "!pip install optuna\n",
        "!pip install optuna-integration\n",
        "#!pip install pygam\n",
        "!pip install keras-tuner --upgrade\n",
        "#!pip install pycaret\n",
        "!pip install lightning==2.0.1"
      ]
    },
    {
      "cell_type": "markdown",
      "metadata": {
        "id": "-aEn1w28Dxbh"
      },
      "source": [
        "## **2.0 Packages**"
      ]
    },
    {
      "cell_type": "code",
      "source": [
        "from pytorch_forecasting import Baseline, TemporalFusionTransformer, TimeSeriesDataSet\n",
        "from pytorch_forecasting.data import GroupNormalizer\n",
        "from pytorch_forecasting.metrics import SMAPE, PoissonLoss, QuantileLoss\n",
        "from pytorch_forecasting.models.temporal_fusion_transformer.tuning import optimize_hyperparameters\n",
        "\n",
        "import pytorch_lightning as pl\n",
        "from pytorch_lightning.callbacks import EarlyStopping, LearningRateMonitor\n",
        "from pytorch_lightning.loggers import TensorBoardLogger\n",
        "import torch"
      ],
      "metadata": {
        "id": "g1E3-JQp-f4g"
      },
      "execution_count": 2,
      "outputs": []
    },
    {
      "cell_type": "code",
      "execution_count": 3,
      "metadata": {
        "colab": {
          "base_uri": "https://localhost:8080/",
          "height": 69
        },
        "id": "remwXrYBDxbh",
        "outputId": "c071725c-e2af-4f05-8601-8d03c90f94ec"
      },
      "outputs": [
        {
          "output_type": "stream",
          "name": "stdout",
          "text": [
            "Importing started...\n",
            "Done, All the required modules are imported. Time elapsed: 10.238594770431519 sec\n"
          ]
        },
        {
          "output_type": "display_data",
          "data": {
            "text/plain": [
              "<Figure size 640x480 with 0 Axes>"
            ]
          },
          "metadata": {}
        }
      ],
      "source": [
        "#importing modules\n",
        "\n",
        "import warnings\n",
        "warnings.filterwarnings('ignore')\n",
        "import time\n",
        "t = time.time()\n",
        "\n",
        "print('Importing started...')\n",
        "\n",
        "# basic moduele\n",
        "import os\n",
        "import numpy as np\n",
        "import pandas as pd\n",
        "import re\n",
        "#from scipy import stats\n",
        "from random import randint\n",
        "import random\n",
        "import math\n",
        "import os\n",
        "import gc\n",
        "import pickle\n",
        "from glob import glob\n",
        "from IPython import display as ipd\n",
        "from tqdm import tqdm\n",
        "from datetime import datetime\n",
        "from joblib import dump, load\n",
        "import sklearn as sk\n",
        "from imblearn.over_sampling import SMOTE, RandomOverSampler\n",
        "from functools import partial\n",
        "import itertools\n",
        "from itertools import combinations\n",
        "import IPython\n",
        "import IPython.display\n",
        "\n",
        "# visualization moduels\n",
        "import matplotlib.pyplot as plt\n",
        "import matplotlib as mpl\n",
        "import matplotlib.gridspec as gridspec\n",
        "import matplotlib.patches as mpatches\n",
        "from matplotlib_venn import venn2_unweighted\n",
        "import seaborn as sns\n",
        "import missingno as msno\n",
        "import imblearn\n",
        "\n",
        "# Palette Setup\n",
        "colors = ['#FB5B68','#FFEB48','#2676A1','#FFBDB0',]\n",
        "colormap_0 = mpl.colors.LinearSegmentedColormap.from_list(\"\",colors)\n",
        "palette_1 = sns.color_palette(\"coolwarm\", as_cmap=True)\n",
        "palette_2 = sns.color_palette(\"YlOrBr\", as_cmap=True)\n",
        "palette_3 = sns.light_palette(\"red\", as_cmap=True)\n",
        "palette_4 = sns.color_palette(\"viridis\", as_cmap=True)\n",
        "palette_5 = sns.color_palette(\"rocket\", as_cmap=True)\n",
        "palette_6 = sns.color_palette(\"GnBu\", as_cmap=True)\n",
        "palette_7 = sns.color_palette(\"tab20c\", as_cmap=False)\n",
        "palette_8 = sns.color_palette(\"Set2\", as_cmap=False)\n",
        "\n",
        "palette_custom = ['#fbb4ae','#b3cde3','#ccebc5','#decbe4','#fed9a6','#ffffcc','#e5d8bd','#fddaec','#f2f2f2']\n",
        "palette_9 = sns.color_palette(palette_custom, as_cmap=False)\n",
        "\n",
        "sns.set_style(\"whitegrid\",{\"grid.linestyle\":\"--\", 'grid.linewidth':0.2, 'grid.alpha':0.5})\n",
        "sns.despine(left=True, bottom=True, top=False, right=False)\n",
        "\n",
        "mpl.rcParams['axes.spines.left'] = True\n",
        "mpl.rcParams['axes.spines.right'] = False\n",
        "mpl.rcParams['axes.spines.top'] = False\n",
        "mpl.rcParams['axes.spines.bottom'] = True\n",
        "\n",
        "# Style Import\n",
        "from colorama import Style, Fore\n",
        "red = Style.BRIGHT + Fore.RED\n",
        "blu = Style.BRIGHT + Fore.BLUE\n",
        "mgt = Style.BRIGHT + Fore.MAGENTA\n",
        "gld = Style.BRIGHT + Fore.YELLOW\n",
        "res = Style.RESET_ALL\n",
        "\n",
        "# preprocessing modules\n",
        "from sklearn.model_selection import (train_test_split,\n",
        "                                     KFold,\n",
        "                                     StratifiedKFold,\n",
        "                                     cross_val_score,\n",
        "                                     GroupKFold,\n",
        "                                     GridSearchCV,\n",
        "                                     RepeatedStratifiedKFold)\n",
        "\n",
        "from sklearn.preprocessing import (LabelEncoder,\n",
        "                                   StandardScaler,\n",
        "                                   MinMaxScaler,\n",
        "                                   OrdinalEncoder,\n",
        "                                   RobustScaler,\n",
        "                                   PowerTransformer,\n",
        "                                   OneHotEncoder,\n",
        "                                   LabelEncoder,\n",
        "                                   OrdinalEncoder,\n",
        "                                   PolynomialFeatures)\n",
        "\n",
        "from sklearn.decomposition import PCA\n",
        "from sklearn.compose import ColumnTransformer\n",
        "\n",
        "from sklearn.feature_selection import SelectFromModel\n",
        "\n",
        "\n",
        "# metrics\n",
        "from sklearn.metrics import (mean_squared_error,\n",
        "                             r2_score,\n",
        "                             mean_absolute_error,\n",
        "                             mean_absolute_percentage_error,\n",
        "                             classification_report,\n",
        "                             confusion_matrix,\n",
        "                             ConfusionMatrixDisplay,\n",
        "                             multilabel_confusion_matrix,\n",
        "                             accuracy_score,\n",
        "                             roc_auc_score,\n",
        "                             auc,\n",
        "                             roc_curve,\n",
        "                             log_loss)\n",
        "\n",
        "\n",
        "# modeling algos\n",
        "from sklearn.linear_model import (LogisticRegression,\n",
        "                                  Lasso,\n",
        "                                  ridge_regression,\n",
        "                                  LinearRegression,\n",
        "                                  Ridge,\n",
        "                                  RidgeCV,\n",
        "                                  ElasticNet,\n",
        "                                  BayesianRidge,\n",
        "                                  TweedieRegressor,\n",
        "                                  ARDRegression,\n",
        "                                  PoissonRegressor,\n",
        "                                  GammaRegressor)\n",
        "\n",
        "from sklearn.neighbors import KNeighborsRegressor\n",
        "\n",
        "from sklearn.tree import DecisionTreeRegressor\n",
        "from sklearn.isotonic import IsotonicRegression\n",
        "\n",
        "from sklearn.ensemble import (AdaBoostRegressor,\n",
        "                              RandomForestRegressor,\n",
        "                              RandomForestClassifier,\n",
        "                              VotingRegressor,\n",
        "                              GradientBoostingRegressor,\n",
        "                              StackingRegressor,\n",
        "                              HistGradientBoostingClassifier,\n",
        "                              ExtraTreesClassifier)\n",
        "\n",
        "from sklearn.base import BaseEstimator, TransformerMixin\n",
        "\n",
        "# Other Models\n",
        "#from pygam import LogisticGAM, s, te\n",
        "import xgboost as xgb\n",
        "from xgboost import XGBRegressor, XGBClassifier\n",
        "import lightgbm as lgb\n",
        "from lightgbm import (LGBMRegressor,\n",
        "                      LGBMClassifier,\n",
        "                      early_stopping,\n",
        "                      record_evaluation,\n",
        "                      log_evaluation)\n",
        "\n",
        "#import catboost as cat\n",
        "#from catboost import CatBoost, CatBoostRegressor\n",
        "#from catboost import CatBoostClassifier\n",
        "\n",
        "#from catboost.utils import get_roc_curve\n",
        "\n",
        "from lightgbm import early_stopping\n",
        "# check installed version\n",
        "#import pycaret\n",
        "\n",
        "from sklearn.base import clone ## sklearn base models for stacked ensemble model\n",
        "from sklearn.calibration import CalibratedClassifierCV, CalibrationDisplay\n",
        "\n",
        "#Interpretiability of the model\n",
        "#import shap\n",
        "#import eli5\n",
        "#from eli5.sklearn import PermutationImportance\n",
        "\n",
        "\n",
        "## miss\n",
        "from sklearn.pipeline import (make_pipeline,\n",
        "                              Pipeline)\n",
        "\n",
        "\n",
        "import tensorflow as tf\n",
        "from tensorflow import keras\n",
        "from tensorflow.keras import layers\n",
        "import tensorflow.keras.backend as K\n",
        "import tensorflow_addons as tfa\n",
        "from keras.utils import FeatureSpace\n",
        "\n",
        "# Import libraries for Hypertuning\n",
        "import kerastuner as kt\n",
        "from kerastuner.tuners import RandomSearch, GridSearch, BayesianOptimization\n",
        "# Model Tuning tools:\n",
        "import optuna\n",
        "from optuna.integration import TFKerasPruningCallback\n",
        "from optuna.trial import TrialState\n",
        "from optuna.visualization import plot_intermediate_values\n",
        "from optuna.visualization import plot_optimization_history\n",
        "from optuna.visualization import plot_param_importances\n",
        "from optuna.visualization import plot_contour\n",
        "%matplotlib inline\n",
        "SEED = 1984\n",
        "N_SPLITS = 10\n",
        "\n",
        "print('Done, All the required modules are imported. Time elapsed: {} sec'.format(time.time()-t))"
      ]
    },
    {
      "cell_type": "code",
      "execution_count": 4,
      "metadata": {
        "colab": {
          "base_uri": "https://localhost:8080/"
        },
        "id": "OAB1kcdZDxbi",
        "outputId": "25a89e51-c9ad-4e40-c60a-7d46ba14e4fb"
      },
      "outputs": [
        {
          "output_type": "stream",
          "name": "stdout",
          "text": [
            "CHECK VERSIONS:\n",
            "sns: 0.12.2\n",
            "mpl: 3.7.1\n",
            "tensorflow: 2.13.0\n",
            "pandas: 1.5.3\n",
            "numpy: 1.23.5\n",
            "scikit-learn: 1.2.2\n",
            "missingno: 0.5.2\n",
            "Inbalance_Learning: 0.10.1\n",
            "XGBoost: 1.7.6\n"
          ]
        }
      ],
      "source": [
        "# Check Versions:\n",
        "print(\"CHECK VERSIONS:\")\n",
        "print(f\"sns: {sns.__version__}\")\n",
        "print(f\"mpl: {mpl.__version__}\")\n",
        "print(f\"tensorflow: {tf.__version__}\")\n",
        "print(f\"pandas: {pd.__version__}\")\n",
        "print(f\"numpy: {np.__version__}\")\n",
        "print(f\"scikit-learn: {sk.__version__}\")\n",
        "#print(f\"statsmodels: {stm.__version__}\")\n",
        "print(f\"missingno: {msno.__version__}\")\n",
        "#print(f\"TF-addon: {tfa.__version__}\")\n",
        "print(f\"Inbalance_Learning: {imblearn.__version__}\")\n",
        "print(f\"XGBoost: {xgb.__version__}\")\n",
        "#print(f\"CatBoost: {cat.__version__}\")\n",
        "#print(f\"PyCaret: {pycaret.__version__}\")"
      ]
    },
    {
      "cell_type": "markdown",
      "metadata": {
        "id": "hFAGryGDDxbi"
      },
      "source": [
        "**Settings:**"
      ]
    },
    {
      "cell_type": "code",
      "execution_count": 5,
      "metadata": {
        "id": "3Yv_lYmRDxbi"
      },
      "outputs": [],
      "source": [
        "tf.random.set_seed(0)\n",
        "np.random.seed(0)\n",
        "random.seed(42)\n",
        "\n",
        "SEED = 42\n",
        "def seed_everything(seed=42):\n",
        "    random.seed(seed)\n",
        "    os.environ['PYTHONHASHSEED'] = str(seed)\n",
        "    np.random.seed(seed)\n",
        "    tf.random.set_seed(seed)\n",
        "    tf.compat.v1.set_random_seed(seed)\n",
        "    session_conf = tf.compat.v1.ConfigProto(intra_op_parallelism_threads=1, inter_op_parallelism_threads=1)\n",
        "    sess = tf.compat.v1.Session(graph=tf.compat.v1.get_default_graph(), config=session_conf)\n",
        "    tf.compat.v1.keras.backend.set_session(sess)\n",
        "\n",
        "seed_everything(SEED)"
      ]
    },
    {
      "cell_type": "code",
      "execution_count": 6,
      "metadata": {
        "id": "iq6efrlWTWc5"
      },
      "outputs": [],
      "source": [
        "input_seq_length = 48\n",
        "output_seq_length = 24\n",
        "\n",
        "lr = 0.001\n",
        "num_epochs = 100\n",
        "batch_size = 128\n",
        "hidden_size = 32\n",
        "num_gru_layers = 1\n",
        "grad_clip = 1.0\n",
        "scheduled_sampling_decay = 10\n",
        "dropout = 0.25"
      ]
    },
    {
      "cell_type": "markdown",
      "metadata": {
        "id": "STsF4sfaDxbj"
      },
      "source": [
        "### **2.1 Connect Drives**"
      ]
    },
    {
      "cell_type": "markdown",
      "metadata": {
        "id": "0D_HgNN1Dxbj"
      },
      "source": [
        "Verify System:"
      ]
    },
    {
      "cell_type": "code",
      "execution_count": 7,
      "metadata": {
        "colab": {
          "base_uri": "https://localhost:8080/"
        },
        "id": "6nucekKRDxbj",
        "outputId": "e0b4773c-b661-4ba3-db9d-c7bef7a6d14c"
      },
      "outputs": [
        {
          "output_type": "stream",
          "name": "stdout",
          "text": [
            "/bin/bash: line 1: nvidia-smi: command not found\n"
          ]
        }
      ],
      "source": [
        "gpu_info = !nvidia-smi\n",
        "gpu_info = '\\n'.join(gpu_info)\n",
        "if gpu_info.find('failed') >= 0:\n",
        "  print('Not connected to a GPU')\n",
        "else:\n",
        "  print(gpu_info)"
      ]
    },
    {
      "cell_type": "markdown",
      "metadata": {
        "id": "2xwI9dKRDxbj"
      },
      "source": [
        "Connect to Google Drive:"
      ]
    },
    {
      "cell_type": "code",
      "execution_count": 8,
      "metadata": {
        "id": "XnZHOmpDDxbj"
      },
      "outputs": [],
      "source": [
        "%%capture\n",
        "# Connect to Colab:\n",
        "from google.colab import drive\n",
        "drive.mount('/content/drive')"
      ]
    },
    {
      "cell_type": "code",
      "execution_count": 9,
      "metadata": {
        "colab": {
          "base_uri": "https://localhost:8080/"
        },
        "id": "tcufbAJ7JLTp",
        "outputId": "5c50ea80-6d06-479a-e3a7-512a9b1ce991"
      },
      "outputs": [
        {
          "output_type": "stream",
          "name": "stdout",
          "text": [
            "/content/drive/MyDrive/Exercises/Time_Series_Studies/Data/congestion_data already exists\n",
            "/content/drive/MyDrive/Exercises/Time_Series_Studies/Data/congestion_data/train_valid_data already exists\n",
            "/content/drive/MyDrive/Exercises/Time_Series_Studies/Models/congestion_data/TS_Study_0 already exists\n",
            "/content/drive/MyDrive/Exercises/Time_Series_Studies/Models/TS_Study_0/congestion_data/neural_networks/ already exists\n"
          ]
        }
      ],
      "source": [
        "folder_data = \"/content/drive/MyDrive/Exercises/Time_Series_Studies/Data/congestion_data\"\n",
        "folder_train_valid = \"/content/drive/MyDrive/Exercises/Time_Series_Studies/Data/congestion_data/train_valid_data\"\n",
        "models_folders = \"/content/drive/MyDrive/Exercises/Time_Series_Studies/Models/congestion_data/TS_Study_0\"\n",
        "folders_nn = \"/content/drive/MyDrive/Exercises/Time_Series_Studies/Models/TS_Study_0/congestion_data/neural_networks/\"\n",
        "\n",
        "list_directories = [folder_data,folder_train_valid,models_folders,folders_nn]\n",
        "\n",
        "for path in list_directories:\n",
        "  try:\n",
        "      os.mkdir(path)\n",
        "  except OSError as error:\n",
        "      print(f\"{path} already exists\")\n",
        "\n",
        "\n",
        "os.chdir(folder_data)"
      ]
    },
    {
      "cell_type": "markdown",
      "source": [
        "### 2.2 Utility Functions:"
      ],
      "metadata": {
        "id": "HuPouZ4bWyPs"
      }
    },
    {
      "cell_type": "markdown",
      "source": [
        "#### 2.2.1 Visualization Utilities:"
      ],
      "metadata": {
        "id": "JxzRVYWcW3S9"
      }
    },
    {
      "cell_type": "code",
      "source": [
        "cell_hover = {  # for row hover use <tr> instead of <td>\n",
        "    'selector': 'td:hover',\n",
        "    'props': [('background-color', '#ffffb3')]\n",
        "}\n",
        "index_names = {\n",
        "    'selector': '.index_name',\n",
        "    'props': 'font-style: italic; color: darkgrey; font-weight:normal;'\n",
        "}\n",
        "headers = {\n",
        "    'selector': 'th:not(.index_name)',\n",
        "    'props': 'background-color: #000000; color: white;'\n",
        "}\n",
        "from IPython.display import HTML\n",
        "\n",
        "def missing_data(data):\n",
        "    total = data.isnull().sum()\n",
        "    percent = (data.isnull().sum()/data.isnull().count()*100)\n",
        "    tt = pd.concat([total, percent], axis=1, keys=['Total', 'Percent'])\n",
        "    types = []\n",
        "    for col in data.columns:\n",
        "        dtype = str(data[col].dtype)\n",
        "        types.append(dtype)\n",
        "    tt['Types'] = types\n",
        "    return(np.transpose(tt))"
      ],
      "metadata": {
        "id": "Qpj1CGE6WxKM"
      },
      "execution_count": 10,
      "outputs": []
    },
    {
      "cell_type": "markdown",
      "source": [
        "#### 2.2.2 Utility Functions:"
      ],
      "metadata": {
        "id": "oc3szHj8W81E"
      }
    },
    {
      "cell_type": "markdown",
      "source": [
        "* Notes for feature engineering: Congestion depends on the following\n",
        "\n",
        "1) Time of the day ( peak time or off peak time)\n",
        "\n",
        "2) Day of the week (is it Sunday, Monday, Tuesday....)\n",
        "\n",
        "3) Is it weekend?\n",
        "\n",
        "4) direction of the flow.\n",
        "\n",
        "Keeping the above things in mind, we need to extract all the above features"
      ],
      "metadata": {
        "id": "p1oosUIkUqJQ"
      }
    },
    {
      "cell_type": "code",
      "source": [
        "from sklearn.preprocessing import FunctionTransformer\n",
        "\n",
        "def sin_transformer(period):\n",
        "    return FunctionTransformer(lambda x: np.sin(x / period * 2 * np.pi))\n",
        "def cos_transformer(period):\n",
        "    return FunctionTransformer(lambda x: np.cos(x / period * 2 * np.pi))\n",
        "\n",
        "def add_datetime_features(df):\n",
        "    df = df.reset_index()\n",
        "    df['day']     = df['time'].dt.day\n",
        "    df['weekday'] = df['time'].dt.weekday\n",
        "    df['weekend'] = (df['time'].dt.weekday >= 5)\n",
        "    df['hour']    = df['time'].dt.hour\n",
        "    df['minute']  = df['time'].dt.minute\n",
        "    df['afternoon'] = df['hour'] >= 12\n",
        "\n",
        "    # number of 20' period in a day\n",
        "    df['moment']  = df['time'].dt.hour * 3 + df['time'].dt.minute // 20\n",
        "    df['moment_sin'] = sin_transformer(72).fit_transform(df[\"moment\"])\n",
        "    df['moment_cos'] = cos_transformer(72).fit_transform(df[\"moment\"])\n",
        "\n",
        "    # change dtypes\n",
        "    df['weekend'] = df['weekend'].astype(\"int\")\n",
        "    df['afternoon'] = df['afternoon'].astype(\"int\")\n",
        "\n",
        "    df = df.set_index(\"time\")\n",
        "\n",
        "    return df\n",
        "\n",
        "def add_medians(train_ds, list_target_features, test_ds=pd.DataFrame()):\n",
        "\n",
        "  medians = pd.DataFrame(train_ds.groupby(['weekday', 'hour', 'minute'])[list_target_features].median().astype(int))\n",
        "\n",
        "  ren_dict = {a : a+\"_median\" for a in list_target_features}\n",
        "\n",
        "  medians.rename(columns=ren_dict, inplace=True)\n",
        "\n",
        "  medians = medians.reset_index()\n",
        "\n",
        "  train_ds_ = train_ds.merge(medians, on=['weekday', 'hour', 'minute'], how='left')\n",
        "  train_ds_.index = train_ds.index\n",
        "\n",
        "  if len(test_ds)!=0:\n",
        "    test_ds_ = test_ds.merge(medians, on=['weekday', 'hour', 'minute'], how='left')\n",
        "    test_ds_.index = test_ds.index\n",
        "\n",
        "  return train_ds_, test_ds_"
      ],
      "metadata": {
        "id": "Qrv2Fp-qWxG2"
      },
      "execution_count": 11,
      "outputs": []
    },
    {
      "cell_type": "markdown",
      "source": [
        "#### 2.2.3 Model Construction Functions:"
      ],
      "metadata": {
        "id": "pgySFtvjbp7D"
      }
    },
    {
      "cell_type": "code",
      "source": [],
      "metadata": {
        "id": "5KzGIqz5WxDE"
      },
      "execution_count": 11,
      "outputs": []
    },
    {
      "cell_type": "code",
      "source": [],
      "metadata": {
        "id": "GTo9n5SzWw93"
      },
      "execution_count": 11,
      "outputs": []
    },
    {
      "cell_type": "markdown",
      "source": [
        "## 3.0 Import Dataset:"
      ],
      "metadata": {
        "id": "FZ6WfcCrWxnF"
      }
    },
    {
      "cell_type": "code",
      "execution_count": 12,
      "metadata": {
        "id": "ZMgLEzYu_9ZY"
      },
      "outputs": [],
      "source": [
        "df_train = pd.read_csv('train.csv', index_col=\"row_id\", parse_dates=['time'])\n",
        "df_test = pd.read_csv('test.csv', index_col=\"row_id\", parse_dates=['time'])"
      ]
    },
    {
      "cell_type": "code",
      "source": [
        "df_train.shape,df_test.shape"
      ],
      "metadata": {
        "colab": {
          "base_uri": "https://localhost:8080/"
        },
        "id": "q8SBuhu3Lj5f",
        "outputId": "44889801-9e8a-4c98-f141-7e09daee7d08"
      },
      "execution_count": 13,
      "outputs": [
        {
          "output_type": "execute_result",
          "data": {
            "text/plain": [
              "((848835, 5), (2340, 4))"
            ]
          },
          "metadata": {},
          "execution_count": 13
        }
      ]
    },
    {
      "cell_type": "code",
      "source": [
        "df_train.sample(5)"
      ],
      "metadata": {
        "colab": {
          "base_uri": "https://localhost:8080/",
          "height": 238
        },
        "id": "dhkKVhkPdAlN",
        "outputId": "1a8e47bb-95c8-4868-e866-f5ffaf369365"
      },
      "execution_count": 14,
      "outputs": [
        {
          "output_type": "execute_result",
          "data": {
            "text/plain": [
              "                      time  x  y direction  congestion\n",
              "row_id                                                \n",
              "175256 1991-05-08 15:20:00  0  3        WB          45\n",
              "524922 1991-07-22 11:20:00  2  1        SB          37\n",
              "651648 1991-08-18 15:20:00  1  1        EB          46\n",
              "680838 1991-08-24 21:40:00  1  2        NB          59\n",
              "136445 1991-04-30 06:20:00  0  2        WB          38"
            ],
            "text/html": [
              "\n",
              "  <div id=\"df-5d724f81-8422-4d93-bc86-c81ba0f9af4a\" class=\"colab-df-container\">\n",
              "    <div>\n",
              "<style scoped>\n",
              "    .dataframe tbody tr th:only-of-type {\n",
              "        vertical-align: middle;\n",
              "    }\n",
              "\n",
              "    .dataframe tbody tr th {\n",
              "        vertical-align: top;\n",
              "    }\n",
              "\n",
              "    .dataframe thead th {\n",
              "        text-align: right;\n",
              "    }\n",
              "</style>\n",
              "<table border=\"1\" class=\"dataframe\">\n",
              "  <thead>\n",
              "    <tr style=\"text-align: right;\">\n",
              "      <th></th>\n",
              "      <th>time</th>\n",
              "      <th>x</th>\n",
              "      <th>y</th>\n",
              "      <th>direction</th>\n",
              "      <th>congestion</th>\n",
              "    </tr>\n",
              "    <tr>\n",
              "      <th>row_id</th>\n",
              "      <th></th>\n",
              "      <th></th>\n",
              "      <th></th>\n",
              "      <th></th>\n",
              "      <th></th>\n",
              "    </tr>\n",
              "  </thead>\n",
              "  <tbody>\n",
              "    <tr>\n",
              "      <th>175256</th>\n",
              "      <td>1991-05-08 15:20:00</td>\n",
              "      <td>0</td>\n",
              "      <td>3</td>\n",
              "      <td>WB</td>\n",
              "      <td>45</td>\n",
              "    </tr>\n",
              "    <tr>\n",
              "      <th>524922</th>\n",
              "      <td>1991-07-22 11:20:00</td>\n",
              "      <td>2</td>\n",
              "      <td>1</td>\n",
              "      <td>SB</td>\n",
              "      <td>37</td>\n",
              "    </tr>\n",
              "    <tr>\n",
              "      <th>651648</th>\n",
              "      <td>1991-08-18 15:20:00</td>\n",
              "      <td>1</td>\n",
              "      <td>1</td>\n",
              "      <td>EB</td>\n",
              "      <td>46</td>\n",
              "    </tr>\n",
              "    <tr>\n",
              "      <th>680838</th>\n",
              "      <td>1991-08-24 21:40:00</td>\n",
              "      <td>1</td>\n",
              "      <td>2</td>\n",
              "      <td>NB</td>\n",
              "      <td>59</td>\n",
              "    </tr>\n",
              "    <tr>\n",
              "      <th>136445</th>\n",
              "      <td>1991-04-30 06:20:00</td>\n",
              "      <td>0</td>\n",
              "      <td>2</td>\n",
              "      <td>WB</td>\n",
              "      <td>38</td>\n",
              "    </tr>\n",
              "  </tbody>\n",
              "</table>\n",
              "</div>\n",
              "    <div class=\"colab-df-buttons\">\n",
              "\n",
              "  <div class=\"colab-df-container\">\n",
              "    <button class=\"colab-df-convert\" onclick=\"convertToInteractive('df-5d724f81-8422-4d93-bc86-c81ba0f9af4a')\"\n",
              "            title=\"Convert this dataframe to an interactive table.\"\n",
              "            style=\"display:none;\">\n",
              "\n",
              "  <svg xmlns=\"http://www.w3.org/2000/svg\" height=\"24px\" viewBox=\"0 -960 960 960\">\n",
              "    <path d=\"M120-120v-720h720v720H120Zm60-500h600v-160H180v160Zm220 220h160v-160H400v160Zm0 220h160v-160H400v160ZM180-400h160v-160H180v160Zm440 0h160v-160H620v160ZM180-180h160v-160H180v160Zm440 0h160v-160H620v160Z\"/>\n",
              "  </svg>\n",
              "    </button>\n",
              "\n",
              "  <style>\n",
              "    .colab-df-container {\n",
              "      display:flex;\n",
              "      gap: 12px;\n",
              "    }\n",
              "\n",
              "    .colab-df-convert {\n",
              "      background-color: #E8F0FE;\n",
              "      border: none;\n",
              "      border-radius: 50%;\n",
              "      cursor: pointer;\n",
              "      display: none;\n",
              "      fill: #1967D2;\n",
              "      height: 32px;\n",
              "      padding: 0 0 0 0;\n",
              "      width: 32px;\n",
              "    }\n",
              "\n",
              "    .colab-df-convert:hover {\n",
              "      background-color: #E2EBFA;\n",
              "      box-shadow: 0px 1px 2px rgba(60, 64, 67, 0.3), 0px 1px 3px 1px rgba(60, 64, 67, 0.15);\n",
              "      fill: #174EA6;\n",
              "    }\n",
              "\n",
              "    .colab-df-buttons div {\n",
              "      margin-bottom: 4px;\n",
              "    }\n",
              "\n",
              "    [theme=dark] .colab-df-convert {\n",
              "      background-color: #3B4455;\n",
              "      fill: #D2E3FC;\n",
              "    }\n",
              "\n",
              "    [theme=dark] .colab-df-convert:hover {\n",
              "      background-color: #434B5C;\n",
              "      box-shadow: 0px 1px 3px 1px rgba(0, 0, 0, 0.15);\n",
              "      filter: drop-shadow(0px 1px 2px rgba(0, 0, 0, 0.3));\n",
              "      fill: #FFFFFF;\n",
              "    }\n",
              "  </style>\n",
              "\n",
              "    <script>\n",
              "      const buttonEl =\n",
              "        document.querySelector('#df-5d724f81-8422-4d93-bc86-c81ba0f9af4a button.colab-df-convert');\n",
              "      buttonEl.style.display =\n",
              "        google.colab.kernel.accessAllowed ? 'block' : 'none';\n",
              "\n",
              "      async function convertToInteractive(key) {\n",
              "        const element = document.querySelector('#df-5d724f81-8422-4d93-bc86-c81ba0f9af4a');\n",
              "        const dataTable =\n",
              "          await google.colab.kernel.invokeFunction('convertToInteractive',\n",
              "                                                    [key], {});\n",
              "        if (!dataTable) return;\n",
              "\n",
              "        const docLinkHtml = 'Like what you see? Visit the ' +\n",
              "          '<a target=\"_blank\" href=https://colab.research.google.com/notebooks/data_table.ipynb>data table notebook</a>'\n",
              "          + ' to learn more about interactive tables.';\n",
              "        element.innerHTML = '';\n",
              "        dataTable['output_type'] = 'display_data';\n",
              "        await google.colab.output.renderOutput(dataTable, element);\n",
              "        const docLink = document.createElement('div');\n",
              "        docLink.innerHTML = docLinkHtml;\n",
              "        element.appendChild(docLink);\n",
              "      }\n",
              "    </script>\n",
              "  </div>\n",
              "\n",
              "\n",
              "<div id=\"df-97d80a2d-1c49-4d59-a8f6-65f8651c168a\">\n",
              "  <button class=\"colab-df-quickchart\" onclick=\"quickchart('df-97d80a2d-1c49-4d59-a8f6-65f8651c168a')\"\n",
              "            title=\"Suggest charts.\"\n",
              "            style=\"display:none;\">\n",
              "\n",
              "<svg xmlns=\"http://www.w3.org/2000/svg\" height=\"24px\"viewBox=\"0 0 24 24\"\n",
              "     width=\"24px\">\n",
              "    <g>\n",
              "        <path d=\"M19 3H5c-1.1 0-2 .9-2 2v14c0 1.1.9 2 2 2h14c1.1 0 2-.9 2-2V5c0-1.1-.9-2-2-2zM9 17H7v-7h2v7zm4 0h-2V7h2v10zm4 0h-2v-4h2v4z\"/>\n",
              "    </g>\n",
              "</svg>\n",
              "  </button>\n",
              "\n",
              "<style>\n",
              "  .colab-df-quickchart {\n",
              "      --bg-color: #E8F0FE;\n",
              "      --fill-color: #1967D2;\n",
              "      --hover-bg-color: #E2EBFA;\n",
              "      --hover-fill-color: #174EA6;\n",
              "      --disabled-fill-color: #AAA;\n",
              "      --disabled-bg-color: #DDD;\n",
              "  }\n",
              "\n",
              "  [theme=dark] .colab-df-quickchart {\n",
              "      --bg-color: #3B4455;\n",
              "      --fill-color: #D2E3FC;\n",
              "      --hover-bg-color: #434B5C;\n",
              "      --hover-fill-color: #FFFFFF;\n",
              "      --disabled-bg-color: #3B4455;\n",
              "      --disabled-fill-color: #666;\n",
              "  }\n",
              "\n",
              "  .colab-df-quickchart {\n",
              "    background-color: var(--bg-color);\n",
              "    border: none;\n",
              "    border-radius: 50%;\n",
              "    cursor: pointer;\n",
              "    display: none;\n",
              "    fill: var(--fill-color);\n",
              "    height: 32px;\n",
              "    padding: 0;\n",
              "    width: 32px;\n",
              "  }\n",
              "\n",
              "  .colab-df-quickchart:hover {\n",
              "    background-color: var(--hover-bg-color);\n",
              "    box-shadow: 0 1px 2px rgba(60, 64, 67, 0.3), 0 1px 3px 1px rgba(60, 64, 67, 0.15);\n",
              "    fill: var(--button-hover-fill-color);\n",
              "  }\n",
              "\n",
              "  .colab-df-quickchart-complete:disabled,\n",
              "  .colab-df-quickchart-complete:disabled:hover {\n",
              "    background-color: var(--disabled-bg-color);\n",
              "    fill: var(--disabled-fill-color);\n",
              "    box-shadow: none;\n",
              "  }\n",
              "\n",
              "  .colab-df-spinner {\n",
              "    border: 2px solid var(--fill-color);\n",
              "    border-color: transparent;\n",
              "    border-bottom-color: var(--fill-color);\n",
              "    animation:\n",
              "      spin 1s steps(1) infinite;\n",
              "  }\n",
              "\n",
              "  @keyframes spin {\n",
              "    0% {\n",
              "      border-color: transparent;\n",
              "      border-bottom-color: var(--fill-color);\n",
              "      border-left-color: var(--fill-color);\n",
              "    }\n",
              "    20% {\n",
              "      border-color: transparent;\n",
              "      border-left-color: var(--fill-color);\n",
              "      border-top-color: var(--fill-color);\n",
              "    }\n",
              "    30% {\n",
              "      border-color: transparent;\n",
              "      border-left-color: var(--fill-color);\n",
              "      border-top-color: var(--fill-color);\n",
              "      border-right-color: var(--fill-color);\n",
              "    }\n",
              "    40% {\n",
              "      border-color: transparent;\n",
              "      border-right-color: var(--fill-color);\n",
              "      border-top-color: var(--fill-color);\n",
              "    }\n",
              "    60% {\n",
              "      border-color: transparent;\n",
              "      border-right-color: var(--fill-color);\n",
              "    }\n",
              "    80% {\n",
              "      border-color: transparent;\n",
              "      border-right-color: var(--fill-color);\n",
              "      border-bottom-color: var(--fill-color);\n",
              "    }\n",
              "    90% {\n",
              "      border-color: transparent;\n",
              "      border-bottom-color: var(--fill-color);\n",
              "    }\n",
              "  }\n",
              "</style>\n",
              "\n",
              "  <script>\n",
              "    async function quickchart(key) {\n",
              "      const quickchartButtonEl =\n",
              "        document.querySelector('#' + key + ' button');\n",
              "      quickchartButtonEl.disabled = true;  // To prevent multiple clicks.\n",
              "      quickchartButtonEl.classList.add('colab-df-spinner');\n",
              "      try {\n",
              "        const charts = await google.colab.kernel.invokeFunction(\n",
              "            'suggestCharts', [key], {});\n",
              "      } catch (error) {\n",
              "        console.error('Error during call to suggestCharts:', error);\n",
              "      }\n",
              "      quickchartButtonEl.classList.remove('colab-df-spinner');\n",
              "      quickchartButtonEl.classList.add('colab-df-quickchart-complete');\n",
              "    }\n",
              "    (() => {\n",
              "      let quickchartButtonEl =\n",
              "        document.querySelector('#df-97d80a2d-1c49-4d59-a8f6-65f8651c168a button');\n",
              "      quickchartButtonEl.style.display =\n",
              "        google.colab.kernel.accessAllowed ? 'block' : 'none';\n",
              "    })();\n",
              "  </script>\n",
              "</div>\n",
              "    </div>\n",
              "  </div>\n"
            ]
          },
          "metadata": {},
          "execution_count": 14
        }
      ]
    },
    {
      "cell_type": "markdown",
      "source": [
        "* **Time Range**"
      ],
      "metadata": {
        "id": "jveB8vzbdK1c"
      }
    },
    {
      "cell_type": "code",
      "source": [
        "print(\"TRAIN DATASET\\n\")\n",
        "print(\"Train Starting time: {}\\nTrain Ending time: {}\".format(df_train.time.min(),df_train.time.max()))\n",
        "print(\"\\nTEST DATASET\\n\")\n",
        "print(\"Test Starting time: {}\\nTrain Ending time: {}\".format(df_test.time.min(),df_test.time.max()))"
      ],
      "metadata": {
        "colab": {
          "base_uri": "https://localhost:8080/"
        },
        "id": "X5XkkTI1dKmV",
        "outputId": "b51f16a9-9235-4c12-a19d-3951b293f804"
      },
      "execution_count": 15,
      "outputs": [
        {
          "output_type": "stream",
          "name": "stdout",
          "text": [
            "TRAIN DATASET\n",
            "\n",
            "Train Starting time: 1991-04-01 00:00:00\n",
            "Train Ending time: 1991-09-30 11:40:00\n",
            "\n",
            "TEST DATASET\n",
            "\n",
            "Test Starting time: 1991-09-30 12:00:00\n",
            "Train Ending time: 1991-09-30 23:40:00\n"
          ]
        }
      ]
    },
    {
      "cell_type": "markdown",
      "source": [
        "* **Test for NaN Values**"
      ],
      "metadata": {
        "id": "Xd-nI0GMURXQ"
      }
    },
    {
      "cell_type": "code",
      "source": [
        "print(\"TRAIN DATASET\\n\")\n",
        "print(\"Total NaN Values: {}\".format(df_train.isna().sum().sum()))\n",
        "print(\"Total Null Values: {}\".format(df_train.isnull().sum().sum()))"
      ],
      "metadata": {
        "id": "nzIhZ-5JLsux",
        "colab": {
          "base_uri": "https://localhost:8080/"
        },
        "outputId": "d112e36a-2fd4-4e64-d057-633805e8067c"
      },
      "execution_count": 16,
      "outputs": [
        {
          "output_type": "stream",
          "name": "stdout",
          "text": [
            "TRAIN DATASET\n",
            "\n",
            "Total NaN Values: 0\n",
            "Total Null Values: 0\n"
          ]
        }
      ]
    },
    {
      "cell_type": "code",
      "source": [
        "print(\"Test DATASET\\n\")\n",
        "print(\"Total NaN Values: {}\".format(df_test.isna().sum().sum()))\n",
        "print(\"Total Null Values: {}\".format(df_test.isnull().sum().sum()))"
      ],
      "metadata": {
        "colab": {
          "base_uri": "https://localhost:8080/"
        },
        "id": "uDxINZNZULuk",
        "outputId": "466972de-eb34-4bbb-ad4b-6d3012c344b9"
      },
      "execution_count": 17,
      "outputs": [
        {
          "output_type": "stream",
          "name": "stdout",
          "text": [
            "Test DATASET\n",
            "\n",
            "Total NaN Values: 0\n",
            "Total Null Values: 0\n"
          ]
        }
      ]
    },
    {
      "cell_type": "code",
      "source": [
        "train_df_notarget=df_train.drop(['congestion'], axis = 1)\n",
        "cols = [e for e in df_test.columns]\n",
        "common_df = pd.merge(df_train, df_test, how='inner', on=cols)\n",
        "# depict venn diagram\n",
        "venn2_unweighted(subsets = (len(df_train) , len(df_test) , len(common_df)), set_labels = ('Train', 'Test'), subset_areas = (1, 0.5, 0.1),set_colors = ('silver', 'gold'));"
      ],
      "metadata": {
        "colab": {
          "base_uri": "https://localhost:8080/",
          "height": 379
        },
        "id": "1KbnjaJwUYpy",
        "outputId": "36b6773c-3b69-4d92-804a-11be4d7e6609"
      },
      "execution_count": 18,
      "outputs": [
        {
          "output_type": "display_data",
          "data": {
            "text/plain": [
              "<Figure size 640x480 with 1 Axes>"
            ],
            "image/png": "[encoded data removed]"
          },
          "metadata": {}
        }
      ]
    },
    {
      "cell_type": "code",
      "source": [
        "print(\"==\"*30)\n",
        "print('TRAIN')\n",
        "print(\"==\"*30)\n",
        "s=df_train.describe()\n",
        "display(s.style.set_table_styles([cell_hover, index_names, headers]))\n",
        "print(\"==\"*30)\n",
        "print('TEST')\n",
        "print(\"==\"*30)\n",
        "s=df_test.describe()\n",
        "display(s.style.set_table_styles([cell_hover, index_names, headers]))"
      ],
      "metadata": {
        "colab": {
          "base_uri": "https://localhost:8080/",
          "height": 688
        },
        "id": "9vrU1Nu4U-WT",
        "outputId": "67493982-6983-4056-de7a-dfb0736ff1aa"
      },
      "execution_count": 19,
      "outputs": [
        {
          "output_type": "stream",
          "name": "stdout",
          "text": [
            "============================================================\n",
            "TRAIN\n",
            "============================================================\n"
          ]
        },
        {
          "output_type": "display_data",
          "data": {
            "text/plain": [
              "<pandas.io.formats.style.Styler at 0x7cbda19135b0>"
            ],
            "text/html": [
              "<style type=\"text/css\">\n",
              "#T_5fd42 td:hover {\n",
              "  background-color: #ffffb3;\n",
              "}\n",
              "#T_5fd42 .index_name {\n",
              "  font-style: italic;\n",
              "  color: darkgrey;\n",
              "  font-weight: normal;\n",
              "}\n",
              "#T_5fd42 th:not(.index_name) {\n",
              "  background-color: #000000;\n",
              "  color: white;\n",
              "}\n",
              "</style>\n",
              "<table id=\"T_5fd42\" class=\"dataframe\">\n",
              "  <thead>\n",
              "    <tr>\n",
              "      <th class=\"blank level0\" >&nbsp;</th>\n",
              "      <th id=\"T_5fd42_level0_col0\" class=\"col_heading level0 col0\" >x</th>\n",
              "      <th id=\"T_5fd42_level0_col1\" class=\"col_heading level0 col1\" >y</th>\n",
              "      <th id=\"T_5fd42_level0_col2\" class=\"col_heading level0 col2\" >congestion</th>\n",
              "    </tr>\n",
              "  </thead>\n",
              "  <tbody>\n",
              "    <tr>\n",
              "      <th id=\"T_5fd42_level0_row0\" class=\"row_heading level0 row0\" >count</th>\n",
              "      <td id=\"T_5fd42_row0_col0\" class=\"data row0 col0\" >848835.000000</td>\n",
              "      <td id=\"T_5fd42_row0_col1\" class=\"data row0 col1\" >848835.000000</td>\n",
              "      <td id=\"T_5fd42_row0_col2\" class=\"data row0 col2\" >848835.000000</td>\n",
              "    </tr>\n",
              "    <tr>\n",
              "      <th id=\"T_5fd42_level0_row1\" class=\"row_heading level0 row1\" >mean</th>\n",
              "      <td id=\"T_5fd42_row1_col0\" class=\"data row1 col0\" >1.138462</td>\n",
              "      <td id=\"T_5fd42_row1_col1\" class=\"data row1 col1\" >1.630769</td>\n",
              "      <td id=\"T_5fd42_row1_col2\" class=\"data row1 col2\" >47.815305</td>\n",
              "    </tr>\n",
              "    <tr>\n",
              "      <th id=\"T_5fd42_level0_row2\" class=\"row_heading level0 row2\" >std</th>\n",
              "      <td id=\"T_5fd42_row2_col0\" class=\"data row2 col0\" >0.801478</td>\n",
              "      <td id=\"T_5fd42_row2_col1\" class=\"data row2 col1\" >1.089379</td>\n",
              "      <td id=\"T_5fd42_row2_col2\" class=\"data row2 col2\" >16.799392</td>\n",
              "    </tr>\n",
              "    <tr>\n",
              "      <th id=\"T_5fd42_level0_row3\" class=\"row_heading level0 row3\" >min</th>\n",
              "      <td id=\"T_5fd42_row3_col0\" class=\"data row3 col0\" >0.000000</td>\n",
              "      <td id=\"T_5fd42_row3_col1\" class=\"data row3 col1\" >0.000000</td>\n",
              "      <td id=\"T_5fd42_row3_col2\" class=\"data row3 col2\" >0.000000</td>\n",
              "    </tr>\n",
              "    <tr>\n",
              "      <th id=\"T_5fd42_level0_row4\" class=\"row_heading level0 row4\" >25%</th>\n",
              "      <td id=\"T_5fd42_row4_col0\" class=\"data row4 col0\" >0.000000</td>\n",
              "      <td id=\"T_5fd42_row4_col1\" class=\"data row4 col1\" >1.000000</td>\n",
              "      <td id=\"T_5fd42_row4_col2\" class=\"data row4 col2\" >35.000000</td>\n",
              "    </tr>\n",
              "    <tr>\n",
              "      <th id=\"T_5fd42_level0_row5\" class=\"row_heading level0 row5\" >50%</th>\n",
              "      <td id=\"T_5fd42_row5_col0\" class=\"data row5 col0\" >1.000000</td>\n",
              "      <td id=\"T_5fd42_row5_col1\" class=\"data row5 col1\" >2.000000</td>\n",
              "      <td id=\"T_5fd42_row5_col2\" class=\"data row5 col2\" >47.000000</td>\n",
              "    </tr>\n",
              "    <tr>\n",
              "      <th id=\"T_5fd42_level0_row6\" class=\"row_heading level0 row6\" >75%</th>\n",
              "      <td id=\"T_5fd42_row6_col0\" class=\"data row6 col0\" >2.000000</td>\n",
              "      <td id=\"T_5fd42_row6_col1\" class=\"data row6 col1\" >3.000000</td>\n",
              "      <td id=\"T_5fd42_row6_col2\" class=\"data row6 col2\" >60.000000</td>\n",
              "    </tr>\n",
              "    <tr>\n",
              "      <th id=\"T_5fd42_level0_row7\" class=\"row_heading level0 row7\" >max</th>\n",
              "      <td id=\"T_5fd42_row7_col0\" class=\"data row7 col0\" >2.000000</td>\n",
              "      <td id=\"T_5fd42_row7_col1\" class=\"data row7 col1\" >3.000000</td>\n",
              "      <td id=\"T_5fd42_row7_col2\" class=\"data row7 col2\" >100.000000</td>\n",
              "    </tr>\n",
              "  </tbody>\n",
              "</table>\n"
            ]
          },
          "metadata": {}
        },
        {
          "output_type": "stream",
          "name": "stdout",
          "text": [
            "============================================================\n",
            "TEST\n",
            "============================================================\n"
          ]
        },
        {
          "output_type": "display_data",
          "data": {
            "text/plain": [
              "<pandas.io.formats.style.Styler at 0x7cbe078b8460>"
            ],
            "text/html": [
              "<style type=\"text/css\">\n",
              "#T_e289a td:hover {\n",
              "  background-color: #ffffb3;\n",
              "}\n",
              "#T_e289a .index_name {\n",
              "  font-style: italic;\n",
              "  color: darkgrey;\n",
              "  font-weight: normal;\n",
              "}\n",
              "#T_e289a th:not(.index_name) {\n",
              "  background-color: #000000;\n",
              "  color: white;\n",
              "}\n",
              "</style>\n",
              "<table id=\"T_e289a\" class=\"dataframe\">\n",
              "  <thead>\n",
              "    <tr>\n",
              "      <th class=\"blank level0\" >&nbsp;</th>\n",
              "      <th id=\"T_e289a_level0_col0\" class=\"col_heading level0 col0\" >x</th>\n",
              "      <th id=\"T_e289a_level0_col1\" class=\"col_heading level0 col1\" >y</th>\n",
              "    </tr>\n",
              "  </thead>\n",
              "  <tbody>\n",
              "    <tr>\n",
              "      <th id=\"T_e289a_level0_row0\" class=\"row_heading level0 row0\" >count</th>\n",
              "      <td id=\"T_e289a_row0_col0\" class=\"data row0 col0\" >2340.000000</td>\n",
              "      <td id=\"T_e289a_row0_col1\" class=\"data row0 col1\" >2340.000000</td>\n",
              "    </tr>\n",
              "    <tr>\n",
              "      <th id=\"T_e289a_level0_row1\" class=\"row_heading level0 row1\" >mean</th>\n",
              "      <td id=\"T_e289a_row1_col0\" class=\"data row1 col0\" >1.138462</td>\n",
              "      <td id=\"T_e289a_row1_col1\" class=\"data row1 col1\" >1.630769</td>\n",
              "    </tr>\n",
              "    <tr>\n",
              "      <th id=\"T_e289a_level0_row2\" class=\"row_heading level0 row2\" >std</th>\n",
              "      <td id=\"T_e289a_row2_col0\" class=\"data row2 col0\" >0.801649</td>\n",
              "      <td id=\"T_e289a_row2_col1\" class=\"data row2 col1\" >1.089611</td>\n",
              "    </tr>\n",
              "    <tr>\n",
              "      <th id=\"T_e289a_level0_row3\" class=\"row_heading level0 row3\" >min</th>\n",
              "      <td id=\"T_e289a_row3_col0\" class=\"data row3 col0\" >0.000000</td>\n",
              "      <td id=\"T_e289a_row3_col1\" class=\"data row3 col1\" >0.000000</td>\n",
              "    </tr>\n",
              "    <tr>\n",
              "      <th id=\"T_e289a_level0_row4\" class=\"row_heading level0 row4\" >25%</th>\n",
              "      <td id=\"T_e289a_row4_col0\" class=\"data row4 col0\" >0.000000</td>\n",
              "      <td id=\"T_e289a_row4_col1\" class=\"data row4 col1\" >1.000000</td>\n",
              "    </tr>\n",
              "    <tr>\n",
              "      <th id=\"T_e289a_level0_row5\" class=\"row_heading level0 row5\" >50%</th>\n",
              "      <td id=\"T_e289a_row5_col0\" class=\"data row5 col0\" >1.000000</td>\n",
              "      <td id=\"T_e289a_row5_col1\" class=\"data row5 col1\" >2.000000</td>\n",
              "    </tr>\n",
              "    <tr>\n",
              "      <th id=\"T_e289a_level0_row6\" class=\"row_heading level0 row6\" >75%</th>\n",
              "      <td id=\"T_e289a_row6_col0\" class=\"data row6 col0\" >2.000000</td>\n",
              "      <td id=\"T_e289a_row6_col1\" class=\"data row6 col1\" >3.000000</td>\n",
              "    </tr>\n",
              "    <tr>\n",
              "      <th id=\"T_e289a_level0_row7\" class=\"row_heading level0 row7\" >max</th>\n",
              "      <td id=\"T_e289a_row7_col0\" class=\"data row7 col0\" >2.000000</td>\n",
              "      <td id=\"T_e289a_row7_col1\" class=\"data row7 col1\" >3.000000</td>\n",
              "    </tr>\n",
              "  </tbody>\n",
              "</table>\n"
            ]
          },
          "metadata": {}
        }
      ]
    },
    {
      "cell_type": "code",
      "source": [
        "fig, axs = plt.subplots(3,1,figsize=(10,6))\n",
        "sns.histplot(data=df_train, x=\"congestion\", ax=axs[0]);\n",
        "sns.histplot(data=df_train, x=\"x\", ax=axs[1], color=\"crimson\");\n",
        "sns.histplot(data=df_train, x=\"y\", ax=axs[2], color=\"olive\");"
      ],
      "metadata": {
        "colab": {
          "base_uri": "https://localhost:8080/",
          "height": 542
        },
        "id": "nl98oSIQb19G",
        "outputId": "e6b92b30-54de-4448-c131-b70be4b650e3"
      },
      "execution_count": 20,
      "outputs": [
        {
          "output_type": "display_data",
          "data": {
            "text/plain": [
              "<Figure size 1000x600 with 3 Axes>"
            ],
            "image/png": "[encoded data removed]"
          },
          "metadata": {}
        }
      ]
    },
    {
      "cell_type": "code",
      "source": [
        "plt.scatter(df_train.x,df_train.y);"
      ],
      "metadata": {
        "colab": {
          "base_uri": "https://localhost:8080/",
          "height": 430
        },
        "id": "ZB8xXdSmSaJP",
        "outputId": "8c9f4c0d-9b23-4d76-d0a2-b04017bae263"
      },
      "execution_count": 21,
      "outputs": [
        {
          "output_type": "display_data",
          "data": {
            "text/plain": [
              "<Figure size 640x480 with 1 Axes>"
            ],
            "image/png": "[encoded data removed]"
          },
          "metadata": {}
        }
      ]
    },
    {
      "cell_type": "code",
      "source": [
        "df_train.info()"
      ],
      "metadata": {
        "id": "ekKswHZRcqDl",
        "colab": {
          "base_uri": "https://localhost:8080/"
        },
        "outputId": "533619d7-7fe8-44c7-b04b-2806cc13429b"
      },
      "execution_count": 22,
      "outputs": [
        {
          "output_type": "stream",
          "name": "stdout",
          "text": [
            "<class 'pandas.core.frame.DataFrame'>\n",
            "Int64Index: 848835 entries, 0 to 848834\n",
            "Data columns (total 5 columns):\n",
            " #   Column      Non-Null Count   Dtype         \n",
            "---  ------      --------------   -----         \n",
            " 0   time        848835 non-null  datetime64[ns]\n",
            " 1   x           848835 non-null  int64         \n",
            " 2   y           848835 non-null  int64         \n",
            " 3   direction   848835 non-null  object        \n",
            " 4   congestion  848835 non-null  int64         \n",
            "dtypes: datetime64[ns](1), int64(3), object(1)\n",
            "memory usage: 38.9+ MB\n"
          ]
        }
      ]
    },
    {
      "cell_type": "code",
      "source": [
        "# import itertools package\n",
        "import itertools\n",
        "from itertools import permutations\n",
        "\n",
        "df_timeseries_train = pd.DataFrame()\n",
        "y_unique = list(df_train.y.unique())\n",
        "x_unique = list(df_train.x.unique())\n",
        "\n",
        "\n",
        "\n",
        "# create empty list to store the\n",
        "# combinations\n",
        "unique_combinations = []\n",
        "\n",
        "for i in range(len(x_unique)):\n",
        "    for j in range(len(y_unique)):\n",
        "        unique_combinations.append((x_unique[i], y_unique[j]))\n",
        "\n",
        "print(unique_combinations)\n",
        "\n",
        "\n",
        "df_grouped = df_train.reset_index().groupby([\"x\",\"y\",\"direction\",\"time\"], as_index=False)[[\"congestion\",\"row_id\"]].agg(\"first\")\n",
        "df_grouped_test = df_test.reset_index().groupby([\"x\",\"y\",\"direction\",\"time\"], as_index=False)[[\"row_id\"]].agg(\"first\")\n",
        "df_grouped_test[\"congestion\"]=np.nan"
      ],
      "metadata": {
        "id": "BzM3VzgPSE_P",
        "colab": {
          "base_uri": "https://localhost:8080/"
        },
        "outputId": "273fb410-ca8f-4a9e-b296-ffec51ae984d"
      },
      "execution_count": 23,
      "outputs": [
        {
          "output_type": "stream",
          "name": "stdout",
          "text": [
            "[(0, 0), (0, 1), (0, 2), (0, 3), (1, 0), (1, 1), (1, 2), (1, 3), (2, 0), (2, 1), (2, 2), (2, 3)]\n"
          ]
        }
      ]
    },
    {
      "cell_type": "code",
      "source": [
        "list_names = []\n",
        "list_ts = []\n",
        "\n",
        "list_names_test = []\n",
        "list_ts_test = []\n",
        "\n",
        "for num, (a, b) in tqdm(enumerate(unique_combinations)):\n",
        "\n",
        "#  print(f\"X@{a} and Y@{b} has {df_grouped[(df_grouped.x==a)&(df_grouped.y==b)].direction.unique()}\")#df_grouped[(df_grouped.x==a)&(df_grouped.y==b)].direction.unique())#[\"congestion\"]\n",
        "\n",
        "  local_unique_directions = list(df_grouped[(df_grouped.x==a)&(df_grouped.y==b)].direction.unique())\n",
        "\n",
        "  for uniq in local_unique_directions:\n",
        "    name = f\"{a}{b}_{uniq}\"\n",
        "    list_names.append(name)\n",
        "    local_ts = df_grouped[(df_grouped.x==a)&(df_grouped.y==b)&(df_grouped.direction==uniq)][[\"time\",\"congestion\"]]\n",
        "    local_ts.rename({\"congestion\":name}, axis=1, inplace=True)\n",
        "    local_ts.set_index(\"time\", inplace=True)\n",
        "    list_ts.append(local_ts)\n",
        "\n",
        "    local_ts_test = df_grouped_test[(df_grouped_test.x==a)&(df_grouped_test.y==b)&(df_grouped_test.direction==uniq)][[\"time\",\"congestion\"]]\n",
        "    local_ts_test.rename({\"congestion\":name}, axis=1, inplace=True)\n",
        "    local_ts_test.set_index(\"time\", inplace=True)\n",
        "    list_ts_test.append(local_ts_test)"
      ],
      "metadata": {
        "colab": {
          "base_uri": "https://localhost:8080/"
        },
        "id": "HuWW8Y47hEps",
        "outputId": "0cdff4d5-0424-4135-a5af-0e002125a138"
      },
      "execution_count": 24,
      "outputs": [
        {
          "output_type": "stream",
          "name": "stderr",
          "text": [
            "12it [00:04,  2.40it/s]\n"
          ]
        }
      ]
    },
    {
      "cell_type": "code",
      "source": [
        "df_grouped_test"
      ],
      "metadata": {
        "colab": {
          "base_uri": "https://localhost:8080/",
          "height": 424
        },
        "id": "dabe5JKev8c0",
        "outputId": "1b286c05-ed0a-46cd-f708-268a8f354f68"
      },
      "execution_count": 25,
      "outputs": [
        {
          "output_type": "execute_result",
          "data": {
            "text/plain": [
              "      x  y direction                time  row_id  congestion\n",
              "0     0  0        EB 1991-09-30 12:00:00  848835         NaN\n",
              "1     0  0        EB 1991-09-30 12:20:00  848900         NaN\n",
              "2     0  0        EB 1991-09-30 12:40:00  848965         NaN\n",
              "3     0  0        EB 1991-09-30 13:00:00  849030         NaN\n",
              "4     0  0        EB 1991-09-30 13:20:00  849095         NaN\n",
              "...  .. ..       ...                 ...     ...         ...\n",
              "2335  2  3        WB 1991-09-30 22:20:00  850914         NaN\n",
              "2336  2  3        WB 1991-09-30 22:40:00  850979         NaN\n",
              "2337  2  3        WB 1991-09-30 23:00:00  851044         NaN\n",
              "2338  2  3        WB 1991-09-30 23:20:00  851109         NaN\n",
              "2339  2  3        WB 1991-09-30 23:40:00  851174         NaN\n",
              "\n",
              "[2340 rows x 6 columns]"
            ],
            "text/html": [
              "\n",
              "  <div id=\"df-34a3f2c6-7534-4fff-9e06-daad109cdd4a\" class=\"colab-df-container\">\n",
              "    <div>\n",
              "<style scoped>\n",
              "    .dataframe tbody tr th:only-of-type {\n",
              "        vertical-align: middle;\n",
              "    }\n",
              "\n",
              "    .dataframe tbody tr th {\n",
              "        vertical-align: top;\n",
              "    }\n",
              "\n",
              "    .dataframe thead th {\n",
              "        text-align: right;\n",
              "    }\n",
              "</style>\n",
              "<table border=\"1\" class=\"dataframe\">\n",
              "  <thead>\n",
              "    <tr style=\"text-align: right;\">\n",
              "      <th></th>\n",
              "      <th>x</th>\n",
              "      <th>y</th>\n",
              "      <th>direction</th>\n",
              "      <th>time</th>\n",
              "      <th>row_id</th>\n",
              "      <th>congestion</th>\n",
              "    </tr>\n",
              "  </thead>\n",
              "  <tbody>\n",
              "    <tr>\n",
              "      <th>0</th>\n",
              "      <td>0</td>\n",
              "      <td>0</td>\n",
              "      <td>EB</td>\n",
              "      <td>1991-09-30 12:00:00</td>\n",
              "      <td>848835</td>\n",
              "      <td>NaN</td>\n",
              "    </tr>\n",
              "    <tr>\n",
              "      <th>1</th>\n",
              "      <td>0</td>\n",
              "      <td>0</td>\n",
              "      <td>EB</td>\n",
              "      <td>1991-09-30 12:20:00</td>\n",
              "      <td>848900</td>\n",
              "      <td>NaN</td>\n",
              "    </tr>\n",
              "    <tr>\n",
              "      <th>2</th>\n",
              "      <td>0</td>\n",
              "      <td>0</td>\n",
              "      <td>EB</td>\n",
              "      <td>1991-09-30 12:40:00</td>\n",
              "      <td>848965</td>\n",
              "      <td>NaN</td>\n",
              "    </tr>\n",
              "    <tr>\n",
              "      <th>3</th>\n",
              "      <td>0</td>\n",
              "      <td>0</td>\n",
              "      <td>EB</td>\n",
              "      <td>1991-09-30 13:00:00</td>\n",
              "      <td>849030</td>\n",
              "      <td>NaN</td>\n",
              "    </tr>\n",
              "    <tr>\n",
              "      <th>4</th>\n",
              "      <td>0</td>\n",
              "      <td>0</td>\n",
              "      <td>EB</td>\n",
              "      <td>1991-09-30 13:20:00</td>\n",
              "      <td>849095</td>\n",
              "      <td>NaN</td>\n",
              "    </tr>\n",
              "    <tr>\n",
              "      <th>...</th>\n",
              "      <td>...</td>\n",
              "      <td>...</td>\n",
              "      <td>...</td>\n",
              "      <td>...</td>\n",
              "      <td>...</td>\n",
              "      <td>...</td>\n",
              "    </tr>\n",
              "    <tr>\n",
              "      <th>2335</th>\n",
              "      <td>2</td>\n",
              "      <td>3</td>\n",
              "      <td>WB</td>\n",
              "      <td>1991-09-30 22:20:00</td>\n",
              "      <td>850914</td>\n",
              "      <td>NaN</td>\n",
              "    </tr>\n",
              "    <tr>\n",
              "      <th>2336</th>\n",
              "      <td>2</td>\n",
              "      <td>3</td>\n",
              "      <td>WB</td>\n",
              "      <td>1991-09-30 22:40:00</td>\n",
              "      <td>850979</td>\n",
              "      <td>NaN</td>\n",
              "    </tr>\n",
              "    <tr>\n",
              "      <th>2337</th>\n",
              "      <td>2</td>\n",
              "      <td>3</td>\n",
              "      <td>WB</td>\n",
              "      <td>1991-09-30 23:00:00</td>\n",
              "      <td>851044</td>\n",
              "      <td>NaN</td>\n",
              "    </tr>\n",
              "    <tr>\n",
              "      <th>2338</th>\n",
              "      <td>2</td>\n",
              "      <td>3</td>\n",
              "      <td>WB</td>\n",
              "      <td>1991-09-30 23:20:00</td>\n",
              "      <td>851109</td>\n",
              "      <td>NaN</td>\n",
              "    </tr>\n",
              "    <tr>\n",
              "      <th>2339</th>\n",
              "      <td>2</td>\n",
              "      <td>3</td>\n",
              "      <td>WB</td>\n",
              "      <td>1991-09-30 23:40:00</td>\n",
              "      <td>851174</td>\n",
              "      <td>NaN</td>\n",
              "    </tr>\n",
              "  </tbody>\n",
              "</table>\n",
              "<p>2340 rows × 6 columns</p>\n",
              "</div>\n",
              "    <div class=\"colab-df-buttons\">\n",
              "\n",
              "  <div class=\"colab-df-container\">\n",
              "    <button class=\"colab-df-convert\" onclick=\"convertToInteractive('df-34a3f2c6-7534-4fff-9e06-daad109cdd4a')\"\n",
              "            title=\"Convert this dataframe to an interactive table.\"\n",
              "            style=\"display:none;\">\n",
              "\n",
              "  <svg xmlns=\"http://www.w3.org/2000/svg\" height=\"24px\" viewBox=\"0 -960 960 960\">\n",
              "    <path d=\"M120-120v-720h720v720H120Zm60-500h600v-160H180v160Zm220 220h160v-160H400v160Zm0 220h160v-160H400v160ZM180-400h160v-160H180v160Zm440 0h160v-160H620v160ZM180-180h160v-160H180v160Zm440 0h160v-160H620v160Z\"/>\n",
              "  </svg>\n",
              "    </button>\n",
              "\n",
              "  <style>\n",
              "    .colab-df-container {\n",
              "      display:flex;\n",
              "      gap: 12px;\n",
              "    }\n",
              "\n",
              "    .colab-df-convert {\n",
              "      background-color: #E8F0FE;\n",
              "      border: none;\n",
              "      border-radius: 50%;\n",
              "      cursor: pointer;\n",
              "      display: none;\n",
              "      fill: #1967D2;\n",
              "      height: 32px;\n",
              "      padding: 0 0 0 0;\n",
              "      width: 32px;\n",
              "    }\n",
              "\n",
              "    .colab-df-convert:hover {\n",
              "      background-color: #E2EBFA;\n",
              "      box-shadow: 0px 1px 2px rgba(60, 64, 67, 0.3), 0px 1px 3px 1px rgba(60, 64, 67, 0.15);\n",
              "      fill: #174EA6;\n",
              "    }\n",
              "\n",
              "    .colab-df-buttons div {\n",
              "      margin-bottom: 4px;\n",
              "    }\n",
              "\n",
              "    [theme=dark] .colab-df-convert {\n",
              "      background-color: #3B4455;\n",
              "      fill: #D2E3FC;\n",
              "    }\n",
              "\n",
              "    [theme=dark] .colab-df-convert:hover {\n",
              "      background-color: #434B5C;\n",
              "      box-shadow: 0px 1px 3px 1px rgba(0, 0, 0, 0.15);\n",
              "      filter: drop-shadow(0px 1px 2px rgba(0, 0, 0, 0.3));\n",
              "      fill: #FFFFFF;\n",
              "    }\n",
              "  </style>\n",
              "\n",
              "    <script>\n",
              "      const buttonEl =\n",
              "        document.querySelector('#df-34a3f2c6-7534-4fff-9e06-daad109cdd4a button.colab-df-convert');\n",
              "      buttonEl.style.display =\n",
              "        google.colab.kernel.accessAllowed ? 'block' : 'none';\n",
              "\n",
              "      async function convertToInteractive(key) {\n",
              "        const element = document.querySelector('#df-34a3f2c6-7534-4fff-9e06-daad109cdd4a');\n",
              "        const dataTable =\n",
              "          await google.colab.kernel.invokeFunction('convertToInteractive',\n",
              "                                                    [key], {});\n",
              "        if (!dataTable) return;\n",
              "\n",
              "        const docLinkHtml = 'Like what you see? Visit the ' +\n",
              "          '<a target=\"_blank\" href=https://colab.research.google.com/notebooks/data_table.ipynb>data table notebook</a>'\n",
              "          + ' to learn more about interactive tables.';\n",
              "        element.innerHTML = '';\n",
              "        dataTable['output_type'] = 'display_data';\n",
              "        await google.colab.output.renderOutput(dataTable, element);\n",
              "        const docLink = document.createElement('div');\n",
              "        docLink.innerHTML = docLinkHtml;\n",
              "        element.appendChild(docLink);\n",
              "      }\n",
              "    </script>\n",
              "  </div>\n",
              "\n",
              "\n",
              "<div id=\"df-b5ca6c9e-e456-42ae-a9e4-f8fb28fdb187\">\n",
              "  <button class=\"colab-df-quickchart\" onclick=\"quickchart('df-b5ca6c9e-e456-42ae-a9e4-f8fb28fdb187')\"\n",
              "            title=\"Suggest charts.\"\n",
              "            style=\"display:none;\">\n",
              "\n",
              "<svg xmlns=\"http://www.w3.org/2000/svg\" height=\"24px\"viewBox=\"0 0 24 24\"\n",
              "     width=\"24px\">\n",
              "    <g>\n",
              "        <path d=\"M19 3H5c-1.1 0-2 .9-2 2v14c0 1.1.9 2 2 2h14c1.1 0 2-.9 2-2V5c0-1.1-.9-2-2-2zM9 17H7v-7h2v7zm4 0h-2V7h2v10zm4 0h-2v-4h2v4z\"/>\n",
              "    </g>\n",
              "</svg>\n",
              "  </button>\n",
              "\n",
              "<style>\n",
              "  .colab-df-quickchart {\n",
              "      --bg-color: #E8F0FE;\n",
              "      --fill-color: #1967D2;\n",
              "      --hover-bg-color: #E2EBFA;\n",
              "      --hover-fill-color: #174EA6;\n",
              "      --disabled-fill-color: #AAA;\n",
              "      --disabled-bg-color: #DDD;\n",
              "  }\n",
              "\n",
              "  [theme=dark] .colab-df-quickchart {\n",
              "      --bg-color: #3B4455;\n",
              "      --fill-color: #D2E3FC;\n",
              "      --hover-bg-color: #434B5C;\n",
              "      --hover-fill-color: #FFFFFF;\n",
              "      --disabled-bg-color: #3B4455;\n",
              "      --disabled-fill-color: #666;\n",
              "  }\n",
              "\n",
              "  .colab-df-quickchart {\n",
              "    background-color: var(--bg-color);\n",
              "    border: none;\n",
              "    border-radius: 50%;\n",
              "    cursor: pointer;\n",
              "    display: none;\n",
              "    fill: var(--fill-color);\n",
              "    height: 32px;\n",
              "    padding: 0;\n",
              "    width: 32px;\n",
              "  }\n",
              "\n",
              "  .colab-df-quickchart:hover {\n",
              "    background-color: var(--hover-bg-color);\n",
              "    box-shadow: 0 1px 2px rgba(60, 64, 67, 0.3), 0 1px 3px 1px rgba(60, 64, 67, 0.15);\n",
              "    fill: var(--button-hover-fill-color);\n",
              "  }\n",
              "\n",
              "  .colab-df-quickchart-complete:disabled,\n",
              "  .colab-df-quickchart-complete:disabled:hover {\n",
              "    background-color: var(--disabled-bg-color);\n",
              "    fill: var(--disabled-fill-color);\n",
              "    box-shadow: none;\n",
              "  }\n",
              "\n",
              "  .colab-df-spinner {\n",
              "    border: 2px solid var(--fill-color);\n",
              "    border-color: transparent;\n",
              "    border-bottom-color: var(--fill-color);\n",
              "    animation:\n",
              "      spin 1s steps(1) infinite;\n",
              "  }\n",
              "\n",
              "  @keyframes spin {\n",
              "    0% {\n",
              "      border-color: transparent;\n",
              "      border-bottom-color: var(--fill-color);\n",
              "      border-left-color: var(--fill-color);\n",
              "    }\n",
              "    20% {\n",
              "      border-color: transparent;\n",
              "      border-left-color: var(--fill-color);\n",
              "      border-top-color: var(--fill-color);\n",
              "    }\n",
              "    30% {\n",
              "      border-color: transparent;\n",
              "      border-left-color: var(--fill-color);\n",
              "      border-top-color: var(--fill-color);\n",
              "      border-right-color: var(--fill-color);\n",
              "    }\n",
              "    40% {\n",
              "      border-color: transparent;\n",
              "      border-right-color: var(--fill-color);\n",
              "      border-top-color: var(--fill-color);\n",
              "    }\n",
              "    60% {\n",
              "      border-color: transparent;\n",
              "      border-right-color: var(--fill-color);\n",
              "    }\n",
              "    80% {\n",
              "      border-color: transparent;\n",
              "      border-right-color: var(--fill-color);\n",
              "      border-bottom-color: var(--fill-color);\n",
              "    }\n",
              "    90% {\n",
              "      border-color: transparent;\n",
              "      border-bottom-color: var(--fill-color);\n",
              "    }\n",
              "  }\n",
              "</style>\n",
              "\n",
              "  <script>\n",
              "    async function quickchart(key) {\n",
              "      const quickchartButtonEl =\n",
              "        document.querySelector('#' + key + ' button');\n",
              "      quickchartButtonEl.disabled = true;  // To prevent multiple clicks.\n",
              "      quickchartButtonEl.classList.add('colab-df-spinner');\n",
              "      try {\n",
              "        const charts = await google.colab.kernel.invokeFunction(\n",
              "            'suggestCharts', [key], {});\n",
              "      } catch (error) {\n",
              "        console.error('Error during call to suggestCharts:', error);\n",
              "      }\n",
              "      quickchartButtonEl.classList.remove('colab-df-spinner');\n",
              "      quickchartButtonEl.classList.add('colab-df-quickchart-complete');\n",
              "    }\n",
              "    (() => {\n",
              "      let quickchartButtonEl =\n",
              "        document.querySelector('#df-b5ca6c9e-e456-42ae-a9e4-f8fb28fdb187 button');\n",
              "      quickchartButtonEl.style.display =\n",
              "        google.colab.kernel.accessAllowed ? 'block' : 'none';\n",
              "    })();\n",
              "  </script>\n",
              "</div>\n",
              "    </div>\n",
              "  </div>\n"
            ]
          },
          "metadata": {},
          "execution_count": 25
        }
      ]
    },
    {
      "cell_type": "code",
      "source": [
        "df_grouped\n",
        "list_names\n",
        "dataframe_ts = pd.DataFrame(index = list_ts[0].index)\n",
        "dataframe_ts_test = pd.DataFrame(index = list_ts_test[0].index)\n",
        "\n",
        "for ts in list_ts:\n",
        "  dataframe_ts = pd.concat([dataframe_ts,ts], axis=1)\n",
        "\n",
        "for ts in list_ts_test:\n",
        "  dataframe_ts_test = pd.concat([dataframe_ts_test,ts], axis=1)"
      ],
      "metadata": {
        "id": "aiUL-uyPSTML"
      },
      "execution_count": 26,
      "outputs": []
    },
    {
      "cell_type": "code",
      "source": [
        "corr = dataframe_ts.corr()\n",
        "\n",
        "# Generate a mask for the upper triangle\n",
        "mask = np.triu(np.ones_like(corr, dtype=bool))\n",
        "\n",
        "# Set up the matplotlib figure\n",
        "f, ax = plt.subplots(figsize=(11, 9))\n",
        "\n",
        "# Generate a custom diverging colormap\n",
        "cmap = sns.diverging_palette(230, 20, as_cmap=True)\n",
        "\n",
        "# Draw the heatmap with the mask and correct aspect ratio\n",
        "sns.heatmap(corr, mask=mask, cmap=cmap, vmax=.3, center=0,\n",
        "            square=True, linewidths=.5, cbar_kws={\"shrink\": .5})\n",
        "plt.grid(linestyle='')"
      ],
      "metadata": {
        "colab": {
          "base_uri": "https://localhost:8080/",
          "height": 779
        },
        "id": "Tevb_bXOcR7Q",
        "outputId": "f309cbf1-6691-4bb9-fc83-2efa710ed528"
      },
      "execution_count": 27,
      "outputs": [
        {
          "output_type": "display_data",
          "data": {
            "text/plain": [
              "<Figure size 1100x900 with 2 Axes>"
            ],
            "image/png": "[encoded data removed]"
          },
          "metadata": {}
        }
      ]
    },
    {
      "cell_type": "code",
      "source": [
        "print(dataframe_ts_test.shape)\n",
        "print(dataframe_ts.shape)"
      ],
      "metadata": {
        "id": "4n5yTZ7ReovM",
        "colab": {
          "base_uri": "https://localhost:8080/"
        },
        "outputId": "c2d6298d-3341-428d-a59f-d1001717259c"
      },
      "execution_count": 28,
      "outputs": [
        {
          "output_type": "stream",
          "name": "stdout",
          "text": [
            "(36, 65)\n",
            "(13059, 65)\n"
          ]
        }
      ]
    },
    {
      "cell_type": "code",
      "source": [
        "list_target_features = list(dataframe_ts.columns)\n",
        "\n",
        "train_ts_extended = add_datetime_features(dataframe_ts)\n",
        "test_ts_extended = add_datetime_features(dataframe_ts_test)"
      ],
      "metadata": {
        "id": "5BbJR4BhzMp6"
      },
      "execution_count": 29,
      "outputs": []
    },
    {
      "cell_type": "code",
      "source": [
        "train_ts_final, test_ts_final = add_medians(train_ds=train_ts_extended, list_target_features=list_target_features, test_ds=test_ts_extended)\n",
        "print(train_ts_final.shape)\n",
        "print(test_ts_final.shape)"
      ],
      "metadata": {
        "colab": {
          "base_uri": "https://localhost:8080/"
        },
        "id": "iYrHE9mr0J9V",
        "outputId": "bc8a897e-9a91-4aa0-c7ed-d30c5d62f3bc"
      },
      "execution_count": 30,
      "outputs": [
        {
          "output_type": "stream",
          "name": "stdout",
          "text": [
            "(13059, 139)\n",
            "(36, 139)\n"
          ]
        }
      ]
    },
    {
      "cell_type": "code",
      "source": [
        "def schooltime(train_ts_final,test_ts_final):\n",
        "\n",
        "  start_school = \"1991-08-20\"\n",
        "  end_school = \"1991-06-11\"\n",
        "\n",
        "  train_ts_final[\"school_drop\"]=0\n",
        "  test_ts_final[\"school_drop\"]=0\n",
        "  train_ts_final[\"school_pickup\"]=0\n",
        "  test_ts_final[\"school_pickup\"]=0\n",
        "\n",
        "  train_ts_final.loc[:end_school,:][\"school_drop\"][(train_ts_final[\"weekend\"]==0)&(train_ts_final[\"hour\"]==8)&(train_ts_final[\"minute\"]==20)]=1\n",
        "  train_ts_final.loc[start_school:,:][\"school_pickup\"][(train_ts_final[\"weekend\"]==0)&(train_ts_final[\"hour\"]==15)&(train_ts_final[\"minute\"]==20)]=1\n",
        "\n",
        "  test_ts_final.loc[:end_school,:][\"school_drop\"][(test_ts_final[\"weekend\"]==0)&(test_ts_final[\"hour\"]==8)&(test_ts_final[\"minute\"]==20)]=1\n",
        "  test_ts_final.loc[start_school:,:][\"school_pickup\"][(test_ts_final[\"weekend\"]==0)&(test_ts_final[\"hour\"]==15)&(test_ts_final[\"minute\"]==20)]=1\n",
        "\n",
        "  return train_ts_final, test_ts_final\n",
        "\n",
        "train_ts_final,test_ts_final = schooltime(train_ts_final,test_ts_final)\n",
        "\n",
        "train_ts_final.shape"
      ],
      "metadata": {
        "colab": {
          "base_uri": "https://localhost:8080/"
        },
        "id": "bf-bWmU3z-S5",
        "outputId": "116e62cd-fb6a-4fdb-cfae-08f1884a2c44"
      },
      "execution_count": 31,
      "outputs": [
        {
          "output_type": "execute_result",
          "data": {
            "text/plain": [
              "(13059, 141)"
            ]
          },
          "metadata": {},
          "execution_count": 31
        }
      ]
    },
    {
      "cell_type": "code",
      "source": [
        "temporal_known_features = list(set(train_ts_final.columns).difference(set(list_names)))\n",
        "categorical_features = ['school_pickup',\"day\",'school_drop','weekend',\"weekday\",'afternoon','minute',\"hour\"]\n",
        "list_labels = list_target_features\n",
        "print(list_labels)"
      ],
      "metadata": {
        "id": "pMRV6AFfCTD5",
        "colab": {
          "base_uri": "https://localhost:8080/"
        },
        "outputId": "88480db9-d4db-4642-9f5d-c681396a4a28"
      },
      "execution_count": 32,
      "outputs": [
        {
          "output_type": "stream",
          "name": "stdout",
          "text": [
            "['00_EB', '00_NB', '00_SB', '01_EB', '01_NB', '01_SB', '01_WB', '02_EB', '02_NB', '02_SB', '02_WB', '03_EB', '03_NB', '03_NE', '03_SB', '03_SW', '03_WB', '10_EB', '10_NB', '10_NE', '10_SB', '10_SW', '10_WB', '11_EB', '11_NB', '11_SB', '11_WB', '12_EB', '12_NB', '12_NE', '12_SB', '12_SW', '12_WB', '13_EB', '13_NB', '13_NE', '13_SB', '13_SW', '13_WB', '20_EB', '20_NB', '20_SB', '20_WB', '21_EB', '21_NB', '21_NE', '21_NW', '21_SB', '21_SE', '21_SW', '21_WB', '22_EB', '22_NB', '22_NE', '22_NW', '22_SB', '22_SE', '22_SW', '22_WB', '23_EB', '23_NB', '23_NE', '23_SB', '23_SW', '23_WB']\n"
          ]
        }
      ]
    },
    {
      "cell_type": "code",
      "source": [
        "test_ts_final.shape\n",
        "total_data = pd.concat([train_ts_final,test_ts_final], axis=0)\n",
        "test_ts_final.shape"
      ],
      "metadata": {
        "colab": {
          "base_uri": "https://localhost:8080/"
        },
        "id": "oWeN8f2EQfbj",
        "outputId": "75dbd988-80aa-40f4-c838-f21ba09fb2cb"
      },
      "execution_count": 33,
      "outputs": [
        {
          "output_type": "execute_result",
          "data": {
            "text/plain": [
              "(36, 141)"
            ]
          },
          "metadata": {},
          "execution_count": 33
        }
      ]
    },
    {
      "cell_type": "code",
      "source": [
        "train_ts_final"
      ],
      "metadata": {
        "colab": {
          "base_uri": "https://localhost:8080/",
          "height": 822
        },
        "id": "k7rY3mpgVV8T",
        "outputId": "c1aab374-7db6-484a-84fd-046d698338cf"
      },
      "execution_count": 34,
      "outputs": [
        {
          "output_type": "execute_result",
          "data": {
            "text/plain": [
              "                     00_EB  00_NB  00_SB  01_EB  01_NB  01_SB  01_WB  02_EB  \\\n",
              "time                                                                          \n",
              "1991-04-01 00:00:00     70     49     24     18     60     58     26     31   \n",
              "1991-04-01 00:20:00     70     49     24     26     64     55     57     41   \n",
              "1991-04-01 00:40:00     70     49     24     31     51     57     91     42   \n",
              "1991-04-01 01:00:00     70     49     24     36     51     46     49     39   \n",
              "1991-04-01 01:20:00     70     49     24     29     53     83     62     36   \n",
              "...                    ...    ...    ...    ...    ...    ...    ...    ...   \n",
              "1991-09-30 10:20:00     43     29     60     23     63     61     42     47   \n",
              "1991-09-30 10:40:00     47     28     35     24     62     63     32     44   \n",
              "1991-09-30 11:00:00     40     31     53     22     65     58     38     44   \n",
              "1991-09-30 11:20:00     52     36     59     35     67     54     26     44   \n",
              "1991-09-30 11:40:00     70     40     51     24     65     52     42     43   \n",
              "\n",
              "                     02_NB  02_SB  ...  22_SW_median  22_WB_median  \\\n",
              "time                               ...                               \n",
              "1991-04-01 00:00:00     49     46  ...            47            57   \n",
              "1991-04-01 00:20:00     40     46  ...            48            55   \n",
              "1991-04-01 00:40:00     41     35  ...            46            55   \n",
              "1991-04-01 01:00:00     44     58  ...            44            57   \n",
              "1991-04-01 01:20:00     46     46  ...            41            46   \n",
              "...                    ...    ...  ...           ...           ...   \n",
              "1991-09-30 10:20:00     51     56  ...            54            69   \n",
              "1991-09-30 10:40:00     57     65  ...            54            70   \n",
              "1991-09-30 11:00:00     60     62  ...            54            70   \n",
              "1991-09-30 11:20:00     59     57  ...            54            72   \n",
              "1991-09-30 11:40:00     62     77  ...            54            73   \n",
              "\n",
              "                     23_EB_median  23_NB_median  23_NE_median  23_SB_median  \\\n",
              "time                                                                          \n",
              "1991-04-01 00:00:00            44            66            33            68   \n",
              "1991-04-01 00:20:00            44            64            33            77   \n",
              "1991-04-01 00:40:00            37            63            33            79   \n",
              "1991-04-01 01:00:00            37            57            33            78   \n",
              "1991-04-01 01:20:00            37            40            30            78   \n",
              "...                           ...           ...           ...           ...   \n",
              "1991-09-30 10:20:00            49            56            24            68   \n",
              "1991-09-30 10:40:00            48            57            26            69   \n",
              "1991-09-30 11:00:00            50            58            26            70   \n",
              "1991-09-30 11:20:00            46            56            28            70   \n",
              "1991-09-30 11:40:00            50            58            26            71   \n",
              "\n",
              "                     23_SW_median  23_WB_median  school_drop  school_pickup  \n",
              "time                                                                         \n",
              "1991-04-01 00:00:00            22            34            0              0  \n",
              "1991-04-01 00:20:00            23            34            0              0  \n",
              "1991-04-01 00:40:00            24            42            0              0  \n",
              "1991-04-01 01:00:00            24            44            0              0  \n",
              "1991-04-01 01:20:00            24            44            0              0  \n",
              "...                           ...           ...          ...            ...  \n",
              "1991-09-30 10:20:00            20            35            0              0  \n",
              "1991-09-30 10:40:00            20            41            0              0  \n",
              "1991-09-30 11:00:00            21            47            0              0  \n",
              "1991-09-30 11:20:00            20            45            0              0  \n",
              "1991-09-30 11:40:00            20            37            0              0  \n",
              "\n",
              "[13059 rows x 141 columns]"
            ],
            "text/html": [
              "\n",
              "  <div id=\"df-217890a8-520f-4c8d-bdca-c35c4b3a4a55\" class=\"colab-df-container\">\n",
              "    <div>\n",
              "<style scoped>\n",
              "    .dataframe tbody tr th:only-of-type {\n",
              "        vertical-align: middle;\n",
              "    }\n",
              "\n",
              "    .dataframe tbody tr th {\n",
              "        vertical-align: top;\n",
              "    }\n",
              "\n",
              "    .dataframe thead th {\n",
              "        text-align: right;\n",
              "    }\n",
              "</style>\n",
              "<table border=\"1\" class=\"dataframe\">\n",
              "  <thead>\n",
              "    <tr style=\"text-align: right;\">\n",
              "      <th></th>\n",
              "      <th>00_EB</th>\n",
              "      <th>00_NB</th>\n",
              "      <th>00_SB</th>\n",
              "      <th>01_EB</th>\n",
              "      <th>01_NB</th>\n",
              "      <th>01_SB</th>\n",
              "      <th>01_WB</th>\n",
              "      <th>02_EB</th>\n",
              "      <th>02_NB</th>\n",
              "      <th>02_SB</th>\n",
              "      <th>...</th>\n",
              "      <th>22_SW_median</th>\n",
              "      <th>22_WB_median</th>\n",
              "      <th>23_EB_median</th>\n",
              "      <th>23_NB_median</th>\n",
              "      <th>23_NE_median</th>\n",
              "      <th>23_SB_median</th>\n",
              "      <th>23_SW_median</th>\n",
              "      <th>23_WB_median</th>\n",
              "      <th>school_drop</th>\n",
              "      <th>school_pickup</th>\n",
              "    </tr>\n",
              "    <tr>\n",
              "      <th>time</th>\n",
              "      <th></th>\n",
              "      <th></th>\n",
              "      <th></th>\n",
              "      <th></th>\n",
              "      <th></th>\n",
              "      <th></th>\n",
              "      <th></th>\n",
              "      <th></th>\n",
              "      <th></th>\n",
              "      <th></th>\n",
              "      <th></th>\n",
              "      <th></th>\n",
              "      <th></th>\n",
              "      <th></th>\n",
              "      <th></th>\n",
              "      <th></th>\n",
              "      <th></th>\n",
              "      <th></th>\n",
              "      <th></th>\n",
              "      <th></th>\n",
              "      <th></th>\n",
              "    </tr>\n",
              "  </thead>\n",
              "  <tbody>\n",
              "    <tr>\n",
              "      <th>1991-04-01 00:00:00</th>\n",
              "      <td>70</td>\n",
              "      <td>49</td>\n",
              "      <td>24</td>\n",
              "      <td>18</td>\n",
              "      <td>60</td>\n",
              "      <td>58</td>\n",
              "      <td>26</td>\n",
              "      <td>31</td>\n",
              "      <td>49</td>\n",
              "      <td>46</td>\n",
              "      <td>...</td>\n",
              "      <td>47</td>\n",
              "      <td>57</td>\n",
              "      <td>44</td>\n",
              "      <td>66</td>\n",
              "      <td>33</td>\n",
              "      <td>68</td>\n",
              "      <td>22</td>\n",
              "      <td>34</td>\n",
              "      <td>0</td>\n",
              "      <td>0</td>\n",
              "    </tr>\n",
              "    <tr>\n",
              "      <th>1991-04-01 00:20:00</th>\n",
              "      <td>70</td>\n",
              "      <td>49</td>\n",
              "      <td>24</td>\n",
              "      <td>26</td>\n",
              "      <td>64</td>\n",
              "      <td>55</td>\n",
              "      <td>57</td>\n",
              "      <td>41</td>\n",
              "      <td>40</td>\n",
              "      <td>46</td>\n",
              "      <td>...</td>\n",
              "      <td>48</td>\n",
              "      <td>55</td>\n",
              "      <td>44</td>\n",
              "      <td>64</td>\n",
              "      <td>33</td>\n",
              "      <td>77</td>\n",
              "      <td>23</td>\n",
              "      <td>34</td>\n",
              "      <td>0</td>\n",
              "      <td>0</td>\n",
              "    </tr>\n",
              "    <tr>\n",
              "      <th>1991-04-01 00:40:00</th>\n",
              "      <td>70</td>\n",
              "      <td>49</td>\n",
              "      <td>24</td>\n",
              "      <td>31</td>\n",
              "      <td>51</td>\n",
              "      <td>57</td>\n",
              "      <td>91</td>\n",
              "      <td>42</td>\n",
              "      <td>41</td>\n",
              "      <td>35</td>\n",
              "      <td>...</td>\n",
              "      <td>46</td>\n",
              "      <td>55</td>\n",
              "      <td>37</td>\n",
              "      <td>63</td>\n",
              "      <td>33</td>\n",
              "      <td>79</td>\n",
              "      <td>24</td>\n",
              "      <td>42</td>\n",
              "      <td>0</td>\n",
              "      <td>0</td>\n",
              "    </tr>\n",
              "    <tr>\n",
              "      <th>1991-04-01 01:00:00</th>\n",
              "      <td>70</td>\n",
              "      <td>49</td>\n",
              "      <td>24</td>\n",
              "      <td>36</td>\n",
              "      <td>51</td>\n",
              "      <td>46</td>\n",
              "      <td>49</td>\n",
              "      <td>39</td>\n",
              "      <td>44</td>\n",
              "      <td>58</td>\n",
              "      <td>...</td>\n",
              "      <td>44</td>\n",
              "      <td>57</td>\n",
              "      <td>37</td>\n",
              "      <td>57</td>\n",
              "      <td>33</td>\n",
              "      <td>78</td>\n",
              "      <td>24</td>\n",
              "      <td>44</td>\n",
              "      <td>0</td>\n",
              "      <td>0</td>\n",
              "    </tr>\n",
              "    <tr>\n",
              "      <th>1991-04-01 01:20:00</th>\n",
              "      <td>70</td>\n",
              "      <td>49</td>\n",
              "      <td>24</td>\n",
              "      <td>29</td>\n",
              "      <td>53</td>\n",
              "      <td>83</td>\n",
              "      <td>62</td>\n",
              "      <td>36</td>\n",
              "      <td>46</td>\n",
              "      <td>46</td>\n",
              "      <td>...</td>\n",
              "      <td>41</td>\n",
              "      <td>46</td>\n",
              "      <td>37</td>\n",
              "      <td>40</td>\n",
              "      <td>30</td>\n",
              "      <td>78</td>\n",
              "      <td>24</td>\n",
              "      <td>44</td>\n",
              "      <td>0</td>\n",
              "      <td>0</td>\n",
              "    </tr>\n",
              "    <tr>\n",
              "      <th>...</th>\n",
              "      <td>...</td>\n",
              "      <td>...</td>\n",
              "      <td>...</td>\n",
              "      <td>...</td>\n",
              "      <td>...</td>\n",
              "      <td>...</td>\n",
              "      <td>...</td>\n",
              "      <td>...</td>\n",
              "      <td>...</td>\n",
              "      <td>...</td>\n",
              "      <td>...</td>\n",
              "      <td>...</td>\n",
              "      <td>...</td>\n",
              "      <td>...</td>\n",
              "      <td>...</td>\n",
              "      <td>...</td>\n",
              "      <td>...</td>\n",
              "      <td>...</td>\n",
              "      <td>...</td>\n",
              "      <td>...</td>\n",
              "      <td>...</td>\n",
              "    </tr>\n",
              "    <tr>\n",
              "      <th>1991-09-30 10:20:00</th>\n",
              "      <td>43</td>\n",
              "      <td>29</td>\n",
              "      <td>60</td>\n",
              "      <td>23</td>\n",
              "      <td>63</td>\n",
              "      <td>61</td>\n",
              "      <td>42</td>\n",
              "      <td>47</td>\n",
              "      <td>51</td>\n",
              "      <td>56</td>\n",
              "      <td>...</td>\n",
              "      <td>54</td>\n",
              "      <td>69</td>\n",
              "      <td>49</td>\n",
              "      <td>56</td>\n",
              "      <td>24</td>\n",
              "      <td>68</td>\n",
              "      <td>20</td>\n",
              "      <td>35</td>\n",
              "      <td>0</td>\n",
              "      <td>0</td>\n",
              "    </tr>\n",
              "    <tr>\n",
              "      <th>1991-09-30 10:40:00</th>\n",
              "      <td>47</td>\n",
              "      <td>28</td>\n",
              "      <td>35</td>\n",
              "      <td>24</td>\n",
              "      <td>62</td>\n",
              "      <td>63</td>\n",
              "      <td>32</td>\n",
              "      <td>44</td>\n",
              "      <td>57</td>\n",
              "      <td>65</td>\n",
              "      <td>...</td>\n",
              "      <td>54</td>\n",
              "      <td>70</td>\n",
              "      <td>48</td>\n",
              "      <td>57</td>\n",
              "      <td>26</td>\n",
              "      <td>69</td>\n",
              "      <td>20</td>\n",
              "      <td>41</td>\n",
              "      <td>0</td>\n",
              "      <td>0</td>\n",
              "    </tr>\n",
              "    <tr>\n",
              "      <th>1991-09-30 11:00:00</th>\n",
              "      <td>40</td>\n",
              "      <td>31</td>\n",
              "      <td>53</td>\n",
              "      <td>22</td>\n",
              "      <td>65</td>\n",
              "      <td>58</td>\n",
              "      <td>38</td>\n",
              "      <td>44</td>\n",
              "      <td>60</td>\n",
              "      <td>62</td>\n",
              "      <td>...</td>\n",
              "      <td>54</td>\n",
              "      <td>70</td>\n",
              "      <td>50</td>\n",
              "      <td>58</td>\n",
              "      <td>26</td>\n",
              "      <td>70</td>\n",
              "      <td>21</td>\n",
              "      <td>47</td>\n",
              "      <td>0</td>\n",
              "      <td>0</td>\n",
              "    </tr>\n",
              "    <tr>\n",
              "      <th>1991-09-30 11:20:00</th>\n",
              "      <td>52</td>\n",
              "      <td>36</td>\n",
              "      <td>59</td>\n",
              "      <td>35</td>\n",
              "      <td>67</td>\n",
              "      <td>54</td>\n",
              "      <td>26</td>\n",
              "      <td>44</td>\n",
              "      <td>59</td>\n",
              "      <td>57</td>\n",
              "      <td>...</td>\n",
              "      <td>54</td>\n",
              "      <td>72</td>\n",
              "      <td>46</td>\n",
              "      <td>56</td>\n",
              "      <td>28</td>\n",
              "      <td>70</td>\n",
              "      <td>20</td>\n",
              "      <td>45</td>\n",
              "      <td>0</td>\n",
              "      <td>0</td>\n",
              "    </tr>\n",
              "    <tr>\n",
              "      <th>1991-09-30 11:40:00</th>\n",
              "      <td>70</td>\n",
              "      <td>40</td>\n",
              "      <td>51</td>\n",
              "      <td>24</td>\n",
              "      <td>65</td>\n",
              "      <td>52</td>\n",
              "      <td>42</td>\n",
              "      <td>43</td>\n",
              "      <td>62</td>\n",
              "      <td>77</td>\n",
              "      <td>...</td>\n",
              "      <td>54</td>\n",
              "      <td>73</td>\n",
              "      <td>50</td>\n",
              "      <td>58</td>\n",
              "      <td>26</td>\n",
              "      <td>71</td>\n",
              "      <td>20</td>\n",
              "      <td>37</td>\n",
              "      <td>0</td>\n",
              "      <td>0</td>\n",
              "    </tr>\n",
              "  </tbody>\n",
              "</table>\n",
              "<p>13059 rows × 141 columns</p>\n",
              "</div>\n",
              "    <div class=\"colab-df-buttons\">\n",
              "\n",
              "  <div class=\"colab-df-container\">\n",
              "    <button class=\"colab-df-convert\" onclick=\"convertToInteractive('df-217890a8-520f-4c8d-bdca-c35c4b3a4a55')\"\n",
              "            title=\"Convert this dataframe to an interactive table.\"\n",
              "            style=\"display:none;\">\n",
              "\n",
              "  <svg xmlns=\"http://www.w3.org/2000/svg\" height=\"24px\" viewBox=\"0 -960 960 960\">\n",
              "    <path d=\"M120-120v-720h720v720H120Zm60-500h600v-160H180v160Zm220 220h160v-160H400v160Zm0 220h160v-160H400v160ZM180-400h160v-160H180v160Zm440 0h160v-160H620v160ZM180-180h160v-160H180v160Zm440 0h160v-160H620v160Z\"/>\n",
              "  </svg>\n",
              "    </button>\n",
              "\n",
              "  <style>\n",
              "    .colab-df-container {\n",
              "      display:flex;\n",
              "      gap: 12px;\n",
              "    }\n",
              "\n",
              "    .colab-df-convert {\n",
              "      background-color: #E8F0FE;\n",
              "      border: none;\n",
              "      border-radius: 50%;\n",
              "      cursor: pointer;\n",
              "      display: none;\n",
              "      fill: #1967D2;\n",
              "      height: 32px;\n",
              "      padding: 0 0 0 0;\n",
              "      width: 32px;\n",
              "    }\n",
              "\n",
              "    .colab-df-convert:hover {\n",
              "      background-color: #E2EBFA;\n",
              "      box-shadow: 0px 1px 2px rgba(60, 64, 67, 0.3), 0px 1px 3px 1px rgba(60, 64, 67, 0.15);\n",
              "      fill: #174EA6;\n",
              "    }\n",
              "\n",
              "    .colab-df-buttons div {\n",
              "      margin-bottom: 4px;\n",
              "    }\n",
              "\n",
              "    [theme=dark] .colab-df-convert {\n",
              "      background-color: #3B4455;\n",
              "      fill: #D2E3FC;\n",
              "    }\n",
              "\n",
              "    [theme=dark] .colab-df-convert:hover {\n",
              "      background-color: #434B5C;\n",
              "      box-shadow: 0px 1px 3px 1px rgba(0, 0, 0, 0.15);\n",
              "      filter: drop-shadow(0px 1px 2px rgba(0, 0, 0, 0.3));\n",
              "      fill: #FFFFFF;\n",
              "    }\n",
              "  </style>\n",
              "\n",
              "    <script>\n",
              "      const buttonEl =\n",
              "        document.querySelector('#df-217890a8-520f-4c8d-bdca-c35c4b3a4a55 button.colab-df-convert');\n",
              "      buttonEl.style.display =\n",
              "        google.colab.kernel.accessAllowed ? 'block' : 'none';\n",
              "\n",
              "      async function convertToInteractive(key) {\n",
              "        const element = document.querySelector('#df-217890a8-520f-4c8d-bdca-c35c4b3a4a55');\n",
              "        const dataTable =\n",
              "          await google.colab.kernel.invokeFunction('convertToInteractive',\n",
              "                                                    [key], {});\n",
              "        if (!dataTable) return;\n",
              "\n",
              "        const docLinkHtml = 'Like what you see? Visit the ' +\n",
              "          '<a target=\"_blank\" href=https://colab.research.google.com/notebooks/data_table.ipynb>data table notebook</a>'\n",
              "          + ' to learn more about interactive tables.';\n",
              "        element.innerHTML = '';\n",
              "        dataTable['output_type'] = 'display_data';\n",
              "        await google.colab.output.renderOutput(dataTable, element);\n",
              "        const docLink = document.createElement('div');\n",
              "        docLink.innerHTML = docLinkHtml;\n",
              "        element.appendChild(docLink);\n",
              "      }\n",
              "    </script>\n",
              "  </div>\n",
              "\n",
              "\n",
              "<div id=\"df-a120ed2d-64be-4c0c-8dd4-3ca5a32d5778\">\n",
              "  <button class=\"colab-df-quickchart\" onclick=\"quickchart('df-a120ed2d-64be-4c0c-8dd4-3ca5a32d5778')\"\n",
              "            title=\"Suggest charts.\"\n",
              "            style=\"display:none;\">\n",
              "\n",
              "<svg xmlns=\"http://www.w3.org/2000/svg\" height=\"24px\"viewBox=\"0 0 24 24\"\n",
              "     width=\"24px\">\n",
              "    <g>\n",
              "        <path d=\"M19 3H5c-1.1 0-2 .9-2 2v14c0 1.1.9 2 2 2h14c1.1 0 2-.9 2-2V5c0-1.1-.9-2-2-2zM9 17H7v-7h2v7zm4 0h-2V7h2v10zm4 0h-2v-4h2v4z\"/>\n",
              "    </g>\n",
              "</svg>\n",
              "  </button>\n",
              "\n",
              "<style>\n",
              "  .colab-df-quickchart {\n",
              "      --bg-color: #E8F0FE;\n",
              "      --fill-color: #1967D2;\n",
              "      --hover-bg-color: #E2EBFA;\n",
              "      --hover-fill-color: #174EA6;\n",
              "      --disabled-fill-color: #AAA;\n",
              "      --disabled-bg-color: #DDD;\n",
              "  }\n",
              "\n",
              "  [theme=dark] .colab-df-quickchart {\n",
              "      --bg-color: #3B4455;\n",
              "      --fill-color: #D2E3FC;\n",
              "      --hover-bg-color: #434B5C;\n",
              "      --hover-fill-color: #FFFFFF;\n",
              "      --disabled-bg-color: #3B4455;\n",
              "      --disabled-fill-color: #666;\n",
              "  }\n",
              "\n",
              "  .colab-df-quickchart {\n",
              "    background-color: var(--bg-color);\n",
              "    border: none;\n",
              "    border-radius: 50%;\n",
              "    cursor: pointer;\n",
              "    display: none;\n",
              "    fill: var(--fill-color);\n",
              "    height: 32px;\n",
              "    padding: 0;\n",
              "    width: 32px;\n",
              "  }\n",
              "\n",
              "  .colab-df-quickchart:hover {\n",
              "    background-color: var(--hover-bg-color);\n",
              "    box-shadow: 0 1px 2px rgba(60, 64, 67, 0.3), 0 1px 3px 1px rgba(60, 64, 67, 0.15);\n",
              "    fill: var(--button-hover-fill-color);\n",
              "  }\n",
              "\n",
              "  .colab-df-quickchart-complete:disabled,\n",
              "  .colab-df-quickchart-complete:disabled:hover {\n",
              "    background-color: var(--disabled-bg-color);\n",
              "    fill: var(--disabled-fill-color);\n",
              "    box-shadow: none;\n",
              "  }\n",
              "\n",
              "  .colab-df-spinner {\n",
              "    border: 2px solid var(--fill-color);\n",
              "    border-color: transparent;\n",
              "    border-bottom-color: var(--fill-color);\n",
              "    animation:\n",
              "      spin 1s steps(1) infinite;\n",
              "  }\n",
              "\n",
              "  @keyframes spin {\n",
              "    0% {\n",
              "      border-color: transparent;\n",
              "      border-bottom-color: var(--fill-color);\n",
              "      border-left-color: var(--fill-color);\n",
              "    }\n",
              "    20% {\n",
              "      border-color: transparent;\n",
              "      border-left-color: var(--fill-color);\n",
              "      border-top-color: var(--fill-color);\n",
              "    }\n",
              "    30% {\n",
              "      border-color: transparent;\n",
              "      border-left-color: var(--fill-color);\n",
              "      border-top-color: var(--fill-color);\n",
              "      border-right-color: var(--fill-color);\n",
              "    }\n",
              "    40% {\n",
              "      border-color: transparent;\n",
              "      border-right-color: var(--fill-color);\n",
              "      border-top-color: var(--fill-color);\n",
              "    }\n",
              "    60% {\n",
              "      border-color: transparent;\n",
              "      border-right-color: var(--fill-color);\n",
              "    }\n",
              "    80% {\n",
              "      border-color: transparent;\n",
              "      border-right-color: var(--fill-color);\n",
              "      border-bottom-color: var(--fill-color);\n",
              "    }\n",
              "    90% {\n",
              "      border-color: transparent;\n",
              "      border-bottom-color: var(--fill-color);\n",
              "    }\n",
              "  }\n",
              "</style>\n",
              "\n",
              "  <script>\n",
              "    async function quickchart(key) {\n",
              "      const quickchartButtonEl =\n",
              "        document.querySelector('#' + key + ' button');\n",
              "      quickchartButtonEl.disabled = true;  // To prevent multiple clicks.\n",
              "      quickchartButtonEl.classList.add('colab-df-spinner');\n",
              "      try {\n",
              "        const charts = await google.colab.kernel.invokeFunction(\n",
              "            'suggestCharts', [key], {});\n",
              "      } catch (error) {\n",
              "        console.error('Error during call to suggestCharts:', error);\n",
              "      }\n",
              "      quickchartButtonEl.classList.remove('colab-df-spinner');\n",
              "      quickchartButtonEl.classList.add('colab-df-quickchart-complete');\n",
              "    }\n",
              "    (() => {\n",
              "      let quickchartButtonEl =\n",
              "        document.querySelector('#df-a120ed2d-64be-4c0c-8dd4-3ca5a32d5778 button');\n",
              "      quickchartButtonEl.style.display =\n",
              "        google.colab.kernel.accessAllowed ? 'block' : 'none';\n",
              "    })();\n",
              "  </script>\n",
              "</div>\n",
              "    </div>\n",
              "  </div>\n"
            ]
          },
          "metadata": {},
          "execution_count": 34
        }
      ]
    },
    {
      "cell_type": "code",
      "source": [
        "total_data.shape\n",
        "total_data"
      ],
      "metadata": {
        "colab": {
          "base_uri": "https://localhost:8080/",
          "height": 822
        },
        "id": "2V43LfWEVwnm",
        "outputId": "74e6778d-08dc-468f-9a65-71dca2f13b38"
      },
      "execution_count": 35,
      "outputs": [
        {
          "output_type": "execute_result",
          "data": {
            "text/plain": [
              "                     00_EB  00_NB  00_SB  01_EB  01_NB  01_SB  01_WB  02_EB  \\\n",
              "time                                                                          \n",
              "1991-04-01 00:00:00   70.0   49.0   24.0   18.0   60.0   58.0   26.0   31.0   \n",
              "1991-04-01 00:20:00   70.0   49.0   24.0   26.0   64.0   55.0   57.0   41.0   \n",
              "1991-04-01 00:40:00   70.0   49.0   24.0   31.0   51.0   57.0   91.0   42.0   \n",
              "1991-04-01 01:00:00   70.0   49.0   24.0   36.0   51.0   46.0   49.0   39.0   \n",
              "1991-04-01 01:20:00   70.0   49.0   24.0   29.0   53.0   83.0   62.0   36.0   \n",
              "...                    ...    ...    ...    ...    ...    ...    ...    ...   \n",
              "1991-09-30 22:20:00    NaN    NaN    NaN    NaN    NaN    NaN    NaN    NaN   \n",
              "1991-09-30 22:40:00    NaN    NaN    NaN    NaN    NaN    NaN    NaN    NaN   \n",
              "1991-09-30 23:00:00    NaN    NaN    NaN    NaN    NaN    NaN    NaN    NaN   \n",
              "1991-09-30 23:20:00    NaN    NaN    NaN    NaN    NaN    NaN    NaN    NaN   \n",
              "1991-09-30 23:40:00    NaN    NaN    NaN    NaN    NaN    NaN    NaN    NaN   \n",
              "\n",
              "                     02_NB  02_SB  ...  22_SW_median  22_WB_median  \\\n",
              "time                               ...                               \n",
              "1991-04-01 00:00:00   49.0   46.0  ...            47            57   \n",
              "1991-04-01 00:20:00   40.0   46.0  ...            48            55   \n",
              "1991-04-01 00:40:00   41.0   35.0  ...            46            55   \n",
              "1991-04-01 01:00:00   44.0   58.0  ...            44            57   \n",
              "1991-04-01 01:20:00   46.0   46.0  ...            41            46   \n",
              "...                    ...    ...  ...           ...           ...   \n",
              "1991-09-30 22:20:00    NaN    NaN  ...            54            68   \n",
              "1991-09-30 22:40:00    NaN    NaN  ...            54            65   \n",
              "1991-09-30 23:00:00    NaN    NaN  ...            53            64   \n",
              "1991-09-30 23:20:00    NaN    NaN  ...            46            62   \n",
              "1991-09-30 23:40:00    NaN    NaN  ...            45            59   \n",
              "\n",
              "                     23_EB_median  23_NB_median  23_NE_median  23_SB_median  \\\n",
              "time                                                                          \n",
              "1991-04-01 00:00:00            44            66            33            68   \n",
              "1991-04-01 00:20:00            44            64            33            77   \n",
              "1991-04-01 00:40:00            37            63            33            79   \n",
              "1991-04-01 01:00:00            37            57            33            78   \n",
              "1991-04-01 01:20:00            37            40            30            78   \n",
              "...                           ...           ...           ...           ...   \n",
              "1991-09-30 22:20:00            43            62            27            70   \n",
              "1991-09-30 22:40:00            42            60            29            70   \n",
              "1991-09-30 23:00:00            39            66            27            70   \n",
              "1991-09-30 23:20:00            42            68            25            70   \n",
              "1991-09-30 23:40:00            45            68            25            71   \n",
              "\n",
              "                     23_SW_median  23_WB_median  school_drop  school_pickup  \n",
              "time                                                                         \n",
              "1991-04-01 00:00:00            22            34            0              0  \n",
              "1991-04-01 00:20:00            23            34            0              0  \n",
              "1991-04-01 00:40:00            24            42            0              0  \n",
              "1991-04-01 01:00:00            24            44            0              0  \n",
              "1991-04-01 01:20:00            24            44            0              0  \n",
              "...                           ...           ...          ...            ...  \n",
              "1991-09-30 22:20:00            17            43            0              0  \n",
              "1991-09-30 22:40:00            15            42            0              0  \n",
              "1991-09-30 23:00:00            15            40            0              0  \n",
              "1991-09-30 23:20:00            13            44            0              0  \n",
              "1991-09-30 23:40:00            11            40            0              0  \n",
              "\n",
              "[13095 rows x 141 columns]"
            ],
            "text/html": [
              "\n",
              "  <div id=\"df-9d5ea6b4-d66d-4e1b-9946-2e25a97699f8\" class=\"colab-df-container\">\n",
              "    <div>\n",
              "<style scoped>\n",
              "    .dataframe tbody tr th:only-of-type {\n",
              "        vertical-align: middle;\n",
              "    }\n",
              "\n",
              "    .dataframe tbody tr th {\n",
              "        vertical-align: top;\n",
              "    }\n",
              "\n",
              "    .dataframe thead th {\n",
              "        text-align: right;\n",
              "    }\n",
              "</style>\n",
              "<table border=\"1\" class=\"dataframe\">\n",
              "  <thead>\n",
              "    <tr style=\"text-align: right;\">\n",
              "      <th></th>\n",
              "      <th>00_EB</th>\n",
              "      <th>00_NB</th>\n",
              "      <th>00_SB</th>\n",
              "      <th>01_EB</th>\n",
              "      <th>01_NB</th>\n",
              "      <th>01_SB</th>\n",
              "      <th>01_WB</th>\n",
              "      <th>02_EB</th>\n",
              "      <th>02_NB</th>\n",
              "      <th>02_SB</th>\n",
              "      <th>...</th>\n",
              "      <th>22_SW_median</th>\n",
              "      <th>22_WB_median</th>\n",
              "      <th>23_EB_median</th>\n",
              "      <th>23_NB_median</th>\n",
              "      <th>23_NE_median</th>\n",
              "      <th>23_SB_median</th>\n",
              "      <th>23_SW_median</th>\n",
              "      <th>23_WB_median</th>\n",
              "      <th>school_drop</th>\n",
              "      <th>school_pickup</th>\n",
              "    </tr>\n",
              "    <tr>\n",
              "      <th>time</th>\n",
              "      <th></th>\n",
              "      <th></th>\n",
              "      <th></th>\n",
              "      <th></th>\n",
              "      <th></th>\n",
              "      <th></th>\n",
              "      <th></th>\n",
              "      <th></th>\n",
              "      <th></th>\n",
              "      <th></th>\n",
              "      <th></th>\n",
              "      <th></th>\n",
              "      <th></th>\n",
              "      <th></th>\n",
              "      <th></th>\n",
              "      <th></th>\n",
              "      <th></th>\n",
              "      <th></th>\n",
              "      <th></th>\n",
              "      <th></th>\n",
              "      <th></th>\n",
              "    </tr>\n",
              "  </thead>\n",
              "  <tbody>\n",
              "    <tr>\n",
              "      <th>1991-04-01 00:00:00</th>\n",
              "      <td>70.0</td>\n",
              "      <td>49.0</td>\n",
              "      <td>24.0</td>\n",
              "      <td>18.0</td>\n",
              "      <td>60.0</td>\n",
              "      <td>58.0</td>\n",
              "      <td>26.0</td>\n",
              "      <td>31.0</td>\n",
              "      <td>49.0</td>\n",
              "      <td>46.0</td>\n",
              "      <td>...</td>\n",
              "      <td>47</td>\n",
              "      <td>57</td>\n",
              "      <td>44</td>\n",
              "      <td>66</td>\n",
              "      <td>33</td>\n",
              "      <td>68</td>\n",
              "      <td>22</td>\n",
              "      <td>34</td>\n",
              "      <td>0</td>\n",
              "      <td>0</td>\n",
              "    </tr>\n",
              "    <tr>\n",
              "      <th>1991-04-01 00:20:00</th>\n",
              "      <td>70.0</td>\n",
              "      <td>49.0</td>\n",
              "      <td>24.0</td>\n",
              "      <td>26.0</td>\n",
              "      <td>64.0</td>\n",
              "      <td>55.0</td>\n",
              "      <td>57.0</td>\n",
              "      <td>41.0</td>\n",
              "      <td>40.0</td>\n",
              "      <td>46.0</td>\n",
              "      <td>...</td>\n",
              "      <td>48</td>\n",
              "      <td>55</td>\n",
              "      <td>44</td>\n",
              "      <td>64</td>\n",
              "      <td>33</td>\n",
              "      <td>77</td>\n",
              "      <td>23</td>\n",
              "      <td>34</td>\n",
              "      <td>0</td>\n",
              "      <td>0</td>\n",
              "    </tr>\n",
              "    <tr>\n",
              "      <th>1991-04-01 00:40:00</th>\n",
              "      <td>70.0</td>\n",
              "      <td>49.0</td>\n",
              "      <td>24.0</td>\n",
              "      <td>31.0</td>\n",
              "      <td>51.0</td>\n",
              "      <td>57.0</td>\n",
              "      <td>91.0</td>\n",
              "      <td>42.0</td>\n",
              "      <td>41.0</td>\n",
              "      <td>35.0</td>\n",
              "      <td>...</td>\n",
              "      <td>46</td>\n",
              "      <td>55</td>\n",
              "      <td>37</td>\n",
              "      <td>63</td>\n",
              "      <td>33</td>\n",
              "      <td>79</td>\n",
              "      <td>24</td>\n",
              "      <td>42</td>\n",
              "      <td>0</td>\n",
              "      <td>0</td>\n",
              "    </tr>\n",
              "    <tr>\n",
              "      <th>1991-04-01 01:00:00</th>\n",
              "      <td>70.0</td>\n",
              "      <td>49.0</td>\n",
              "      <td>24.0</td>\n",
              "      <td>36.0</td>\n",
              "      <td>51.0</td>\n",
              "      <td>46.0</td>\n",
              "      <td>49.0</td>\n",
              "      <td>39.0</td>\n",
              "      <td>44.0</td>\n",
              "      <td>58.0</td>\n",
              "      <td>...</td>\n",
              "      <td>44</td>\n",
              "      <td>57</td>\n",
              "      <td>37</td>\n",
              "      <td>57</td>\n",
              "      <td>33</td>\n",
              "      <td>78</td>\n",
              "      <td>24</td>\n",
              "      <td>44</td>\n",
              "      <td>0</td>\n",
              "      <td>0</td>\n",
              "    </tr>\n",
              "    <tr>\n",
              "      <th>1991-04-01 01:20:00</th>\n",
              "      <td>70.0</td>\n",
              "      <td>49.0</td>\n",
              "      <td>24.0</td>\n",
              "      <td>29.0</td>\n",
              "      <td>53.0</td>\n",
              "      <td>83.0</td>\n",
              "      <td>62.0</td>\n",
              "      <td>36.0</td>\n",
              "      <td>46.0</td>\n",
              "      <td>46.0</td>\n",
              "      <td>...</td>\n",
              "      <td>41</td>\n",
              "      <td>46</td>\n",
              "      <td>37</td>\n",
              "      <td>40</td>\n",
              "      <td>30</td>\n",
              "      <td>78</td>\n",
              "      <td>24</td>\n",
              "      <td>44</td>\n",
              "      <td>0</td>\n",
              "      <td>0</td>\n",
              "    </tr>\n",
              "    <tr>\n",
              "      <th>...</th>\n",
              "      <td>...</td>\n",
              "      <td>...</td>\n",
              "      <td>...</td>\n",
              "      <td>...</td>\n",
              "      <td>...</td>\n",
              "      <td>...</td>\n",
              "      <td>...</td>\n",
              "      <td>...</td>\n",
              "      <td>...</td>\n",
              "      <td>...</td>\n",
              "      <td>...</td>\n",
              "      <td>...</td>\n",
              "      <td>...</td>\n",
              "      <td>...</td>\n",
              "      <td>...</td>\n",
              "      <td>...</td>\n",
              "      <td>...</td>\n",
              "      <td>...</td>\n",
              "      <td>...</td>\n",
              "      <td>...</td>\n",
              "      <td>...</td>\n",
              "    </tr>\n",
              "    <tr>\n",
              "      <th>1991-09-30 22:20:00</th>\n",
              "      <td>NaN</td>\n",
              "      <td>NaN</td>\n",
              "      <td>NaN</td>\n",
              "      <td>NaN</td>\n",
              "      <td>NaN</td>\n",
              "      <td>NaN</td>\n",
              "      <td>NaN</td>\n",
              "      <td>NaN</td>\n",
              "      <td>NaN</td>\n",
              "      <td>NaN</td>\n",
              "      <td>...</td>\n",
              "      <td>54</td>\n",
              "      <td>68</td>\n",
              "      <td>43</td>\n",
              "      <td>62</td>\n",
              "      <td>27</td>\n",
              "      <td>70</td>\n",
              "      <td>17</td>\n",
              "      <td>43</td>\n",
              "      <td>0</td>\n",
              "      <td>0</td>\n",
              "    </tr>\n",
              "    <tr>\n",
              "      <th>1991-09-30 22:40:00</th>\n",
              "      <td>NaN</td>\n",
              "      <td>NaN</td>\n",
              "      <td>NaN</td>\n",
              "      <td>NaN</td>\n",
              "      <td>NaN</td>\n",
              "      <td>NaN</td>\n",
              "      <td>NaN</td>\n",
              "      <td>NaN</td>\n",
              "      <td>NaN</td>\n",
              "      <td>NaN</td>\n",
              "      <td>...</td>\n",
              "      <td>54</td>\n",
              "      <td>65</td>\n",
              "      <td>42</td>\n",
              "      <td>60</td>\n",
              "      <td>29</td>\n",
              "      <td>70</td>\n",
              "      <td>15</td>\n",
              "      <td>42</td>\n",
              "      <td>0</td>\n",
              "      <td>0</td>\n",
              "    </tr>\n",
              "    <tr>\n",
              "      <th>1991-09-30 23:00:00</th>\n",
              "      <td>NaN</td>\n",
              "      <td>NaN</td>\n",
              "      <td>NaN</td>\n",
              "      <td>NaN</td>\n",
              "      <td>NaN</td>\n",
              "      <td>NaN</td>\n",
              "      <td>NaN</td>\n",
              "      <td>NaN</td>\n",
              "      <td>NaN</td>\n",
              "      <td>NaN</td>\n",
              "      <td>...</td>\n",
              "      <td>53</td>\n",
              "      <td>64</td>\n",
              "      <td>39</td>\n",
              "      <td>66</td>\n",
              "      <td>27</td>\n",
              "      <td>70</td>\n",
              "      <td>15</td>\n",
              "      <td>40</td>\n",
              "      <td>0</td>\n",
              "      <td>0</td>\n",
              "    </tr>\n",
              "    <tr>\n",
              "      <th>1991-09-30 23:20:00</th>\n",
              "      <td>NaN</td>\n",
              "      <td>NaN</td>\n",
              "      <td>NaN</td>\n",
              "      <td>NaN</td>\n",
              "      <td>NaN</td>\n",
              "      <td>NaN</td>\n",
              "      <td>NaN</td>\n",
              "      <td>NaN</td>\n",
              "      <td>NaN</td>\n",
              "      <td>NaN</td>\n",
              "      <td>...</td>\n",
              "      <td>46</td>\n",
              "      <td>62</td>\n",
              "      <td>42</td>\n",
              "      <td>68</td>\n",
              "      <td>25</td>\n",
              "      <td>70</td>\n",
              "      <td>13</td>\n",
              "      <td>44</td>\n",
              "      <td>0</td>\n",
              "      <td>0</td>\n",
              "    </tr>\n",
              "    <tr>\n",
              "      <th>1991-09-30 23:40:00</th>\n",
              "      <td>NaN</td>\n",
              "      <td>NaN</td>\n",
              "      <td>NaN</td>\n",
              "      <td>NaN</td>\n",
              "      <td>NaN</td>\n",
              "      <td>NaN</td>\n",
              "      <td>NaN</td>\n",
              "      <td>NaN</td>\n",
              "      <td>NaN</td>\n",
              "      <td>NaN</td>\n",
              "      <td>...</td>\n",
              "      <td>45</td>\n",
              "      <td>59</td>\n",
              "      <td>45</td>\n",
              "      <td>68</td>\n",
              "      <td>25</td>\n",
              "      <td>71</td>\n",
              "      <td>11</td>\n",
              "      <td>40</td>\n",
              "      <td>0</td>\n",
              "      <td>0</td>\n",
              "    </tr>\n",
              "  </tbody>\n",
              "</table>\n",
              "<p>13095 rows × 141 columns</p>\n",
              "</div>\n",
              "    <div class=\"colab-df-buttons\">\n",
              "\n",
              "  <div class=\"colab-df-container\">\n",
              "    <button class=\"colab-df-convert\" onclick=\"convertToInteractive('df-9d5ea6b4-d66d-4e1b-9946-2e25a97699f8')\"\n",
              "            title=\"Convert this dataframe to an interactive table.\"\n",
              "            style=\"display:none;\">\n",
              "\n",
              "  <svg xmlns=\"http://www.w3.org/2000/svg\" height=\"24px\" viewBox=\"0 -960 960 960\">\n",
              "    <path d=\"M120-120v-720h720v720H120Zm60-500h600v-160H180v160Zm220 220h160v-160H400v160Zm0 220h160v-160H400v160ZM180-400h160v-160H180v160Zm440 0h160v-160H620v160ZM180-180h160v-160H180v160Zm440 0h160v-160H620v160Z\"/>\n",
              "  </svg>\n",
              "    </button>\n",
              "\n",
              "  <style>\n",
              "    .colab-df-container {\n",
              "      display:flex;\n",
              "      gap: 12px;\n",
              "    }\n",
              "\n",
              "    .colab-df-convert {\n",
              "      background-color: #E8F0FE;\n",
              "      border: none;\n",
              "      border-radius: 50%;\n",
              "      cursor: pointer;\n",
              "      display: none;\n",
              "      fill: #1967D2;\n",
              "      height: 32px;\n",
              "      padding: 0 0 0 0;\n",
              "      width: 32px;\n",
              "    }\n",
              "\n",
              "    .colab-df-convert:hover {\n",
              "      background-color: #E2EBFA;\n",
              "      box-shadow: 0px 1px 2px rgba(60, 64, 67, 0.3), 0px 1px 3px 1px rgba(60, 64, 67, 0.15);\n",
              "      fill: #174EA6;\n",
              "    }\n",
              "\n",
              "    .colab-df-buttons div {\n",
              "      margin-bottom: 4px;\n",
              "    }\n",
              "\n",
              "    [theme=dark] .colab-df-convert {\n",
              "      background-color: #3B4455;\n",
              "      fill: #D2E3FC;\n",
              "    }\n",
              "\n",
              "    [theme=dark] .colab-df-convert:hover {\n",
              "      background-color: #434B5C;\n",
              "      box-shadow: 0px 1px 3px 1px rgba(0, 0, 0, 0.15);\n",
              "      filter: drop-shadow(0px 1px 2px rgba(0, 0, 0, 0.3));\n",
              "      fill: #FFFFFF;\n",
              "    }\n",
              "  </style>\n",
              "\n",
              "    <script>\n",
              "      const buttonEl =\n",
              "        document.querySelector('#df-9d5ea6b4-d66d-4e1b-9946-2e25a97699f8 button.colab-df-convert');\n",
              "      buttonEl.style.display =\n",
              "        google.colab.kernel.accessAllowed ? 'block' : 'none';\n",
              "\n",
              "      async function convertToInteractive(key) {\n",
              "        const element = document.querySelector('#df-9d5ea6b4-d66d-4e1b-9946-2e25a97699f8');\n",
              "        const dataTable =\n",
              "          await google.colab.kernel.invokeFunction('convertToInteractive',\n",
              "                                                    [key], {});\n",
              "        if (!dataTable) return;\n",
              "\n",
              "        const docLinkHtml = 'Like what you see? Visit the ' +\n",
              "          '<a target=\"_blank\" href=https://colab.research.google.com/notebooks/data_table.ipynb>data table notebook</a>'\n",
              "          + ' to learn more about interactive tables.';\n",
              "        element.innerHTML = '';\n",
              "        dataTable['output_type'] = 'display_data';\n",
              "        await google.colab.output.renderOutput(dataTable, element);\n",
              "        const docLink = document.createElement('div');\n",
              "        docLink.innerHTML = docLinkHtml;\n",
              "        element.appendChild(docLink);\n",
              "      }\n",
              "    </script>\n",
              "  </div>\n",
              "\n",
              "\n",
              "<div id=\"df-91848627-d7a5-44d3-b037-8244bb8bd14e\">\n",
              "  <button class=\"colab-df-quickchart\" onclick=\"quickchart('df-91848627-d7a5-44d3-b037-8244bb8bd14e')\"\n",
              "            title=\"Suggest charts.\"\n",
              "            style=\"display:none;\">\n",
              "\n",
              "<svg xmlns=\"http://www.w3.org/2000/svg\" height=\"24px\"viewBox=\"0 0 24 24\"\n",
              "     width=\"24px\">\n",
              "    <g>\n",
              "        <path d=\"M19 3H5c-1.1 0-2 .9-2 2v14c0 1.1.9 2 2 2h14c1.1 0 2-.9 2-2V5c0-1.1-.9-2-2-2zM9 17H7v-7h2v7zm4 0h-2V7h2v10zm4 0h-2v-4h2v4z\"/>\n",
              "    </g>\n",
              "</svg>\n",
              "  </button>\n",
              "\n",
              "<style>\n",
              "  .colab-df-quickchart {\n",
              "      --bg-color: #E8F0FE;\n",
              "      --fill-color: #1967D2;\n",
              "      --hover-bg-color: #E2EBFA;\n",
              "      --hover-fill-color: #174EA6;\n",
              "      --disabled-fill-color: #AAA;\n",
              "      --disabled-bg-color: #DDD;\n",
              "  }\n",
              "\n",
              "  [theme=dark] .colab-df-quickchart {\n",
              "      --bg-color: #3B4455;\n",
              "      --fill-color: #D2E3FC;\n",
              "      --hover-bg-color: #434B5C;\n",
              "      --hover-fill-color: #FFFFFF;\n",
              "      --disabled-bg-color: #3B4455;\n",
              "      --disabled-fill-color: #666;\n",
              "  }\n",
              "\n",
              "  .colab-df-quickchart {\n",
              "    background-color: var(--bg-color);\n",
              "    border: none;\n",
              "    border-radius: 50%;\n",
              "    cursor: pointer;\n",
              "    display: none;\n",
              "    fill: var(--fill-color);\n",
              "    height: 32px;\n",
              "    padding: 0;\n",
              "    width: 32px;\n",
              "  }\n",
              "\n",
              "  .colab-df-quickchart:hover {\n",
              "    background-color: var(--hover-bg-color);\n",
              "    box-shadow: 0 1px 2px rgba(60, 64, 67, 0.3), 0 1px 3px 1px rgba(60, 64, 67, 0.15);\n",
              "    fill: var(--button-hover-fill-color);\n",
              "  }\n",
              "\n",
              "  .colab-df-quickchart-complete:disabled,\n",
              "  .colab-df-quickchart-complete:disabled:hover {\n",
              "    background-color: var(--disabled-bg-color);\n",
              "    fill: var(--disabled-fill-color);\n",
              "    box-shadow: none;\n",
              "  }\n",
              "\n",
              "  .colab-df-spinner {\n",
              "    border: 2px solid var(--fill-color);\n",
              "    border-color: transparent;\n",
              "    border-bottom-color: var(--fill-color);\n",
              "    animation:\n",
              "      spin 1s steps(1) infinite;\n",
              "  }\n",
              "\n",
              "  @keyframes spin {\n",
              "    0% {\n",
              "      border-color: transparent;\n",
              "      border-bottom-color: var(--fill-color);\n",
              "      border-left-color: var(--fill-color);\n",
              "    }\n",
              "    20% {\n",
              "      border-color: transparent;\n",
              "      border-left-color: var(--fill-color);\n",
              "      border-top-color: var(--fill-color);\n",
              "    }\n",
              "    30% {\n",
              "      border-color: transparent;\n",
              "      border-left-color: var(--fill-color);\n",
              "      border-top-color: var(--fill-color);\n",
              "      border-right-color: var(--fill-color);\n",
              "    }\n",
              "    40% {\n",
              "      border-color: transparent;\n",
              "      border-right-color: var(--fill-color);\n",
              "      border-top-color: var(--fill-color);\n",
              "    }\n",
              "    60% {\n",
              "      border-color: transparent;\n",
              "      border-right-color: var(--fill-color);\n",
              "    }\n",
              "    80% {\n",
              "      border-color: transparent;\n",
              "      border-right-color: var(--fill-color);\n",
              "      border-bottom-color: var(--fill-color);\n",
              "    }\n",
              "    90% {\n",
              "      border-color: transparent;\n",
              "      border-bottom-color: var(--fill-color);\n",
              "    }\n",
              "  }\n",
              "</style>\n",
              "\n",
              "  <script>\n",
              "    async function quickchart(key) {\n",
              "      const quickchartButtonEl =\n",
              "        document.querySelector('#' + key + ' button');\n",
              "      quickchartButtonEl.disabled = true;  // To prevent multiple clicks.\n",
              "      quickchartButtonEl.classList.add('colab-df-spinner');\n",
              "      try {\n",
              "        const charts = await google.colab.kernel.invokeFunction(\n",
              "            'suggestCharts', [key], {});\n",
              "      } catch (error) {\n",
              "        console.error('Error during call to suggestCharts:', error);\n",
              "      }\n",
              "      quickchartButtonEl.classList.remove('colab-df-spinner');\n",
              "      quickchartButtonEl.classList.add('colab-df-quickchart-complete');\n",
              "    }\n",
              "    (() => {\n",
              "      let quickchartButtonEl =\n",
              "        document.querySelector('#df-91848627-d7a5-44d3-b037-8244bb8bd14e button');\n",
              "      quickchartButtonEl.style.display =\n",
              "        google.colab.kernel.accessAllowed ? 'block' : 'none';\n",
              "    })();\n",
              "  </script>\n",
              "</div>\n",
              "    </div>\n",
              "  </div>\n"
            ]
          },
          "metadata": {},
          "execution_count": 35
        }
      ]
    },
    {
      "cell_type": "markdown",
      "metadata": {
        "id": "rfx3jGjyziUF"
      },
      "source": [
        "### 1. Indexes and offsets\n",
        "\n",
        "Start by creating the `WindowGenerator` class. The `__init__` method includes all the necessary logic for the input and label indices.\n",
        "\n",
        "It also takes the training, evaluation, and test DataFrames as input. These will be converted to `tf.data.Dataset`s of windows later."
      ]
    },
    {
      "cell_type": "markdown",
      "source": [
        "* **Window Generator**"
      ],
      "metadata": {
        "id": "MLke8fpxTltK"
      }
    },
    {
      "cell_type": "code",
      "execution_count": 36,
      "metadata": {
        "id": "Kem30j8QHxyW"
      },
      "outputs": [],
      "source": [
        "class WindowGenerator():\n",
        "  def __init__(self, input_width, label_width, shift,\n",
        "               total_data, val_share=0.2, test_obs=36,\n",
        "               label_columns=None, know_features = temporal_known_features):\n",
        "    # Store the raw data.\n",
        "    self.total_df = total_data\n",
        "    self.test_obs = test_obs\n",
        "    self.val_share = val_share\n",
        "\n",
        "\n",
        "    # Work out the label column indices.\n",
        "    self.label_columns = label_columns\n",
        "    self.know_features = know_features\n",
        "    if label_columns is not None:\n",
        "      self.label_columns_indices = {name: i for i, name in\n",
        "                                    enumerate(label_columns)}\n",
        "    self.column_indices = {name: i for i, name in\n",
        "                           enumerate(total_data.columns)}\n",
        "\n",
        "    # Work out the window parameters.\n",
        "    self.input_width = input_width\n",
        "    self.label_width = label_width\n",
        "    self.shift = shift\n",
        "\n",
        "    self.total_window_size = input_width + shift\n",
        "\n",
        "    self.input_slice = slice(0, input_width)\n",
        "    self.input_indices = np.arange(self.total_window_size)[self.input_slice]\n",
        "\n",
        "    self.label_start = self.total_window_size - self.label_width\n",
        "    self.labels_slice = slice(self.label_start, None)\n",
        "    self.label_indices = np.arange(self.total_window_size)[self.labels_slice]\n",
        "    self.knownfeatures_indices = temporal_known_features\n",
        "\n",
        "    self.input_slice = slice(0, input_width)\n",
        "\n",
        "    ###########\n",
        "\n",
        "    self.submission_dataset = self.total_df.iloc[-self.total_window_size:,:]\n",
        "    self.purged_total_df = self.total_df.iloc[:-self.test_obs,:]\n",
        "\n",
        "    self.tot_obs = len(self.purged_total_df)\n",
        "\n",
        "    self.train_df = self.purged_total_df.iloc[:int(self.tot_obs*(1-self.val_share)),:]\n",
        "    self.val_df = self.purged_total_df.iloc[int(self.tot_obs*(1-self.val_share)-self.input_width):,:]\n",
        "\n",
        "  def __repr__(self):\n",
        "    return '\\n'.join([\n",
        "        f'Total window size: {self.total_window_size}',\n",
        "        f'Input indices: {self.input_indices}',\n",
        "        f'Label indices: {self.label_indices}',\n",
        "        f'Label column name(s): {self.label_columns}',\n",
        "        f'Input Future known features(s): {self.knownfeatures_indices}'])\n"
      ]
    },
    {
      "cell_type": "code",
      "source": [
        "data_gen = WindowGenerator(input_width=48, label_width=36, shift=36,\n",
        "                           label_columns=list_labels,\n",
        "                           total_data=total_data,\n",
        "                           know_features=temporal_known_features)\n",
        "data_gen"
      ],
      "metadata": {
        "id": "11GKbOoWCTAm",
        "colab": {
          "base_uri": "https://localhost:8080/"
        },
        "outputId": "16395aa8-73f9-4b77-c082-0d7310700aa5"
      },
      "execution_count": 37,
      "outputs": [
        {
          "output_type": "execute_result",
          "data": {
            "text/plain": [
              "Total window size: 84\n",
              "Input indices: [ 0  1  2  3  4  5  6  7  8  9 10 11 12 13 14 15 16 17 18 19 20 21 22 23\n",
              " 24 25 26 27 28 29 30 31 32 33 34 35 36 37 38 39 40 41 42 43 44 45 46 47]\n",
              "Label indices: [48 49 50 51 52 53 54 55 56 57 58 59 60 61 62 63 64 65 66 67 68 69 70 71\n",
              " 72 73 74 75 76 77 78 79 80 81 82 83]\n",
              "Label column name(s): ['00_EB', '00_NB', '00_SB', '01_EB', '01_NB', '01_SB', '01_WB', '02_EB', '02_NB', '02_SB', '02_WB', '03_EB', '03_NB', '03_NE', '03_SB', '03_SW', '03_WB', '10_EB', '10_NB', '10_NE', '10_SB', '10_SW', '10_WB', '11_EB', '11_NB', '11_SB', '11_WB', '12_EB', '12_NB', '12_NE', '12_SB', '12_SW', '12_WB', '13_EB', '13_NB', '13_NE', '13_SB', '13_SW', '13_WB', '20_EB', '20_NB', '20_SB', '20_WB', '21_EB', '21_NB', '21_NE', '21_NW', '21_SB', '21_SE', '21_SW', '21_WB', '22_EB', '22_NB', '22_NE', '22_NW', '22_SB', '22_SE', '22_SW', '22_WB', '23_EB', '23_NB', '23_NE', '23_SB', '23_SW', '23_WB']\n",
              "Input Future known features(s): ['12_WB_median', '02_NB_median', '11_WB_median', 'day', '23_SB_median', '22_NW_median', '01_EB_median', '22_NE_median', '12_SW_median', '13_SW_median', '10_NE_median', '03_NB_median', 'weekday', '03_NE_median', '11_EB_median', '10_WB_median', '01_NB_median', '23_WB_median', '10_NB_median', '12_EB_median', 'moment_cos', '13_SB_median', '10_SW_median', '03_SB_median', '12_NE_median', 'minute', '22_NB_median', '10_EB_median', '22_SB_median', 'moment', '10_SB_median', '21_SB_median', '11_SB_median', '21_SE_median', '13_NB_median', '01_WB_median', '02_WB_median', '22_SE_median', '23_SW_median', '23_NE_median', '21_NW_median', 'moment_sin', 'school_pickup', '13_EB_median', '23_EB_median', 'hour', '03_WB_median', '21_SW_median', '13_NE_median', '22_WB_median', '02_EB_median', 'afternoon', '00_NB_median', '12_SB_median', '20_WB_median', '03_EB_median', '12_NB_median', '00_EB_median', '20_NB_median', '23_NB_median', '21_WB_median', '02_SB_median', '22_EB_median', '20_EB_median', '11_NB_median', '21_NE_median', '13_WB_median', '21_EB_median', '21_NB_median', '22_SW_median', 'weekend', '03_SW_median', '00_SB_median', '20_SB_median', 'school_drop', '01_SB_median']"
            ]
          },
          "metadata": {},
          "execution_count": 37
        }
      ]
    },
    {
      "cell_type": "code",
      "source": [
        "def provide_datasets(self):\n",
        "\n",
        "  return self.train_df, self.val_df, self.submission_dataset\n",
        "\n",
        "WindowGenerator.datasets = provide_datasets"
      ],
      "metadata": {
        "id": "rRUb_JTIO9M8"
      },
      "execution_count": 38,
      "outputs": []
    },
    {
      "cell_type": "code",
      "source": [
        "train_x, val_x, subs_x = data_gen.datasets()\n",
        "\n",
        "print(\"Train Dataset Shape: {}\\nValid Dataset Shape: {}\\nSubmission Dataset Shape: {}\".format(train_x.shape,val_x.shape,subs_x.shape))"
      ],
      "metadata": {
        "colab": {
          "base_uri": "https://localhost:8080/"
        },
        "id": "mO6mey2iO9JS",
        "outputId": "200df5a4-1194-45a4-bb0d-f809c3f96520"
      },
      "execution_count": 39,
      "outputs": [
        {
          "output_type": "stream",
          "name": "stdout",
          "text": [
            "Train Dataset Shape: (10447, 141)\n",
            "Valid Dataset Shape: (2660, 141)\n",
            "Submission Dataset Shape: (84, 141)\n"
          ]
        }
      ]
    },
    {
      "cell_type": "markdown",
      "source": [
        "* **Window Split**"
      ],
      "metadata": {
        "id": "t5WM2ye3TixO"
      }
    },
    {
      "cell_type": "code",
      "source": [
        "def split_window(self, features):\n",
        "  inputs = features[:, self.input_slice, :]\n",
        "  known_future_inputs = features[:, self.labels_slice, :]\n",
        "  labels = features[:, self.labels_slice, :]\n",
        "  if self.label_columns is not None:\n",
        "    labels = tf.stack(\n",
        "        [labels[:, :, self.column_indices[name]] for name in self.label_columns],\n",
        "        axis=-1)\n",
        "\n",
        "  if self.know_features is not None:\n",
        "    known_future_inputs = tf.stack(\n",
        "        [known_future_inputs[:, :, self.column_indices[name]] for name in self.know_features],\n",
        "        axis=-1)\n",
        "\n",
        "  # Slicing doesn't preserve static shape information, so set the shapes\n",
        "  # manually. This way the `tf.data.Datasets` are easier to inspect.\n",
        "  inputs.set_shape([None, self.input_width, None])\n",
        "  known_future_inputs.set_shape([None, self.label_width, None])\n",
        "  labels.set_shape([None, self.label_width, None])\n",
        "\n",
        "  return (inputs, known_future_inputs), labels\n",
        "\n",
        "WindowGenerator.split_window = split_window"
      ],
      "metadata": {
        "id": "7GeZV-U4O9Ft"
      },
      "execution_count": 40,
      "outputs": []
    },
    {
      "cell_type": "code",
      "source": [
        "# Stack three slices, the length of the total window.\n",
        "example_window = tf.stack([np.array(train_x[:data_gen.total_window_size]),\n",
        "                           np.array(train_x[100:100+data_gen.total_window_size]),\n",
        "                           np.array(train_x[200:200+data_gen.total_window_size])])\n",
        "\n",
        "example_inputs, example_labels = data_gen.split_window(example_window)\n",
        "\n",
        "print('All shapes are: (batch, time, features)')\n",
        "print(f'Window shape: {example_window.shape}')\n",
        "print(f'Past Inputs shape: {example_inputs[0].shape}')\n",
        "print(f'Future Inputs shape: {example_inputs[1].shape}')\n",
        "print(f'Labels shape: {example_labels.shape}')"
      ],
      "metadata": {
        "colab": {
          "base_uri": "https://localhost:8080/"
        },
        "id": "-Ju3OIjHO9CZ",
        "outputId": "c553d29e-938c-4c0a-dd21-43c6399e06ab"
      },
      "execution_count": 41,
      "outputs": [
        {
          "output_type": "stream",
          "name": "stdout",
          "text": [
            "All shapes are: (batch, time, features)\n",
            "Window shape: (3, 84, 141)\n",
            "Past Inputs shape: (3, 48, 141)\n",
            "Future Inputs shape: (3, 36, 76)\n",
            "Labels shape: (3, 36, 65)\n"
          ]
        }
      ]
    },
    {
      "cell_type": "markdown",
      "source": [
        "* **Plot**"
      ],
      "metadata": {
        "id": "TMw_9WRPTfM1"
      }
    },
    {
      "cell_type": "code",
      "source": [
        "data_gen.example = example_inputs, example_labels\n",
        "\n",
        "def plot(self, model=None, plot_col='NORTH', max_subplots=3):\n",
        "  inputs, labels = self.example\n",
        "  plt.figure(figsize=(12, 8))\n",
        "  plot_col_index = self.column_indices[plot_col]\n",
        "  max_n = min(max_subplots, len(inputs[0]))\n",
        "  for n in range(max_n):\n",
        "    plt.subplot(max_n, 1, n+1)\n",
        "    plt.ylabel(f'{plot_col} [normed]')\n",
        "    plt.plot(self.input_indices, inputs[0][n, :, plot_col_index],\n",
        "             label='Inputs', marker='.', zorder=-10)\n",
        "\n",
        "    if self.label_columns:\n",
        "      label_col_index = self.label_columns_indices.get(plot_col, None)\n",
        "    else:\n",
        "      label_col_index = plot_col_index\n",
        "\n",
        "    if label_col_index is None:\n",
        "      continue\n",
        "\n",
        "    plt.scatter(self.label_indices, labels[n, :, label_col_index],\n",
        "                edgecolors='k', label='Labels', c='#2ca02c', s=64)\n",
        "    plt.grid(linestyle='--', alpha=0.5)\n",
        "\n",
        "    if model is not None:\n",
        "      predictions = model(inputs)\n",
        "      plt.scatter(self.label_indices, predictions[n, :, label_col_index],\n",
        "                  marker='X', edgecolors='k', label='Predictions',\n",
        "                  c='#ff7f0e', s=64)\n",
        "\n",
        "    if n == 0:\n",
        "      plt.legend()\n",
        "\n",
        "  plt.xlabel('Time [D]')\n",
        "\n",
        "WindowGenerator.plot = plot"
      ],
      "metadata": {
        "id": "FxzAzzW9O8-h"
      },
      "execution_count": 42,
      "outputs": []
    },
    {
      "cell_type": "code",
      "source": [
        "data_gen.plot(max_subplots=5,plot_col=\"00_EB\")"
      ],
      "metadata": {
        "colab": {
          "base_uri": "https://localhost:8080/",
          "height": 696
        },
        "id": "oLvhfjoaCS9U",
        "outputId": "53c930fc-4a4d-49e4-c75f-9a9eaf31d7e1"
      },
      "execution_count": 43,
      "outputs": [
        {
          "output_type": "display_data",
          "data": {
            "text/plain": [
              "<Figure size 1200x800 with 3 Axes>"
            ],
            "image/png": "[encoded data removed]"
          },
          "metadata": {}
        }
      ]
    },
    {
      "cell_type": "code",
      "source": [
        "data_gen.plot(plot_col='20_WB')"
      ],
      "metadata": {
        "id": "xRuypo_gCS5t",
        "colab": {
          "base_uri": "https://localhost:8080/",
          "height": 696
        },
        "outputId": "7accb29e-34ff-4c2e-a588-931701f4e942"
      },
      "execution_count": 44,
      "outputs": [
        {
          "output_type": "display_data",
          "data": {
            "text/plain": [
              "<Figure size 1200x800 with 3 Axes>"
            ],
            "image/png": "[encoded data removed]"
          },
          "metadata": {}
        }
      ]
    },
    {
      "cell_type": "markdown",
      "source": [
        "* **Create `tf.data.Dataset`**"
      ],
      "metadata": {
        "id": "Akk4-gLAquvZ"
      }
    },
    {
      "cell_type": "code",
      "source": [
        "def make_dataset(self, data):\n",
        "  data = np.array(data, dtype=np.float32)\n",
        "  ds = tf.keras.utils.timeseries_dataset_from_array(\n",
        "      data=data,\n",
        "      targets=None,\n",
        "      sequence_length=self.total_window_size,\n",
        "      sequence_stride=1,\n",
        "      shuffle=True,\n",
        "      batch_size=32,)\n",
        "\n",
        "  ds = ds.map(self.split_window)\n",
        "\n",
        "  return ds\n",
        "\n",
        "WindowGenerator.make_dataset = make_dataset"
      ],
      "metadata": {
        "id": "nY3RNltBqulL"
      },
      "execution_count": 45,
      "outputs": []
    },
    {
      "cell_type": "code",
      "source": [
        "@property\n",
        "def train(self):\n",
        "  return self.make_dataset(self.train_df)\n",
        "\n",
        "@property\n",
        "def val(self):\n",
        "  return self.make_dataset(self.val_df)\n",
        "\n",
        "@property\n",
        "def test(self):\n",
        "  return self.make_dataset(self.test_df)\n",
        "\n",
        "@property\n",
        "def example(self):\n",
        "  \"\"\"Get and cache an example batch of `inputs, labels` for plotting.\"\"\"\n",
        "  result = getattr(self, '_example', None)\n",
        "  if result is None:\n",
        "    # No example batch was found, so get one from the `.train` dataset\n",
        "    result = next(iter(self.train))\n",
        "    # And cache it for next time\n",
        "    self._example = result\n",
        "  return result\n",
        "\n",
        "WindowGenerator.train = train\n",
        "WindowGenerator.val = val\n",
        "WindowGenerator.test = test\n",
        "WindowGenerator.example = example"
      ],
      "metadata": {
        "id": "WjrYJHFOquhv"
      },
      "execution_count": 46,
      "outputs": []
    },
    {
      "cell_type": "code",
      "source": [
        "# Each element is an (inputs, label) pair.\n",
        "data_gen.train.element_spec"
      ],
      "metadata": {
        "colab": {
          "base_uri": "https://localhost:8080/"
        },
        "id": "8dIEEyFAque4",
        "outputId": "92c8e72f-3c07-4dc8-e8d3-c95dcd8edb92"
      },
      "execution_count": 47,
      "outputs": [
        {
          "output_type": "execute_result",
          "data": {
            "text/plain": [
              "((TensorSpec(shape=(None, 48, 141), dtype=tf.float32, name=None),\n",
              "  TensorSpec(shape=(None, 36, 76), dtype=tf.float32, name=None)),\n",
              " TensorSpec(shape=(None, 36, 65), dtype=tf.float32, name=None))"
            ]
          },
          "metadata": {},
          "execution_count": 47
        }
      ]
    },
    {
      "cell_type": "code",
      "source": [
        "a,b = data_gen.example\n",
        "\n",
        "print(f'Past Inputs shape (batch, time, features): {a[0].shape}')\n",
        "print(f'Future Inputs shape (batch, time, features): {a[1].shape}')\n",
        "print(f'Labels shape (batch, time, features): {b.shape}')"
      ],
      "metadata": {
        "colab": {
          "base_uri": "https://localhost:8080/"
        },
        "id": "fcyTdO66qubz",
        "outputId": "15e4bb70-6908-43ce-acf9-a92f79167400"
      },
      "execution_count": 48,
      "outputs": [
        {
          "output_type": "stream",
          "name": "stdout",
          "text": [
            "Past Inputs shape (batch, time, features): (32, 48, 141)\n",
            "Future Inputs shape (batch, time, features): (32, 36, 76)\n",
            "Labels shape (batch, time, features): (32, 36, 65)\n"
          ]
        }
      ]
    },
    {
      "cell_type": "markdown",
      "source": [
        "## **4.0 Time series Transformer**\n",
        "\n",
        "Based on the following [Repositary](https://github.com/KasperGroesLudvigsen/influenza_transformer/blob/main/transformer_timeseries.py)."
      ],
      "metadata": {
        "id": "b2TvMMHuOma_"
      }
    },
    {
      "cell_type": "markdown",
      "source": [
        "![trans_arch.webp](data:image/webp;base64,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)\n",
        "\n",
        "### **4.1 Decomposing the transformer architecture**\n",
        "Let’s decompose the transformer architecture showed in the diagram into its component parts."
      ],
      "metadata": {
        "id": "ma6u5XvHQgJY"
      }
    },
    {
      "cell_type": "markdown",
      "source": [
        "### **4.1.0 Positional Encoding**\n",
        "\n",
        "The authors of the original transformer paper describe very succinctly what the positional encoding layer does and why it is needed:\n",
        "\n",
        "“Since our model contains no recurrence and no convolution, in order for the model to make use of the order of the sequence, we must inject some information about the relative or absolute position of the tokens in the sequence.”\n",
        "\n",
        "![Pos_encoder.webp](data:image/webp;base64,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)\n"
      ],
      "metadata": {
        "id": "-SVFojZrWThk"
      }
    },
    {
      "cell_type": "code",
      "source": [
        "from tensorflow.keras.layers import TextVectorization, Embedding, Layer\n",
        "from tensorflow.python.ops.numpy_ops import np_config\n",
        "np_config.enable_numpy_behavior()"
      ],
      "metadata": {
        "id": "rQM2DsUQXUc9"
      },
      "execution_count": 49,
      "outputs": []
    },
    {
      "cell_type": "code",
      "source": [
        "class PositionalEncoder(Layer):\n",
        "    def __init__(self, sequence_length: int=5000, d_model: int=512, dropout:float=0.1,  **kwargs):\n",
        "        \"\"\"\n",
        "        Parameters:\n",
        "            dropout: the dropout rate\n",
        "            max_seq_len: the maximum length of the input sequences\n",
        "            d_model: The dimension of the output of sub-layers in the model\n",
        "                     (Vaswani et al, 2017)\n",
        "        \"\"\"\n",
        "        super(PositionalEncoder, self).__init__(**kwargs)\n",
        "        self.dropout = tf.keras.layers.Dropout(rate=dropout)\n",
        "        self.pe = self.get_position_encoding(sequence_length, d_model)\n",
        "\n",
        "    def get_position_encoding(self, seq_len, d, n=10000):\n",
        "        P = np.zeros((seq_len, d))\n",
        "        for k in range(seq_len):\n",
        "            for i in tf.range(int(d/2)):\n",
        "                denominator = np.power(n, 2*i/d)\n",
        "                P[k, 2*i] = np.sin(k/denominator)\n",
        "                P[k, 2*i+1] = np.cos(k/denominator)\n",
        "        return P\n",
        "\n",
        "\n",
        "    def call(self,inputs):\n",
        "\n",
        "        x = inputs + self.pe#[:,:inputs.size(1)]\n",
        "\n",
        "        return self.dropout(x)"
      ],
      "metadata": {
        "id": "ElTQpx6SXGvT"
      },
      "execution_count": 70,
      "outputs": []
    },
    {
      "cell_type": "code",
      "source": [
        "def positional_encoding(sequence_length, embedding_dim, num_variables):\n",
        "  \"\"\"\n",
        "  Creates a positional encoding matrix for a multivariate time series of length `sequence_length` and embedding dimension `embedding_dim`.\n",
        "\n",
        "  Args:\n",
        "    sequence_length: The length of the time series.\n",
        "    embedding_dim: The embedding dimension.\n",
        "    num_variables: The number of variables in the multivariate time series.\n",
        "\n",
        "  Returns:\n",
        "    A tensor of shape (sequence_length, num_variables, embedding_dim) containing the positional encoding.\n",
        "  \"\"\"\n",
        "\n",
        "  position = tf.cast(tf.range(sequence_length), tf.float32)[:, tf.newaxis, tf.newaxis]\n",
        "  num_timescales = embedding_dim // 2\n",
        "  log_timescale_increment = (np.log(float(1e4) / float(1)) / (tf.cast(num_timescales, tf.float32) - 1))\n",
        "  inv_timescales = np.exp(tf.cast(tf.range(num_timescales), tf.float32) * -log_timescale_increment)[tf.newaxis, :, tf.newaxis]\n",
        "  scaled_time = position * tf.expand_dims(inv_timescales, 0)\n",
        "  signal = tf.concat([tf.sin(scaled_time), tf.cos(scaled_time)], axis=-1)\n",
        "\n",
        "#  signal = tf.expand_dims(signal, axis=-2)\n",
        "  return signal"
      ],
      "metadata": {
        "id": "RHPJk-fRsCxX"
      },
      "execution_count": 64,
      "outputs": []
    },
    {
      "cell_type": "code",
      "source": [
        "pc=PositionalEncoder(sequence_length=48,d_model=141)(a[0])\n",
        "\n",
        "pc.shape"
      ],
      "metadata": {
        "id": "3VO8qTzyWr8y",
        "colab": {
          "base_uri": "https://localhost:8080/"
        },
        "outputId": "3fece4e4-06bf-4750-b69b-fda3a5dca0df"
      },
      "execution_count": 71,
      "outputs": [
        {
          "output_type": "execute_result",
          "data": {
            "text/plain": [
              "TensorShape([32, 48, 141])"
            ]
          },
          "metadata": {},
          "execution_count": 71
        }
      ]
    },
    {
      "cell_type": "code",
      "source": [
        "ac = positional_encoding(48, 141, 12)\n",
        "ac.shape"
      ],
      "metadata": {
        "colab": {
          "base_uri": "https://localhost:8080/"
        },
        "id": "U-thlbBgKubS",
        "outputId": "d883674a-4952-4614-ee52-08a9384bd65d"
      },
      "execution_count": 66,
      "outputs": [
        {
          "output_type": "execute_result",
          "data": {
            "text/plain": [
              "TensorShape([1, 48, 70, 1, 2])"
            ]
          },
          "metadata": {},
          "execution_count": 66
        }
      ]
    },
    {
      "cell_type": "code",
      "source": [
        "print(f'Past Inputs shape (batch, time, features): {a[0].shape}')\n",
        "print(f'Future Inputs shape (batch, time, features): {a[1].shape}')\n",
        "print(f'Labels shape (batch, time, features): {b.shape}')"
      ],
      "metadata": {
        "id": "H-kEmPu7Wr0S",
        "colab": {
          "base_uri": "https://localhost:8080/"
        },
        "outputId": "9d71fec6-7d25-4a4d-8771-15ebac1dfa66"
      },
      "execution_count": 53,
      "outputs": [
        {
          "output_type": "stream",
          "name": "stdout",
          "text": [
            "Past Inputs shape (batch, time, features): (32, 48, 141)\n",
            "Future Inputs shape (batch, time, features): (32, 36, 76)\n",
            "Labels shape (batch, time, features): (32, 36, 65)\n"
          ]
        }
      ]
    },
    {
      "cell_type": "code",
      "source": [],
      "metadata": {
        "id": "TO3OhsGWWrwy"
      },
      "execution_count": 53,
      "outputs": []
    },
    {
      "cell_type": "markdown",
      "source": [
        "### **4.1.1 The encoder input layer**\n",
        "\n",
        "![inputllayer.webp](data:image/webp;base64,UklGRk4uAABXRUJQVlA4WAoAAAAIAAAAzwIAkgEAVlA4IG4tAADQ/gCdASrQApMBPm02lkgkIyKhpjQJUIANiWlu+DOaFaH3H0gMxqlPc27lwPv03/Gd7/+R/13ib5bvn+1l945k7Vvsgny/l/x38m/llqBXOey617/g+gF7H/evMH97/93+W9Rfrz/5PcA/ln95/6Xrj/0/Cu+w/7z9vPgH/n39z/8P+o/NT6df8nyGfXvsHdLvyiCKIiIiIiIiIiIiIiIiIiIiIiIiIiIiIiIiIiIiIiIiIiIiIiIiIiIiIiIiIiIiIiIiIiIiIiIiIiH4z3j8MR4d43j+qqqqqqqqqqqqqqqqqqqqqqqqgC3M0no6mQB9K3TfRFVrh2NvNiftYHi9zwaN6+zMzMzMzMzMzMzMzMzMzMzMzMxONPQuzdIYpWn1Utx3dsc6C6XohzLryIiIiIiIiIiIiIiIiIiH1exoeG2Ke9Zaoi8uq78y6ci2SYZ9y46RhqqqqqqqqqqqqqqqqXQEzL1i5FZ5+Sd3wNklmUySfimFdTrpjsC4xcRY3bH5GioqI1pku6pUoUVKdbNZVscccSt7R9mw0ET36XpkREREREREREREREREPE6QT20EbIvRnVED2egFyUJNp2ZfSlw2Mo99/RRgSbwFjF1AFAyNeEtkXX9rOyQ9n12Z8WRS4NPYvjZLy/H2J1rQpBgRhlN93d3d3d3d3dw7zuAVLkdsDf5J/IpTCWO0Niwb0t4xFoRkK02QSKpDAG+2QM89gKrrkZVCrpwruwPhmuFmqP4koi1XORFAAXRiclJNYwf1ea8OnbPHkPsqF6jHOpzMGo+gNpVVVVUZPWKrtJBCYSuVxd5fPtQCQvMiBrr/tRwGKWq59Ytrl21Y2HOip4iVsFmEH1ZKivVNRmcCMKGpQBOFgdEruosW0pQV8YKIdisdEjrWQ/xMn4hGferkZmwe3tdptRY0vsYMBUR/V0HtKVhDsIQKzeey2OSIiIeYgtBJng8CbDGQ3GTwp7TR29KMcsRC8Rtl+X90axhz86xu3m5YEZwXNu9vnN0ifTL1jEpCPh8ckFKAI3uUQnbQTqjxPP6nZLSNGuHJHXK9BozCO6ZtVuC82p8RtTU6vJGPAKxORbzz3pkchlWp/wCdGUimbEdUUFcbiJ7Gf///+lySneXyiq/k3/oUNpgznodhui2kNFwLzZCu+Fb9FMOd8W3CYup3/dAlvIyhAC1qH0krqprnwRWiod0Rnjznq3224Fx5WX8fyVaVNdRKh/JPtMY2U3rUWZmZmY5Pqtpb0G3msAMP/FekwW7I9nXNSDdn3WB+8q8CX4dY6YH95knNcI6771toXnJpbAcoD9cixusg8HoV23PtHZU8K6f7GxaVc+HYqori7V84oSc0yHPDadvXaSFGbTipHmJDyVMFdSh6m+pmLlv7Sb7Tpj1BMXoJX/xe4REREQxDsWrvHM/xC4bZ/rqLXH7PSg2P5X/5zC7zj32ShipZXMm/L4SPbaMqIPn9aBBw75+YLszsT5rw3gLoTjfct1Q8mifA9jg7EatZgGKovIAx6pnI97RIZX2t0rysZL6HvU3UHOxseZphuR+ZJj1d+awqQQcMzMzL14K1BGk6mekdUPSIDDWBtND4wbUVfI3MdBG3g+hpGi6636zin7b5+L2OQ6UYg46GFDjB3Bm/bTLhRi6yKwxhUcey6GXmE5aoWDE4WoHg6s9BXsuzw4bzdr++3PGjvyIiwwa8Omfz879UPOzRC4ayYPrzqtPELu7u7o+MRlMsdBAw0IV0U5a6KCaWX5RBSj/oEd7IbGSIbS9WdJJ2GqPQalQ0WC5Zsg9HnP1WDl5jStbwnxFL9SOvd0fV3P+Zp1F6gfVzeZWXYj3YH9v1Y/JQCImdze/N9xPbIqf0WU4/PKrirQK+fLswIjbKQmxVKk1ple7+P6MzMzMRfifFLS5E1hg7H8jimRZKgoE5DMf2OzY028c4FTyVMpfDv+qkGjzKYL1cHWWkJbI8x0G9Qa+YtAgS46d7dAm+37zvzFosn27sVGTdIjUV7uPCq4TyHRyQS8Nby8l0CdpDEX1fDzbdajd3d3dr/GR50zgzXxIveHeUzcciAApxpJpkSXwtzWuWwdTqQ7fLindvRIPDUQlgsMnmELa0sop9AmvmX7Jg6dMdzPax5TIkCzzpfpjVrsi2jKqzAD8H9EBoLjw2naKz2h0w77Flx48B4ig1xGf/hv4L3d3d3d3d3du+WcTbswvuNGZAA8vwzWjCOftz/oOVNgxTMr2Lb8vVZ6jmqkT+CsqYzYzHoijwZ3JqI6efPw55vfx9tsEkw07RTsF9Yrf8nAWSHXYnMJ+cO7u7u7u7u7uX4DhoU/5XN95PINJpLBQah6qW77+iYIhoO6bQW7x+e8FWoAUZK16Wo0jlVVVVVVVVVVUsyYTqrPhqwrH9EBDDLlI6tmTCbK6Tv7j6Oo4AdmdlGWQxmEcvVRyP3jHjrdaDjCOlYS21FEid3d3d3d3d3d3d3d3YfHcBGOhYVir2ALDW4twLE/4WijQji459Cyb+GCEYL9pTuzrf23E1PQKNGWnzwU9rjf/TF+VueMMm7u7u7u7u7u7u7u7u7STBrqvxMV9WaOrqAA5fB/E0HSlEQ8cBDHSjHVI876RlGQrIp+Z+PBPZ3tO7u7u7u7u7u7u7u7u7u7u7u7u7u7u7u7u7u7u7u7u7u7u7u7u7u7u7u7u7u7u7u7u7u7u7u7u7u7u7u7u7u7u7u7u7u7u7u7u7u2gAAP7+qKAAAAAAAAACpa7zEhm7lJzoYNZ2/x5wjRe8Ggt4Ui5GgsOVBtqNQThY8N88R9yAAA/U4dY9zaryvYK6Z1mQaVKiHK3JDnmNJnqWtCG+ueNaYE9WJgZOSWk9Tt8vjLJxTGk9gtFi2YbJK23ilpqAwzK1eCUmEGwWCCwSi5JcqqLXjY5ttK2zKfQectQo9K4xDaQGh+3m4LQXOUxDUUqmq9DnAOVI9mXKkRkKHjp0bgWsKUmmJfng5x3SN4DUDkjggkEEuGVwAftNZ4nVj0t4CwbEBs6L2TRaLIiXyuwH2S4OOxHQvIkw3h9Y1pccS9cOjpRCfRLdUMocgpABU1t3QaMqlQ6Ig+WXKQxlq+CXw3uPD3Rxc79bTUbT9DC+fztZn6C5FuNX7LcMr+dykN2V7uPl/M7uiOy8EhPtmPAAAFN+opPNHYMuxUvIzDrfEaNBA4ZwxZztPc/F2FF2tinwEaIiUMQXbIbVcLE1quGGoJcjkOJILEe9J5IZkNcgHnAkk5D3w2MtJdl7x0MWGfd7SY3knFCPUAyZNUslaI3xAAcuvFiPuAu59ht++q5MB72FIwFla+LxqRAyu0fMvYWbKFBcfPPwNoze5Un92JmsyRNrjlaYIiLaSqwXXZn1GuU3lOCfiNn33+QT/xLXCiyJn+5jYwwCLcw+0I8PN1pk/8jOHcDif9Ls5vzjlhkw/BI0pdMG/ITGkrCtwAAS8ay7KtptyRIILzGKrCEQTnhG/sPYgS6AIMfe0I7bzXWZRE+dTORH2NQxaIBPvCGEKC34aW+vlb79rYTvv3ueDd2nTXVT8aXP1wZh3M2z09Qe9GTXlfSzr0olyy1HtJbVTVucSzdXO+ko3R8Jrp6BAsSXiUcCDYjzg4oO2ScTUTY+4r3KfLzWTIojgYTz6XnJyXNh8oOZf+zSaONCWGeXDsVYM7gPctYbJAwQdVYIP61YSSqj3uGhtM8kzgZMghdUMgQgLcS3E/+J0jVezDMTN11OyPrCtIx0RjiuYHW70Kf+c1k5jbDlfRrWN8T/4xgtf5nDJmVM2f0vanVVc0DqGvLmkSIO5AqgR0KWJPeoAkE4No97tSX/tkPg06x0lDQ1ekzwV0F7z0hIW7jyOEIoXTtTLzI7Du0t6RuAQ2pBKTRO9vxgKCH84e3R0rWbwZlppNNzVLtA3TLuvAGjlqk59psZndsiZJxLfwIUNa0uYuaDq6IsMg9KqnE0+HEeSacdF3GgjdGBGtvT9GZXLk+NWYKfdOGAxppt0CBc+dQjvNscAjrR89auNWX9VOWmeBGmWKqAOBYDJQnuUGcftYOGiG9MpGUHWF2bf4fngjb58sVUO4YayY8Dv4rD4+ltVkITTjou0v/9GqYku3O+gyN+3l+nm4rYUPlmAqOVrVLiUsS1SWeR0gAXrP3F5aP0hFG3b1AAAqjlW6i4y5mpHHNQjhLcThEg9QE7rVXoO8mRQBi9jPxW2dX47FI5cQjL3B32HQdfSfJgbZCfpFjKJBCAKzNeOmE5sJnG5xTYPUEUdU0oHZwlZMy6iRPQ1iz5ebs0PMz27yuDMTFdYvQrTsbrX4fYNeCADxdYX9iGBsEFjGBDvEWFCW61jutA6Omgg5LzVWLJH+0jIJBf5VwBThlzAF6aSf3j2Wtd4T+HypHTL559/CAKz0gNLAyI4T4VyowA9WzTpFTVbJSrktlCWHZNDODmVg3bVvESLQX7EUWPfLc46IYp9KIDE0485/RITQzwSuktn9nJYANdY12qdwp0HpphJUgTIJqxFwgbH226cvCKKHVdDqEbFHCZq3e0wG+M5m46wbeRw1vEs8hFgJi6NmQGRKtB0VJyQRIY9hUYF7WP7AAPToR9x1jinoV1dYTsUHPO6eJBbqUIEmc+viOK86gje8dhePAGjoAATNzOacycjIdydn5tJdv2DGu94eggom+DwJQd1V48fjYyCuw1cjSOXrn0fMxBD+jQQYyo7+yR1LNrua2bw1DjhRRTbBT02soosJ7wQJ4g4vPLYp+2Ih97JBcHEPk2V/H7vT9/JQe9pJR/r1LKdIt8IF92KyATU7utOoSC+Ls9OAeVmPEUE62OG9/9iBIvJnBrXTDh4AUMtLBAiZUPHgy0sf1p+Jtd4BTlA4AG68AxGcqfXFmkyjr56hldsI4Vy27ldwVp637badWO7xhh5oUC4gdACcJf23YvsPcOeMISe+B99LQdko/C7dixKB/Rfum6Y5NtUuiJdjhhvrVfd51rymwGRTL02zfKH9LV3LIDZeLX1boFiuC+TqaGFKuGiZKDta5YEkIowVnEKmB4OWmdGtiUgYygsJNPu7Gs39//2C3tfBLqBe9n33udypdsUurnTS58IdDRd+Ft3r4OqTI3lUnIoh5upDCJkXpWkKJTNSrG8t+YTf6afO1sQcG2xUQ3ZA3LkJVM5fsYVX62mGjenB5LDdaNP3Kx6Mt6RAzJRpteWQD+1OBi76Vd/C+4TR/6hPZaJnACr324bcBVlE0bd0HeMn0HJ5z8RNgQCuB/OVl2elHHBrm51+uahT8vrfki4t8GDBzKIFs8x93QP3N1z7+ZohlE/OwO3dw3BUP57VLwXmDlIvDdmMmgsi1NFVZNqGEgHlz0l5qrnRaRN6d2l6tyyACnWcpCN6pNRIOSAAiGxPolMF8yVDUG9VqG8ptfojTZCl+ARrbgKDbcZ/MbW2LP9rXBb41QF0fv3cUxCIvdqIv8KoS55jHRfe/KoTvrY+Q4s9mRCElWAJyDiNjcxFBoJFgqyTZKO4GLVJrkAgXT2aaLBORkemHHv7FB3q4WsQXhMLT6ivths/BG4UIBhQnmiPzsefWzZ6HOQw0+TW3SnHNcWC2ZYHXJ0y5iYukG6wkMFo/gTuH6dkKsGbVj4+0e0FQWYL2221nC33B1zzZ3NpU1xnCbwm1waCQ6cEZOVtnM9Ct0/dn5UM0Z2u4kWAFJq2jOK7cCHbcPGbFFcU7OHaB+qiLBSKBgVsW9IIeFI35ly9Xqd8nU1CegzXsJFJdnRw3idKwBI3SHXsIVoaaUFi4h4iepDyut1/rFhrV6xuAnMzjdS+OihPcHKXZLj7i+mBqHuaZ/hZDcws8h/2vhvSpdmJZcnb/4ImtdnlOYuVm0WEQPW8l/FO3eDihMtUZI5fI7WaZpnOD6rPTntDrWJ93aTe9f2yDOw9usMZnNItAIwRrO+thJbLB50m2cnayIHNdrbF/aao7YyDgN9v5Hh+jjs79rx1bEzjRpOOQDs5WzPB7IDwSjAeS/fJhzXp0TmqSOzi9A67iKHUwG3yI6U4ZGdyt8zXSPl2BvinF6OTPbtDapcgV5ojZ2ENkTz1XfEd5AWQWdka2DWB+SeV2sZ+s7RgSJOppiZNQuMrylLnJreMjt5vlJ9nl9DqpyxYdqpOCqBxN1rIgsfOQ4IiEPZr+Y+iqLD860RAuSzoH/SHi7Yo4KKlPqhCwjcZeyoXV0da4MDJ+ngGgBgWmyXrUFnlyk2vRe4xTRN3R3c/I2lfrBqpbmVh65pzoFdyeEYIiTI8EZA2plhaa4tSXqkq9gdmq7/uoHI8iZ6Ev1djQ07hmv6QGEs+MxoCgIvNipq4Qq+XGZ9fK31p18PZBhnFkgTIuT0BbOrFaA3k7fVb5WS84LtYAZxfqJ6dGKmKTXok62Sois+YOlqmGgb7TVfMz/M3HhbFMF3dEg2plJ86oAgqI8djXzJLo1tuOclqEQKwWCTtVl0pLUw9hcLyh7lDzEvc5ZiTo+Kva2X+U+voxgGrN7W+wnFQK8ZhR1uBRHgIcFfSXUdPySh6GRh7bfPLsY2ibOAG3bAjESIvylvZ6mYHSxMDQOxdrFBTtnV4h8gJotZGg8KoFl7aNBnrfi7cb3wZFRG/4rQuhLxWr5EcXJWuu9PX2btXJBOwAiDiOV9HDDAe4C788Y+hK+cjyRYoZFsxSComhraLAp4I0O76JjMBRO1W8+IYo41oM2Obv4y4Q1/I+GW+TYpCbSqyZW4qvqby9TF99+nw36H6ZON4gZKbG0BCzlJSVqQmC9ya40WFetFuXor2R7hsc/H309lG56DpgZbX9zK1Zx5Pbhq77fdpU8OHa7DND4ZSvGdlbFv5T+Hgou2LNupxHwfk8zsCuy8Do7DlAV8nAolURv514C6R4P3jsKLQEDqzfqEFjwP4AOqRAfE9FjGec7FWIjxNxTeRX2fA/iXNuGjSTGjpGDxkUzNgQpzJHr8Mje21QVQgC0Wggs9Ly9y3J7vppWwuMFIECGJk8KhN1lK8WTzCJd1Rkq4VOggypr9AHj59a3HDX8N6Uk7joblfBU0+ngfp6qDdb5+G8LZcHyRVlkzvXbF5+bS2EWr+OxdASMlu5xKS2iVmJl16VX3YqRQqfJyqW7mAAl1SDHtBSulGH8RCHsXhxPM0z7hd0GQukZvqICIrH7Nz1JwsMw0xFoSCdIqOHbnIStUyhQ4Nqf7nU8GHNsLBJ0kgt5cKEXMtu1hJUa2DjcUBGfOW8vHuPfliM87uhb6lZgBZXJLzcLW3g/9JBFGqtX8tBqWcjuTtRAI2bEoMpEccg+GHykWqXeQvrOM8zNg/P2fbRF6ZUjWjUOnSc55OY6eVVXCLhXctl3FsN/vYhFLc5Gs3yUjtAP03ibIRhE3ri25yxJnCLIC40J0waGxgXQZU7TeXT3nTHmHK8qCx4JntlRRjekgFOyx7G57+CpLzSmuoL56I5mUQugdZH0xDpbfISpIXlhkNjfWT8PVqe1Z/g8+uNFnYI3CsdpMjXbkcFK4U8MvyvG8o6hlEKllVcWoaswh/NQy9RRVinwFwNwBfsCeswc4pvwHPOB1QBxAHGj+AprI/Z6Zk9Y1Xo9WJplggl0vfRsMUyFMaNlzxlui+Ssocb0OBrOvr4AoExrJHircndtckawiTROSo8WDU0QQgiHuTIcq35ddIGNGjefWc9/9blFRqquWJRmtd4kdhvHOiEcQgu/rjqLaa6HDxVzC5y7luQQkl3dYAvadvkOO/W6/NzcOlIE+NihAeli7f5jFHh9FjpGMU/q17gE+7xLRDMuEj79GjD2F2ilFsStB94UStGn2nXg8L4nYl+ZMgAZgu9s1uen1OC0BHB2n+ks5vUAm+QhEdpsbhoBvfplXuB4hdM/f+LNqsLI6I88YNV5vezIGKhn0koPPYCanYuVwW8ystD36lOvPiqRHLFgNYx//cG+e2eTCwzBHs1vKlNrRgP36Hex2iVMhCLNi9MprQvQ3W5V3W/2mojpt3yh97ijxycpB/SnN+UjIXx5ehag2ZfCPft2znoR9Vi3CDRjdw9fSXNGdZdH6YuA7jEIdnUPb/2pPf/WTlNo68MNKGeRcYit+yR75KPgZVXfQrB/8D70wItTW/S5OqmC1tbaf9/2TvPVFvhiGzPrIUwg4gs9ClT1KscAOAJ97RzKewBgXkD07RGJ9ton2PWv8SAlnHT6hslIEl1aaaJiO/j/RTYJjWRIOji/gdg3Duivb8n7g3Y9bSEUY53twrFjEVDeed6xl/XdInLMFkDpHH8b3aqIKTbhz37XKqmNbL6UGs22BXFRn7FZtWYWbr/t/dLlPQmkqj3Oo2WbzeSwxRwCv11It46+yyA6aSr8wIWOXYp8t7jVzJsKIL2aKcmLtki1oOwPNxSysSLZtmIj33adPPfU2IC46VuSMVt4SKoIQKtq5NRZPn1Fk9X4cVdW3WerPOO1X9FXSDLdQk6l/2fx/LRypgG+Aton8kAICmHcqYlVzCeAQOteLTtWaKYtEwrFvp+Bg4+Hury/b0WbGpOVEzxbP6BAzM0VxVCQ9w4vEG/F/BbXDFbJ/pDw6wMOZAGJEk/s7kX2c2couicec2ZoN/bT0Au8/sRTJN7/lnCvcg+jwEyS00FSkR0IUKQ8TnvnJH7SBCTl/UWrr+ZP6O2E9EI7aQ0bBPrNGT9k73Xt11L4ocuYy6BbVVkPl+vNX9SWb/izivgJMfNT6DqlL/FYSPOOdGo5tXFxbt9PpyH1EW5PKm6dK3D+48ISUNFV75wSzNiTH4A3P6i3VESXo2IYDPu4ptKKMV+R1v5tXLH78B9gNztrsVBgi6IkF4Vaj7vX9Gg4Nk0/KkGi2JZ2Dhenr9qg0yzuEaDt7AmVow90XetM6KxktsVeRPYEFNT235ROsG/KGZd72PnaI7eScs0z8t2EFbSaIAFZ1Jw03uMKgP1UZxKwpCiE9LUVyrMBZk4Fd7zM/Juh2cOUR70g/A8BaMgafuVQnN0viLU25Lw3fuwXkXoJWkJfNvffBCQd2maORaMI7z2Ol/VIPx/mmQcCpLMv5ypwf6gULopsGX2ZctWxS0wZKayzYpaUKTcRcJvBFHALXkbhxR898gKIYyeIh/T/txSN4rbtIWAHXCqGeCLRglSlG/mhkZ8cBnPkhW4yBAoUF45QVOzSF0y3hnX/g3ggR5ka1z3DH0VGdT84dvCDpM6cQJG/CXRPhkuhjwPZAUQGpIMe8EK1TLjpdQMC1qTXiIhIoX0GDNRpVMzVoYBOLdU1lRPZZ/WVzbujOWu6tmtzEsw96yRRgwYIQhDQx+/sv0jSaI2CFm/IfKk8yus1L3JZJZkoEpAXQx0yKuHVr0fhRHP9TQauBi58Qp+kKzY8X6F/LtbwEfgdjRPj2IGBpSnMi+P/7X/FeqF+FK8DYKrrg3cCxcUe18rSYh55iXVkMU0ejiCNyq64uLRYtH/WTFsnlNcpb2aIN2TYV6vRHFcvarJitQJDjro8ZQneloPEDDT55DAdarRson92IPLVlLUcxG4i71ZaF0hLT1iX3v19cgtxQs+sDmAuMdOTsTQEQKPi3Q86hjcNM2v/Ehsd1eYJszBDCXmgPfSL/tHuSSa1P/zEksBXa7Sh4xsTD9etMXSfSm5d9DrfkwR5OFh21G7Y4kaH0LoCfTa6zeT9K/gnp84ZZQ+0hF1nbo0Ne8ChjTXZY4yND7UbOSUEHZu07ex0lNbCZUnz0WKniNkDsWRJkm817y1iGdkXKExY3fBWSdbKGms8lWDJwhDROiEsjd0gXM7ZlYeL/9zrmdEQUUTGiAKgVyWgkV5IP58D1XqGHOtijHxlMxtycEM93k1I8TUqtdWc6Har7A5U5v7jRqBHJEx1DSWx9Hpw7f2sHC20fmypokTYD2A4l0JUpDf5ScL0vhY6dc38/IAabmKJ/M+1Y9nAWUQ4VYe3eNyhXWPgNVpy2jGUJme7lEn8ar883GzLWrFjl/dM9bUQ5NWb8Y+4RV5tOOPECEpyrFYHVNhPfse0wap3nggHNN2xEJOu7ux/FVgYCdHE8ClMOQaCD4Bwws0hQZCh21+TVYuUMQAzGy0L1zfrCnsxqousTJAhAQsjYoBcoxkC0LDXkUFWXGFVyttr6l//5iQO4frMJ/0SqJmSlW9YW+pXkwPUtlUdqkbq9mpp+qb1iG5S3N8+AaNP0Lblqgor/MWXfr1i5+aeY7aDekuxlt9olvSK838DAYqEWGczwtG8spGK9S5oJ/qrYTcIM5CrNVFNmBKWSeUYWzwc6tq8K0JVk7Tuoqtp6SCAM4KLCizIam8u7b8yiSGhTOoXjEoO2mlzAgZq1jRV2RYgvwbWJ6SbnGRoGglQRpArrD7XsE6JCpiRK/ixVsXv43EFeTxn5wWsKx4jbtb9IRgWMxeH2Gz9tbKJXQ6E0lNkObYK7FBOGrXmeeaAEG50NJAg0tT4DdZCRmUEs5nMux8xKHqs6bkoYOYZq1b5asRWyuba1x16Te4vA0Bpktb3OqGee/0yDxnPJmmXXAJBgNTAwbQQ5kBi3/AZDUe9kD2Ei8r2UuVqpVysJMulFsTQ2prbCq0wSlgyr9inypitNq/fJ+8BJT0A4TJhTWIO7020SSCuxDYoIXyJ9DyDrnjTSKHlQX+Kh3NnmtzRrg9lTMTa3wOXV1GvchhOjfIjpb3cnfI87wojVcOFM1ojRT8fNltZtk6zO7K2salf+gxI1olQHVnu5iLscGXmwofbA+O8zzwI5bYqpK1zFuVApnVZM9CWpiT5Dss2gpBW3XgqY7qIVcbNEc5VfeNeueCnkbSdyoKXAwVkPfZjHX8jGWHeH8yjAkQwzQGU2M2/J6S5TgLJc/ioguL3rnx8rQFN/wyA29QfqO6iLBAEXKDrzXw2GpEEDVRShJissT0Z3XLW+p/BAQIzAHA759O5sZIyOVwRwRSCwldnkhffF6cz4DGDIOsk6knlZU6z7SZ177xD1uI3x7S8n504VfX1IF5t3phSDUsuvDW42cyqsfN6A5T4o8bNv+F7CmPbZ5s3qhgEwxkSKm3zJFjsjhbrnryVEXZ0WPZKjbJJcDUnAD5IZF7E4SP+Twn5vLJZHdamOmVkael0mdSXHrZrT6pY6Fg/G3qezeNiaskXEICFjtWcDCBpQBX7wTsdzWgIPsLmm2V3W+/Iye/ojcaombeNdJn6zRV7DM4h2ROb30TAu525WQRQWhk/PMuBTapSJCqGwiIcfI4/VAR7Jtb7VyB+fHwW3bpEmRsdNB6nA3L0wk9uwFNeHcbsyVO1csW8OoIG+jAms8AaD+4mM7mVJHAiD803j20mIGARKxpCXwV5SzJfoFw5HNllw88iseTLNIuPn6pLizJyWnueTHRSNil6TNBMh/hPfm9GbUjiVjaKQp9Rrd6iL4HUf3nrbqxU7wO4rlHi7ZsFaO3zvImModZ6CI9sHNZLxvVaESKUbfZD6EHqEQVggWi/dQ+8h86PXzPfWKIgiS8Z6UBLUfiThJkKuxMN1saMs9uytQDZapYeot4emNqJLgk+duurmRo1d0ZYmpb+ghc56dd79weKDGSW1FONPiE5K0RyFJBpE7Jh3/90beae+wJCC1mSOA5pNM966keQ/Oz+cKprq/8IzUUlIFYq0J3WElzo/tTlAUtKY0IhM1pKaE/YsX+j8g2R8hgiwyJ7WKRuu2FmwEfoghOwLERFoZWr64Wbq/HrdxoSlajZtav6brmHfneO9Q6x27Ut5870ZLIXS7EvDv7aiEDaZeLruj4LiX8NkGfzPj3z7ytGcg/DXCX7lrKdX9JsrYF1GN9W5feRDk0aD3SlPsvODaz9nAEyYf6XP/cO08zdskC5w/HL3hMbBJH4Rynyu9eqUNa78vsDQgc6W8i9KoCLFFJfpc/yNVWMf1Sr3/C3miWGBM4qNKJb62dWjjpkWkBO1HM09wiVeYjUsX5QVSo5GgTYArclJpAEN3uiqlEDgziqPCBvTY/WmSDGzyktdWEjw5uQeHtE+XJUkRqK771cmgAS69CiJK3pbNTijGCi1bY8KffDhxkCmjKCf47qpp9q4iBtJ5HeEN3ZsaITAse/KzQuIwhK2JKAWf9/B6Ug3pKYqDDwrGn7sIK6zuhstWRdwISSXI5P5+lvlbG/rQF0hh+y2OQKdz/1v8PvT93zMUYbdEPSspNoikC4ZR4M678x2KfUptZnG8kw6ZhehVJmHWHbJ5M31eIjfG3RX6FyTJHGa1nbTBvBSk4DNfACsq0JVkeiM/nYxa2f+im7x2x6TR6HEW9TsuYmYVQDJlWbns8MD90jiEcHM6TwTd7xZr0sgHQsvtIJAsXKlivirUUfDsglmw29RggYEpcTZwrNzbwkpf5HeiLi9WqDgVyQKfg/+t4wt7q4pQS/Ggao9joEOGwk7XvwP3DoGjUKv3bQYBIyKlI2N7zdKiAglX4l+EV7XbrcUK5pWCp/yXBWt/mMY/FOKQE44RpOmCBJCO4HzMUesmfxlG0gVWIivaaFKFeCmHa7EuGwBaVxTzXQT+QCLVJDLxSNjT5sI8Tm+DtA+6DIvUIDB+qrVakzA211+mi3YNt2wY5LVfhmMcOHkxuW1DSxVApfLRYdwvZkjotBC/wmjCvVyHDoYqlBU7qQLtuQG56bk/23sdUgSg7pMLaq7WAN848aAqut7VIHpPuN00uinZRW/vlRm829duHWSNMIY8V8ux21csUA9SMIXiGn2UKL/FGYJ2JFN1uYB4vXAJjVqdopit3AW8B8rPDDmT0nLTeNQ2HVy0iVOIvSTQ4ZL+8+n94yQwt4YICyfRsSZYQouWxzYyP6uLS6PP5Pqjmgu5yFchslZRtxNZQLg6nSjl7DkB/v74NsPLmH4skY4U8RIxWTZGAcJJeqXjllKRN28btEMsIh721AQ1DipQWsD9KgSNKPGO9KRGH2ZEkDhBWccIFevWem8ZQ6tK49VXMhclg20Pb/4MQkABWxF38Rqk69SPjwkE4AghAtDvmHeIt1RKK+BP39L0joJim83a+yrholoAUg3hEd2yYdgr9YlRKN4468djzHNZQruOD4K7+IjEOjNwQnZpJwkkkoFKgr81hIOuWX5JVZnFVpEQP7lNFTnGQrdaTdVCdth5w/zAsJUCrle76mYJuMXKK4dQryMAPrUy8w34NU2yYnkdYSytCl8RopbFvyx3RmO4z82Sx+czFwGPtfW5ML750Pyj1pXTKDF7KzolQ9kOXGFJhe1HLvn8SHvrnAQBagMC1QfG2dP/pERiDidNSasxQw2Eq/5lAmEqXfJq6SNkeT5b/Bm4QleW4YlGNkJo7CVfPpcDBQajn30vxwB4Q/38xf2eqR6i6vo6LnfiX47FBvmH3gHOLyLbiP0Ovm1E05xHFf6WGYbmyuSdthyYzz6XHixG/8Hvrfxr8T+IL+H6RKXc4Ajl380AqGKzzffm/7wrfYd5JxRoeYszg4Png2/y+NA6r7nv+8O+Cl+uPZsQY/TG2NnuvLF0ge+bz82/ajZgOhDQLi3/ur/opdxGsYUVKXWeW60ShChTFzKSyeeBOewBVbCdni890Pldi5ZM8ji6h0/1JT4bED8FF4aX6B8WGR+9EO580aK6gXMUH9s+Y9/4rLtHCVbmq0Lbv+98ldhvrnQ4FsWKwoZw/AgiTm6XbmWuOrBI8x7vpkkb4I0R+r9T72hHobk06Fi01DGdszQP9H7ePnfyGq5oTLcevH/r0d57Hcc63p+LuRqoRmhe+XYU40P8S/8DdJ/Zivqiy9VyZU31PJB7zw4C8Ex63H1p44wRTltHtxudvd+Eb5sOVPNpapwWMgdlMIVKtUsLVIMiKLSngEOlF380qiDAeGEB6G4sOLib0IS3lXzYkiLIzIcsTMOYJ3FPHVz+Em1oj6rUhlBJlorfLP9lXHVUibfR/DwZcPrpEUNVk1gUIXEHkJks2kdX5JjAhLPwO6PxUkhE/aWFZxdTZgyYp9RDJEht2UQU2Mj9WJgoavkO5wTPGxCXOGGWB09Vj/TN4kmA7fZpMlPKIan9FvaQFaXTMCCM78ZkKp5koaQVRfGDlWNHJ5SQeKkCQL2hUO15to7CgQw9YDD6UxdPUSMTH6/ivLJfTejjwVULj50jg2FOjty2exgAbtk6fFnYJ1wwTal4KvqEecmr9M0KUyc+jUX0tAZfJhMhzFs8y1pb9dbir//iBbsss2f89A9k1OnnV6OgldfHsoE8sGm3pyvvDOMILqq3yXvhISoMHEIH5hyAcsJOBGAA2GO1HneLrFShbUoqHjb0sW0BJblCBJnGJxcixjy5YcAAAk1D0pEXsY68DTInsAUiN4lzjRidJh0hR7qAI5oHy1h+mMJF+KsYGZJY2C08msDaA02iln80BTf96LpvR5DtXiPUSV6YunZWvzjbE4LL9MpYa9OgqBmeXsWoJRsCDMuXndFDhhcyjjSyJWz12VZUtznOB6A0i3IfL6FtyAhNTjnZZ/YetVsSyN6kneMRZRJXmzTnj8q90RqSyt/aoZ2k4fQpt9sk1k3PFJgpiLsT+FxOWui+ZjeIDuujnwkX483rj4uRwP+SsV9DnPiTC2ngcDJkSdkghZUDnr1FgElNhDTTzruWd+rgBgdEkz84NOuX8lMEl61Hn801JuLXkPrY5IokObim4Aeaw0klh1P7WcJYUbQR6Gc3Wz2EAEb8DZ1B50t2Lku8aVKRUKB/B/kGgQLYWlnSlJjNimyjQxCDe7MIYLXJ2Kz/4hJHhFalRBNJroQ7fS7db/BcZEZX6pGr6kTCVEP61wiHdlkddRH4ldbqa60eEpLLDMPs+kRel3Y6MRUdMB8iuyo6Y/iT+SVdWWY/N6OgYPN4MkGlsraMeNb+7WeqrkcvbHiXEdkZfRCI6GD4FnXx7C0l6ViAQaOmNceC/TM20DBCTmfseqv3g8Ma+YgzfAt85+Rq1f7reE/Jvj3OGMBx5MO4pZGsKK/j5tpr2wYn8Ima15L/JQU4JqaHSHv/xv1YQtJ++xGHE0ehUz84R1PdFwxQ5P9BxdxcLGl1yBZ/5YN4Ux2MzinzLnXisAYxgAC25SW+iT0uaCXhLDnmnPVUopLE+jIWTNL3DhjH8OoHHV/T51WpgpGEkFElwo3EJB4LrzWhSnL1kn7MEomjP2eBF9afQ4kPaGDAA8ItYmydXMEozNbltgz+VdpMhVxwq5UJXwMcSC2YB5yINJJDXOtdeDH3x+ywYDANrDtfr3XQHWizDUgISKSmhH6l/adw1JJtt0wq5Rc1G/t8O4BJ2mqui82KPwF0XRTC/wkcBfA4lu0AB/EiIk/Gji11pCw+4Pk3ek0sUHg/pHGNBz7M1ssydB8gRs/ptXV4yz64AoNkgRRK5uzsP6kg55hYg3lwqv6klBr7GnO4KJxXFo6Q7HWsjWeQMkVGYH798iMB1xxtLnnLnZ3e7W9lmydHb/wiWYIUpZQZvk5VSem5d//4ERmvQeWA2k8w+4zmoHBa3DnjRLcBQYQxFrWakg55m4owXpJM2hgAAAAAAAAAAAAAAAAEVYSUa6AAAARXhpZgAASUkqAAgAAAAGABIBAwABAAAAAQAAABoBBQABAAAAVgAAABsBBQABAAAAXgAAACgBAwABAAAAAgAAABMCAwABAAAAAQAAAGmHBAABAAAAZgAAAAAAAABIAAAAAQAAAEgAAAABAAAABgAAkAcABAAAADAyMTABkQcABAAAAAECAwAAoAcABAAAADAxMDABoAMAAQAAAP//AAACoAQAAQAAANACAAADoAQAAQAAAJMBAAAAAAAA)"
      ],
      "metadata": {
        "id": "8TnJtFO0Urwx"
      }
    },
    {
      "cell_type": "code",
      "source": [
        "class TimeSeriesTransformer(tf.keras.Model):\n",
        "\n",
        "  \"\"\"\n",
        "  This class implements a transformer model that can be used for times series\n",
        "  forecasting. This time series transformer model is based on the paper by\n",
        "  Wu et al (2020) [1]. The paper will be referred to as \"the paper\".\n",
        "\n",
        "  A detailed description of the code can be found in my article here:\n",
        "\n",
        "  https://towardsdatascience.com/how-to-make-a-pytorch-transformer-for-time-series-forecasting-69e073d4061e\n",
        "\n",
        "  Github repositary:\n",
        "  https://github.com/KasperGroesLudvigsen/influenza_transformer/blob/main/transformer_timeseries.py\n",
        "\n",
        "  \"\"\"\n",
        "  def __init__(self, input_size: int, dec_seq_len: int, batch_first: bool, out_seq_len: int=58,\n",
        "                dim_val: int=512,vn_encoder_layers: int=4, n_decoder_layers: int=4,\n",
        "                n_heads: int=8,\n",
        "                dropout_encoder: float=0.2,\n",
        "                dropout_decoder: float=0.2,\n",
        "                dropout_pos_enc: float=0.1,\n",
        "                dim_feedforward_encoder: int=2048,\n",
        "                dim_feedforward_decoder: int=2048,\n",
        "                num_predicted_features: int=1,\n",
        "                **kwargs):\n",
        "\n",
        "    \"\"\"\n",
        "    Args:\n",
        "\n",
        "        input_size: int, number of input variables. 1 if univariate.\n",
        "\n",
        "        dec_seq_len: int, the length of the input sequence fed to the decoder\n",
        "\n",
        "        dim_val: int, aka d_model. All sub-layers in the model produce\n",
        "                  outputs of dimension dim_val\n",
        "\n",
        "        n_encoder_layers: int, number of stacked encoder layers in the encoder\n",
        "\n",
        "        n_decoder_layers: int, number of stacked encoder layers in the decoder\n",
        "\n",
        "        n_heads: int, the number of attention heads (aka parallel attention layers)\n",
        "\n",
        "        dropout_encoder: float, the dropout rate of the encoder\n",
        "\n",
        "        dropout_decoder: float, the dropout rate of the decoder\n",
        "\n",
        "        dropout_pos_enc: float, the dropout rate of the positional encoder\n",
        "\n",
        "        dim_feedforward_encoder: int, number of neurons in the linear layer\n",
        "                                  of the encoder\n",
        "\n",
        "        dim_feedforward_decoder: int, number of neurons in the linear layer\n",
        "                                  of the decoder\n",
        "\n",
        "        num_predicted_features: int, the number of features you want to predict.\n",
        "                                Most of the time, this will be 1 because we're\n",
        "                                only forecasting FCR-N prices in DK2, but in\n",
        "                                we wanted to also predict FCR-D with the same\n",
        "                                model, num_predicted_features should be 2.\n",
        "      \"\"\"\n",
        "    super(TimeSeriesTransformer.self).__init__()\n",
        "\n",
        "    self.dec_seq_len = dec_seq_len\n",
        "    # Creating the three linear layers needed for the model\n",
        "\n",
        "\n",
        "\n",
        "\n",
        "\n",
        "\n",
        "\n",
        "\n",
        "\n",
        "\n",
        "\n",
        "\n",
        "\n",
        "\n",
        "\n",
        "\n",
        "\n",
        "\n",
        "\n",
        "\n",
        "\n",
        "\n",
        "\n"
      ],
      "metadata": {
        "id": "yvsIwcFfquY7"
      },
      "execution_count": 54,
      "outputs": []
    },
    {
      "cell_type": "code",
      "source": [],
      "metadata": {
        "id": "d7ctPuC4quV_"
      },
      "execution_count": 54,
      "outputs": []
    },
    {
      "cell_type": "code",
      "source": [],
      "metadata": {
        "id": "F8orqUl5quS3"
      },
      "execution_count": 54,
      "outputs": []
    },
    {
      "cell_type": "code",
      "source": [],
      "metadata": {
        "id": "vvVPNnoSquPv"
      },
      "execution_count": 54,
      "outputs": []
    },
    {
      "cell_type": "code",
      "source": [
        "x"
      ],
      "metadata": {
        "id": "jj57JYqjquMj",
        "colab": {
          "base_uri": "https://localhost:8080/"
        },
        "outputId": "b53c5b0b-93e3-4c2d-f414-0cfa8f01a792"
      },
      "execution_count": 59,
      "outputs": [
        {
          "output_type": "execute_result",
          "data": {
            "text/plain": [
              "array([[[0., 0.],\n",
              "        [0., 0.],\n",
              "        [0., 0.],\n",
              "        [0., 0.],\n",
              "        [0., 0.]],\n",
              "\n",
              "       [[0., 0.],\n",
              "        [0., 0.],\n",
              "        [0., 0.],\n",
              "        [0., 0.],\n",
              "        [0., 0.]],\n",
              "\n",
              "       [[0., 0.],\n",
              "        [0., 0.],\n",
              "        [0., 0.],\n",
              "        [0., 0.],\n",
              "        [0., 0.]]])"
            ]
          },
          "metadata": {},
          "execution_count": 59
        }
      ]
    },
    {
      "cell_type": "code",
      "source": [
        "x = np.zeros((3, 5, 2), dtype=np.float)\n",
        "x.size()"
      ],
      "metadata": {
        "id": "XEGFdmHK3_mE",
        "colab": {
          "base_uri": "https://localhost:8080/",
          "height": 194
        },
        "outputId": "e1167582-2115-4bde-84f6-9beeb4a03240"
      },
      "execution_count": 58,
      "outputs": [
        {
          "output_type": "error",
          "ename": "TypeError",
          "evalue": "ignored",
          "traceback": [
            "\u001b[0;31m---------------------------------------------------------------------------\u001b[0m",
            "\u001b[0;31mTypeError\u001b[0m                                 Traceback (most recent call last)",
            "\u001b[0;32m<ipython-input-58-521422540af7>\u001b[0m in \u001b[0;36m<cell line: 2>\u001b[0;34m()\u001b[0m\n\u001b[1;32m      1\u001b[0m \u001b[0mx\u001b[0m \u001b[0;34m=\u001b[0m \u001b[0mnp\u001b[0m\u001b[0;34m.\u001b[0m\u001b[0mzeros\u001b[0m\u001b[0;34m(\u001b[0m\u001b[0;34m(\u001b[0m\u001b[0;36m3\u001b[0m\u001b[0;34m,\u001b[0m \u001b[0;36m5\u001b[0m\u001b[0;34m,\u001b[0m \u001b[0;36m2\u001b[0m\u001b[0;34m)\u001b[0m\u001b[0;34m,\u001b[0m \u001b[0mdtype\u001b[0m\u001b[0;34m=\u001b[0m\u001b[0mnp\u001b[0m\u001b[0;34m.\u001b[0m\u001b[0mfloat\u001b[0m\u001b[0;34m)\u001b[0m\u001b[0;34m\u001b[0m\u001b[0;34m\u001b[0m\u001b[0m\n\u001b[0;32m----> 2\u001b[0;31m \u001b[0mx\u001b[0m\u001b[0;34m.\u001b[0m\u001b[0msize\u001b[0m\u001b[0;34m(\u001b[0m\u001b[0;34m)\u001b[0m\u001b[0;34m\u001b[0m\u001b[0;34m\u001b[0m\u001b[0m\n\u001b[0m",
            "\u001b[0;31mTypeError\u001b[0m: 'int' object is not callable"
          ]
        }
      ]
    },
    {
      "cell_type": "code",
      "source": [
        "fig, ax = plt.subplots(figsize=(22,6))\n",
        "train_ts_final.loc[\"1991-06-23\",\"02_SB\"].plot(ax=ax);"
      ],
      "metadata": {
        "id": "3LTHivGcB1LN"
      },
      "execution_count": null,
      "outputs": []
    },
    {
      "cell_type": "code",
      "source": [
        "df_train = train_ts_final.copy()\n",
        "\n",
        "df_train.reset_index(drop=True,inplace=True)\n",
        "df_train.reset_index(inplace=True)\n",
        "\n",
        "df_train.rename(mapper={\"index\":\"time_id\"}, axis=1, inplace=True)\n"
      ],
      "metadata": {
        "id": "0IktLiRV4HVs"
      },
      "execution_count": null,
      "outputs": []
    },
    {
      "cell_type": "code",
      "source": [
        "max_prediction_length = 36\n",
        "training_cutoff = df_train[\"time_id\"].max() - max_prediction_length\n",
        "max_encoder_length=512\n",
        "\n",
        "training = TimeSeriesDataSet(\n",
        "    df_train[lambda x: x[\"time_id\"] <= training_cutoff],\n",
        "    time_idx=\"time_id\",\n",
        "    target=list_labels,\n",
        "    min_encoder_length=0,\n",
        "    max_encoder_length=max_encoder_length,\n",
        "    min_prediction_length=1,\n",
        "    max_prediction_length=max_prediction_length,\n",
        "    static_categoricals=[],\n",
        "    static_reals = [],\n",
        "    time_varying_known_categoricals=None,\n",
        "    time_varying_known_reals=temporal_known_features,\n",
        "    time_varying_unknown_reals=list_labels,\n",
        "    add_relative_time_idx=True,\n",
        "    add_target_scales=True,\n",
        "    add_encoder_length=True,\n",
        "    allow_missing_timesteps=True,\n",
        "    group_ids=[\"time_id\"]\n",
        " )"
      ],
      "metadata": {
        "id": "eQmPpkqQ8v3S"
      },
      "execution_count": null,
      "outputs": []
    },
    {
      "cell_type": "code",
      "source": [],
      "metadata": {
        "id": "do6P5ZK-QzSG"
      },
      "execution_count": null,
      "outputs": []
    }
  ]
}